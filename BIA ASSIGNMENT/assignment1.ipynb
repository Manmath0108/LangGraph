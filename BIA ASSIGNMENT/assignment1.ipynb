{
 "cells": [
  {
   "cell_type": "markdown",
   "id": "ea2e74ee",
   "metadata": {},
   "source": [
    "### ASSIGNMENT - 1\n",
    "### Create a Personal Assistant Agent that can:\n",
    "    - Have basic conversations\n",
    "    - Remember user's name and preferences across sessions\n",
    "    - Perform simple calculations\n",
    "    - Tell current time/date"
   ]
  },
  {
   "cell_type": "code",
   "execution_count": 27,
   "id": "2dd5050d",
   "metadata": {},
   "outputs": [
    {
     "name": "stdout",
     "output_type": "stream",
     "text": [
      "All Imports Succesfull\n"
     ]
    }
   ],
   "source": [
    "from typing import Annotated, List, Dict, Any\n",
    "from typing_extensions import TypedDict\n",
    "from langgraph.graph import START, END, StateGraph\n",
    "from langgraph.graph.message import add_messages\n",
    "from langchain_openai import ChatOpenAI\n",
    "from langchain_core.messages import HumanMessage, AIMessage\n",
    "from langgraph.checkpoint.memory import MemorySaver\n",
    "\n",
    "print(\"All Imports Succesfull\")"
   ]
  },
  {
   "cell_type": "code",
   "execution_count": 28,
   "id": "fc932feb",
   "metadata": {},
   "outputs": [],
   "source": [
    "class State(TypedDict):\n",
    "    messages: Annotated[List, add_messages]"
   ]
  },
  {
   "cell_type": "code",
   "execution_count": 29,
   "id": "5949a5b8",
   "metadata": {},
   "outputs": [],
   "source": [
    "def route(state: State) -> str:\n",
    "    last_message = state['messages'][-1].content.lower()\n",
    "    if any(word in last_message for word in ['+', '-', '/', '*']):\n",
    "        return \"calculate\"\n",
    "    elif any(word in last_message for word in ['date', 'time']):\n",
    "        return \"date_time\"\n",
    "    else:\n",
    "        return \"__end__\""
   ]
  },
  {
   "cell_type": "code",
   "execution_count": 30,
   "id": "83ccd6eb",
   "metadata": {},
   "outputs": [],
   "source": [
    "llm = ChatOpenAI(model=\"gpt-4o-mini\")"
   ]
  },
  {
   "cell_type": "code",
   "execution_count": 31,
   "id": "9347d7c1",
   "metadata": {},
   "outputs": [],
   "source": [
    "def chatbot_node(state: State) -> Dict[str, Any]:\n",
    "    messages = state['messages']\n",
    "    response = llm.invoke(messages)\n",
    "    return {\"messages\": [response]}"
   ]
  },
  {
   "cell_type": "code",
   "execution_count": 32,
   "id": "8173d73c",
   "metadata": {},
   "outputs": [],
   "source": [
    "def calculator(state: State) -> Dict[str, Any]:\n",
    "    exp = state['messages'][-1].content.lower()\n",
    "    try:\n",
    "        response = eval(exp)\n",
    "        reply = f\"The answer is {str(response)}\"\n",
    "    except Exception as e:\n",
    "        reply = \"Sorry Could not calculate\"\n",
    "    return {\"messages\": [AIMessage(content=reply)]}"
   ]
  },
  {
   "cell_type": "code",
   "execution_count": 33,
   "id": "88e2737f",
   "metadata": {},
   "outputs": [],
   "source": [
    "import datetime\n",
    "def date_time(state: State) -> Dict[str, Any]:\n",
    "    user_msg = state['messages'][-1].content.lower()\n",
    "    now = datetime.datetime.now()\n",
    "\n",
    "    if \"time\" in user_msg:\n",
    "        reply = f\"The current time is {now.strftime('%H:%M:%S')}\"\n",
    "    elif \"date\" in user_msg:\n",
    "        reply = f\"Today's date is {now.strftime('%Y-%m-%d')}\"\n",
    "    else:\n",
    "        reply = \"I can tell you the current time or date if you ask.\"\n",
    "    \n",
    "    return {\"messages\": [AIMessage(content=reply)]}\n"
   ]
  },
  {
   "cell_type": "code",
   "execution_count": 34,
   "id": "4cca5cc9",
   "metadata": {},
   "outputs": [],
   "source": [
    "graph = StateGraph(State)\n",
    "graph.add_node(\"chatbot_node\", chatbot_node)\n",
    "graph.add_node(\"calculator_node\", calculator)\n",
    "graph.add_node(\"date_time_node\", date_time)\n",
    "\n",
    "graph.add_edge(START, \"chatbot_node\")\n",
    "graph.add_conditional_edges(\n",
    "    \"chatbot_node\",\n",
    "    route,\n",
    "    {\n",
    "        \"calculate\": \"calculator_node\",\n",
    "        \"date_time\": \"date_time_node\",\n",
    "        \"__end__\": END\n",
    "    }\n",
    ")\n",
    "graph.add_edge(\"calculator_node\", END)\n",
    "graph.add_edge(\"date_time_node\", END)\n",
    "graph.add_edge(\"chatbot_node\", END)\n",
    "\n",
    "app = graph.compile(checkpointer=MemorySaver())"
   ]
  },
  {
   "cell_type": "code",
   "execution_count": 35,
   "id": "c5c5c0e6",
   "metadata": {},
   "outputs": [
    {
     "data": {
      "image/png": "[encoded data removed]",
      "text/plain": [
       "<IPython.core.display.Image object>"
      ]
     },
     "metadata": {},
     "output_type": "display_data"
    }
   ],
   "source": [
    "from IPython.display import Image, display\n",
    "\n",
    "try:\n",
    "    display(Image(app.get_graph().draw_mermaid_png()))\n",
    "except Exception as e:\n",
    "    print(e)"
   ]
  },
  {
   "cell_type": "code",
   "execution_count": 36,
   "id": "292351b9",
   "metadata": {},
   "outputs": [],
   "source": [
    "def test(user_input, thread_id):\n",
    "    config = {\"configurable\": {\"thread_id\": thread_id}}\n",
    "    state: State = {\n",
    "        \"messages\": [HumanMessage(content=user_input)]\n",
    "    }\n",
    "    state = app.invoke(state, config=config)\n",
    "    for m in state['messages']:\n",
    "        print(m.__class__.__name__, \":\", m.content)"
   ]
  },
  {
   "cell_type": "code",
   "execution_count": 37,
   "id": "c0677ba8",
   "metadata": {},
   "outputs": [
    {
     "name": "stdout",
     "output_type": "stream",
     "text": [
      "HumanMessage : hi\n",
      "AIMessage : Hello! How can I assist you today?\n"
     ]
    }
   ],
   "source": [
    "test('hi', 'demo-001')"
   ]
  },
  {
   "cell_type": "code",
   "execution_count": 38,
   "id": "db239a56",
   "metadata": {},
   "outputs": [
    {
     "name": "stdout",
     "output_type": "stream",
     "text": [
      "HumanMessage : hi\n",
      "AIMessage : Hello! How can I assist you today?\n",
      "HumanMessage : what was my last question?\n",
      "AIMessage : Your last question was, \"hi.\" How can I help you further?\n"
     ]
    }
   ],
   "source": [
    "test('what was my last question?', 'demo-001')"
   ]
  }
 ],
 "metadata": {
  "kernelspec": {
   "display_name": "ai_agents",
   "language": "python",
   "name": "python3"
  },
  "language_info": {
   "codemirror_mode": {
    "name": "ipython",
    "version": 3
   },
   "file_extension": ".py",
   "mimetype": "text/x-python",
   "name": "python",
   "nbconvert_exporter": "python",
   "pygments_lexer": "ipython3",
   "version": "3.11.13"
  }
 },
 "nbformat": 4,
 "nbformat_minor": 5
}
