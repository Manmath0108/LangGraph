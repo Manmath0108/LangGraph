{
 "cells": [
  {
   "cell_type": "code",
   "execution_count": 1,
   "id": "55c64365",
   "metadata": {},
   "outputs": [
    {
     "name": "stdout",
     "output_type": "stream",
     "text": [
      "Enviroment setup completed.\n"
     ]
    }
   ],
   "source": [
    "import os\n",
    "import getpass\n",
    "from typing import Annotated, Dict, List, Any\n",
    "from typing_extensions import TypedDict\n",
    "\n",
    "def setup_environment():\n",
    "    \"\"\"Setup your API Keys\"\"\"\n",
    "    if not os.environ.get(\"OPENAI_API_KEY\"):\n",
    "        openai_key = getpass.getpass(\"Enter your OpenAI API Key: \")\n",
    "        os.environ[\"OPENAI_API_KEY\"] = openai_key\n",
    "    if not os.environ.get(\"LANGSMITH_API_KEY\"):\n",
    "        langsmith_key = getpass.getpass(\"Enter your LangSmith API Key: \")\n",
    "        if langsmith_key:\n",
    "            os.environ[\"LANGSMITH_API_KEY\"] = langsmith_key\n",
    "            os.environ[\"LANGCHAIN_TRACING_V2\"] = \"true\"\n",
    "            os.environ[\"LANGCHAIN_PROJECT\"] = \"LangGraph Basic\"\n",
    "        else:\n",
    "            print(\"LangSmith API Key not provided. Tracing will not be enabled.\")\n",
    "            \n",
    "    print(\"Enviroment setup completed.\")\n",
    "\n",
    "setup_environment()\n"
   ]
  },
  {
   "cell_type": "code",
   "execution_count": 2,
   "id": "73201b4b",
   "metadata": {},
   "outputs": [],
   "source": [
    "from langgraph.graph import StateGraph, START, END\n",
    "from langgraph.graph.message import add_messages\n",
    "from langchain_core.messages import HumanMessage, AIMessage\n",
    "\n",
    "class State(TypedDict):\n",
    "    # messages will store our converstaion history\n",
    "    # add_messages is a special function that appends new message instead of replacing them\n",
    "    messages: Annotated[list, add_messages]"
   ]
  },
  {
   "cell_type": "code",
   "execution_count": 3,
   "id": "dbc12f37",
   "metadata": {},
   "outputs": [
    {
     "data": {
      "text/plain": [
       "'Hello! How can I assist you today?'"
      ]
     },
     "execution_count": 3,
     "metadata": {},
     "output_type": "execute_result"
    }
   ],
   "source": [
    "from langchain_openai import ChatOpenAI\n",
    "llm = ChatOpenAI(\n",
    "    model = \"gpt-4o\",\n",
    "    temperature = 0.7\n",
    ")\n",
    "llm.invoke(\"Hi\").content"
   ]
  },
  {
   "cell_type": "code",
   "execution_count": 4,
   "id": "cc5e7f2a",
   "metadata": {},
   "outputs": [],
   "source": [
    "def chatbot_node(state: State) -> Dict[str, Any]:\n",
    "    messages = state['messages']\n",
    "    response = llm.invoke(messages)\n",
    "    return {\"messages\": [response]}"
   ]
  },
  {
   "cell_type": "code",
   "execution_count": 5,
   "id": "e7701dfa",
   "metadata": {},
   "outputs": [],
   "source": [
    "graph_builder = StateGraph(State)\n",
    "graph_builder.add_node(\"chatbot\", chatbot_node)\n",
    "graph_builder.add_edge(START, \"chatbot\")\n",
    "graph_builder.add_edge(\"chatbot\", END)\n",
    "\n",
    "simple_chatbot = graph_builder.compile()"
   ]
  },
  {
   "cell_type": "code",
   "execution_count": 6,
   "id": "c052545b",
   "metadata": {},
   "outputs": [],
   "source": [
    "initial_state = {\n",
    "    \"messages\": [HumanMessage(content=\"Hello! My name is Manmath. What is your name?\")]\n",
    "}\n",
    "\n",
    "result = simple_chatbot.invoke(initial_state)"
   ]
  },
  {
   "cell_type": "code",
   "execution_count": 7,
   "id": "1d22cfab",
   "metadata": {},
   "outputs": [
    {
     "data": {
      "text/plain": [
       "[HumanMessage(content='Hello! My name is Manmath. What is your name?', additional_kwargs={}, response_metadata={}, id='66341326-910b-4836-b9d3-78b9bd8cf7ae'),\n",
       " AIMessage(content=\"Hello Manmath! I'm an AI language model created by OpenAI, and I don't have a personal name like a human does. You can call me Assistant. How can I assist you today?\", additional_kwargs={'refusal': None}, response_metadata={'token_usage': {'completion_tokens': 39, 'prompt_tokens': 20, 'total_tokens': 59, 'completion_tokens_details': {'accepted_prediction_tokens': 0, 'audio_tokens': 0, 'reasoning_tokens': 0, 'rejected_prediction_tokens': 0}, 'prompt_tokens_details': {'audio_tokens': 0, 'cached_tokens': 0}}, 'model_name': 'gpt-4o-2024-08-06', 'system_fingerprint': 'fp_46bff0e0c8', 'id': 'chatcmpl-C6JZV5xPdSB4UG1nkAqoPLjcmD16G', 'service_tier': 'default', 'finish_reason': 'stop', 'logprobs': None}, id='run--0bdf2ae1-d93e-45f9-90f2-c88d604e92ab-0', usage_metadata={'input_tokens': 20, 'output_tokens': 39, 'total_tokens': 59, 'input_token_details': {'audio': 0, 'cache_read': 0}, 'output_token_details': {'audio': 0, 'reasoning': 0}})]"
      ]
     },
     "execution_count": 7,
     "metadata": {},
     "output_type": "execute_result"
    }
   ],
   "source": [
    "result['messages']"
   ]
  },
  {
   "cell_type": "code",
   "execution_count": 8,
   "id": "9878931d",
   "metadata": {},
   "outputs": [
    {
     "name": "stdout",
     "output_type": "stream",
     "text": [
      "User: Hello! My name is Manmath. What is your name?\n",
      "AI: Hello Manmath! I'm an AI language model created by OpenAI, and I don't have a personal name like a human does. You can call me Assistant. How can I assist you today?\n"
     ]
    }
   ],
   "source": [
    "for i, message in enumerate(result['messages']):\n",
    "    if isinstance(message, HumanMessage):\n",
    "        print(f\"User: {message.content}\")\n",
    "    if isinstance(message, AIMessage):\n",
    "        print(f\"AI: {message.content}\")"
   ]
  },
  {
   "cell_type": "code",
   "execution_count": 9,
   "id": "b5d5917c",
   "metadata": {},
   "outputs": [],
   "source": [
    "def test_simple_chatbot(user_input):\n",
    "    initial_state = {\n",
    "        \"messages\": [HumanMessage(content=user_input)]\n",
    "    }\n",
    "    result = simple_chatbot.invoke(initial_state)\n",
    "    for i, message in enumerate(result['messages']):\n",
    "        if isinstance(message, HumanMessage):\n",
    "            print(f\"User: {message.content}\")\n",
    "        if isinstance(message, AIMessage):\n",
    "            print(f\"AI: {message.content}\")\n",
    "    return result"
   ]
  },
  {
   "cell_type": "code",
   "execution_count": 10,
   "id": "1c1d0d85",
   "metadata": {},
   "outputs": [
    {
     "name": "stdout",
     "output_type": "stream",
     "text": [
      "User: Who was the war secretary of the US under Abraham Lincoln?\n",
      "AI: The Secretary of War under President Abraham Lincoln was Edwin M. Stanton. He served from 1862 to 1868, following Simon Cameron, who was the Secretary of War at the beginning of Lincoln's presidency. Stanton played a crucial role during the Civil War, managing the Union Army's logistics and operations.\n"
     ]
    },
    {
     "data": {
      "text/plain": [
       "{'messages': [HumanMessage(content='Who was the war secretary of the US under Abraham Lincoln?', additional_kwargs={}, response_metadata={}, id='666598d7-03e3-48fc-ae49-ed38f0fa0408'),\n",
       "  AIMessage(content=\"The Secretary of War under President Abraham Lincoln was Edwin M. Stanton. He served from 1862 to 1868, following Simon Cameron, who was the Secretary of War at the beginning of Lincoln's presidency. Stanton played a crucial role during the Civil War, managing the Union Army's logistics and operations.\", additional_kwargs={'refusal': None}, response_metadata={'token_usage': {'completion_tokens': 62, 'prompt_tokens': 19, 'total_tokens': 81, 'completion_tokens_details': {'accepted_prediction_tokens': 0, 'audio_tokens': 0, 'reasoning_tokens': 0, 'rejected_prediction_tokens': 0}, 'prompt_tokens_details': {'audio_tokens': 0, 'cached_tokens': 0}}, 'model_name': 'gpt-4o-2024-08-06', 'system_fingerprint': 'fp_80956533cb', 'id': 'chatcmpl-C6JZXVW2pH3P3TsGitzdLpf4vq24M', 'service_tier': 'default', 'finish_reason': 'stop', 'logprobs': None}, id='run--5739d2d5-fe08-4996-98cc-31a4c51bd7b2-0', usage_metadata={'input_tokens': 19, 'output_tokens': 62, 'total_tokens': 81, 'input_token_details': {'audio': 0, 'cache_read': 0}, 'output_token_details': {'audio': 0, 'reasoning': 0}})]}"
      ]
     },
     "execution_count": 10,
     "metadata": {},
     "output_type": "execute_result"
    }
   ],
   "source": [
    "test_simple_chatbot(\"Who was the war secretary of the US under Abraham Lincoln?\")"
   ]
  },
  {
   "cell_type": "code",
   "execution_count": 11,
   "id": "1d033efd",
   "metadata": {},
   "outputs": [
    {
     "name": "stdout",
     "output_type": "stream",
     "text": [
      "User: What was my last question?\n",
      "AI: I'm sorry, but I don't have the ability to recall previous interactions or questions. Each session is independent and private. If you have a question, feel free to ask again!\n"
     ]
    },
    {
     "data": {
      "text/plain": [
       "{'messages': [HumanMessage(content='What was my last question?', additional_kwargs={}, response_metadata={}, id='d67f8cf5-8c0d-4026-8956-2f4e37abbb79'),\n",
       "  AIMessage(content=\"I'm sorry, but I don't have the ability to recall previous interactions or questions. Each session is independent and private. If you have a question, feel free to ask again!\", additional_kwargs={'refusal': None}, response_metadata={'token_usage': {'completion_tokens': 35, 'prompt_tokens': 13, 'total_tokens': 48, 'completion_tokens_details': {'accepted_prediction_tokens': 0, 'audio_tokens': 0, 'reasoning_tokens': 0, 'rejected_prediction_tokens': 0}, 'prompt_tokens_details': {'audio_tokens': 0, 'cached_tokens': 0}}, 'model_name': 'gpt-4o-2024-08-06', 'system_fingerprint': 'fp_ea40d5097a', 'id': 'chatcmpl-C6JZZcoL1rfskQN4tGC3NQKipr9Cv', 'service_tier': 'default', 'finish_reason': 'stop', 'logprobs': None}, id='run--349a88fd-fd64-4cc0-87b5-4b809cb2c316-0', usage_metadata={'input_tokens': 13, 'output_tokens': 35, 'total_tokens': 48, 'input_token_details': {'audio': 0, 'cache_read': 0}, 'output_token_details': {'audio': 0, 'reasoning': 0}})]}"
      ]
     },
     "execution_count": 11,
     "metadata": {},
     "output_type": "execute_result"
    }
   ],
   "source": [
    "test_simple_chatbot(\"What was my last question?\")"
   ]
  },
  {
   "cell_type": "code",
   "execution_count": 13,
   "id": "5d9a37e9",
   "metadata": {},
   "outputs": [
    {
     "name": "stdout",
     "output_type": "stream",
     "text": [
      "Collecting langgraph-checkpoint-sqlite\n",
      "  Downloading langgraph_checkpoint_sqlite-2.0.11-py3-none-any.whl.metadata (2.6 kB)\n",
      "Collecting aiosqlite>=0.20 (from langgraph-checkpoint-sqlite)\n",
      "  Downloading aiosqlite-0.21.0-py3-none-any.whl.metadata (4.3 kB)\n",
      "Requirement already satisfied: langgraph-checkpoint<3.0.0,>=2.0.21 in /home/manmath/miniconda3/envs/ai_agents/lib/python3.11/site-packages (from langgraph-checkpoint-sqlite) (2.1.0)\n",
      "Collecting sqlite-vec>=0.1.6 (from langgraph-checkpoint-sqlite)\n",
      "  Downloading sqlite_vec-0.1.6-py3-none-manylinux_2_17_x86_64.manylinux2014_x86_64.manylinux1_x86_64.whl.metadata (198 bytes)\n",
      "Requirement already satisfied: langchain-core>=0.2.38 in /home/manmath/miniconda3/envs/ai_agents/lib/python3.11/site-packages (from langgraph-checkpoint<3.0.0,>=2.0.21->langgraph-checkpoint-sqlite) (0.3.74)\n",
      "Requirement already satisfied: ormsgpack>=1.10.0 in /home/manmath/miniconda3/envs/ai_agents/lib/python3.11/site-packages (from langgraph-checkpoint<3.0.0,>=2.0.21->langgraph-checkpoint-sqlite) (1.10.0)\n",
      "Requirement already satisfied: typing_extensions>=4.0 in /home/manmath/miniconda3/envs/ai_agents/lib/python3.11/site-packages (from aiosqlite>=0.20->langgraph-checkpoint-sqlite) (4.14.0)\n",
      "Requirement already satisfied: langsmith>=0.3.45 in /home/manmath/miniconda3/envs/ai_agents/lib/python3.11/site-packages (from langchain-core>=0.2.38->langgraph-checkpoint<3.0.0,>=2.0.21->langgraph-checkpoint-sqlite) (0.4.14)\n",
      "Requirement already satisfied: tenacity!=8.4.0,<10.0.0,>=8.1.0 in /home/manmath/miniconda3/envs/ai_agents/lib/python3.11/site-packages (from langchain-core>=0.2.38->langgraph-checkpoint<3.0.0,>=2.0.21->langgraph-checkpoint-sqlite) (8.5.0)\n",
      "Requirement already satisfied: jsonpatch<2.0,>=1.33 in /home/manmath/miniconda3/envs/ai_agents/lib/python3.11/site-packages (from langchain-core>=0.2.38->langgraph-checkpoint<3.0.0,>=2.0.21->langgraph-checkpoint-sqlite) (1.33)\n",
      "Requirement already satisfied: PyYAML>=5.3 in /home/manmath/miniconda3/envs/ai_agents/lib/python3.11/site-packages (from langchain-core>=0.2.38->langgraph-checkpoint<3.0.0,>=2.0.21->langgraph-checkpoint-sqlite) (6.0.2)\n",
      "Requirement already satisfied: packaging>=23.2 in /home/manmath/miniconda3/envs/ai_agents/lib/python3.11/site-packages (from langchain-core>=0.2.38->langgraph-checkpoint<3.0.0,>=2.0.21->langgraph-checkpoint-sqlite) (24.2)\n",
      "Requirement already satisfied: pydantic>=2.7.4 in /home/manmath/miniconda3/envs/ai_agents/lib/python3.11/site-packages (from langchain-core>=0.2.38->langgraph-checkpoint<3.0.0,>=2.0.21->langgraph-checkpoint-sqlite) (2.11.7)\n",
      "Requirement already satisfied: jsonpointer>=1.9 in /home/manmath/miniconda3/envs/ai_agents/lib/python3.11/site-packages (from jsonpatch<2.0,>=1.33->langchain-core>=0.2.38->langgraph-checkpoint<3.0.0,>=2.0.21->langgraph-checkpoint-sqlite) (3.0.0)\n",
      "Requirement already satisfied: httpx<1,>=0.23.0 in /home/manmath/miniconda3/envs/ai_agents/lib/python3.11/site-packages (from langsmith>=0.3.45->langchain-core>=0.2.38->langgraph-checkpoint<3.0.0,>=2.0.21->langgraph-checkpoint-sqlite) (0.28.1)\n",
      "Requirement already satisfied: orjson>=3.9.14 in /home/manmath/miniconda3/envs/ai_agents/lib/python3.11/site-packages (from langsmith>=0.3.45->langchain-core>=0.2.38->langgraph-checkpoint<3.0.0,>=2.0.21->langgraph-checkpoint-sqlite) (3.10.18)\n",
      "Requirement already satisfied: requests-toolbelt>=1.0.0 in /home/manmath/miniconda3/envs/ai_agents/lib/python3.11/site-packages (from langsmith>=0.3.45->langchain-core>=0.2.38->langgraph-checkpoint<3.0.0,>=2.0.21->langgraph-checkpoint-sqlite) (1.0.0)\n",
      "Requirement already satisfied: requests>=2.0.0 in /home/manmath/miniconda3/envs/ai_agents/lib/python3.11/site-packages (from langsmith>=0.3.45->langchain-core>=0.2.38->langgraph-checkpoint<3.0.0,>=2.0.21->langgraph-checkpoint-sqlite) (2.32.4)\n",
      "Requirement already satisfied: zstandard>=0.23.0 in /home/manmath/miniconda3/envs/ai_agents/lib/python3.11/site-packages (from langsmith>=0.3.45->langchain-core>=0.2.38->langgraph-checkpoint<3.0.0,>=2.0.21->langgraph-checkpoint-sqlite) (0.23.0)\n",
      "Requirement already satisfied: anyio in /home/manmath/miniconda3/envs/ai_agents/lib/python3.11/site-packages (from httpx<1,>=0.23.0->langsmith>=0.3.45->langchain-core>=0.2.38->langgraph-checkpoint<3.0.0,>=2.0.21->langgraph-checkpoint-sqlite) (4.9.0)\n",
      "Requirement already satisfied: certifi in /home/manmath/miniconda3/envs/ai_agents/lib/python3.11/site-packages (from httpx<1,>=0.23.0->langsmith>=0.3.45->langchain-core>=0.2.38->langgraph-checkpoint<3.0.0,>=2.0.21->langgraph-checkpoint-sqlite) (2025.6.15)\n",
      "Requirement already satisfied: httpcore==1.* in /home/manmath/miniconda3/envs/ai_agents/lib/python3.11/site-packages (from httpx<1,>=0.23.0->langsmith>=0.3.45->langchain-core>=0.2.38->langgraph-checkpoint<3.0.0,>=2.0.21->langgraph-checkpoint-sqlite) (1.0.9)\n",
      "Requirement already satisfied: idna in /home/manmath/miniconda3/envs/ai_agents/lib/python3.11/site-packages (from httpx<1,>=0.23.0->langsmith>=0.3.45->langchain-core>=0.2.38->langgraph-checkpoint<3.0.0,>=2.0.21->langgraph-checkpoint-sqlite) (3.10)\n",
      "Requirement already satisfied: h11>=0.16 in /home/manmath/miniconda3/envs/ai_agents/lib/python3.11/site-packages (from httpcore==1.*->httpx<1,>=0.23.0->langsmith>=0.3.45->langchain-core>=0.2.38->langgraph-checkpoint<3.0.0,>=2.0.21->langgraph-checkpoint-sqlite) (0.16.0)\n",
      "Requirement already satisfied: annotated-types>=0.6.0 in /home/manmath/miniconda3/envs/ai_agents/lib/python3.11/site-packages (from pydantic>=2.7.4->langchain-core>=0.2.38->langgraph-checkpoint<3.0.0,>=2.0.21->langgraph-checkpoint-sqlite) (0.7.0)\n",
      "Requirement already satisfied: pydantic-core==2.33.2 in /home/manmath/miniconda3/envs/ai_agents/lib/python3.11/site-packages (from pydantic>=2.7.4->langchain-core>=0.2.38->langgraph-checkpoint<3.0.0,>=2.0.21->langgraph-checkpoint-sqlite) (2.33.2)\n",
      "Requirement already satisfied: typing-inspection>=0.4.0 in /home/manmath/miniconda3/envs/ai_agents/lib/python3.11/site-packages (from pydantic>=2.7.4->langchain-core>=0.2.38->langgraph-checkpoint<3.0.0,>=2.0.21->langgraph-checkpoint-sqlite) (0.4.1)\n",
      "Requirement already satisfied: charset_normalizer<4,>=2 in /home/manmath/miniconda3/envs/ai_agents/lib/python3.11/site-packages (from requests>=2.0.0->langsmith>=0.3.45->langchain-core>=0.2.38->langgraph-checkpoint<3.0.0,>=2.0.21->langgraph-checkpoint-sqlite) (3.4.2)\n",
      "Requirement already satisfied: urllib3<3,>=1.21.1 in /home/manmath/miniconda3/envs/ai_agents/lib/python3.11/site-packages (from requests>=2.0.0->langsmith>=0.3.45->langchain-core>=0.2.38->langgraph-checkpoint<3.0.0,>=2.0.21->langgraph-checkpoint-sqlite) (2.5.0)\n",
      "Requirement already satisfied: sniffio>=1.1 in /home/manmath/miniconda3/envs/ai_agents/lib/python3.11/site-packages (from anyio->httpx<1,>=0.23.0->langsmith>=0.3.45->langchain-core>=0.2.38->langgraph-checkpoint<3.0.0,>=2.0.21->langgraph-checkpoint-sqlite) (1.3.1)\n",
      "Downloading langgraph_checkpoint_sqlite-2.0.11-py3-none-any.whl (31 kB)\n",
      "Downloading aiosqlite-0.21.0-py3-none-any.whl (15 kB)\n",
      "Downloading sqlite_vec-0.1.6-py3-none-manylinux_2_17_x86_64.manylinux2014_x86_64.manylinux1_x86_64.whl (151 kB)\n",
      "Installing collected packages: sqlite-vec, aiosqlite, langgraph-checkpoint-sqlite\n",
      "\u001b[2K   \u001b[90m━━━━━━━━━━━━━━━━━━━━━━━━━━━━━━━━━━━━━━━━\u001b[0m \u001b[32m3/3\u001b[0m [langgraph-checkpoint-sqlite]\n",
      "\u001b[1A\u001b[2KSuccessfully installed aiosqlite-0.21.0 langgraph-checkpoint-sqlite-2.0.11 sqlite-vec-0.1.6\n",
      "Note: you may need to restart the kernel to use updated packages.\n"
     ]
    }
   ],
   "source": [
    "%pip install langgraph-checkpoint-sqlite"
   ]
  },
  {
   "cell_type": "code",
   "execution_count": 20,
   "id": "f60ce2e2",
   "metadata": {},
   "outputs": [],
   "source": [
    "from langgraph.checkpoint.memory import MemorySaver\n",
    "memory = MemorySaver()"
   ]
  },
  {
   "cell_type": "markdown",
   "id": "548913f9",
   "metadata": {},
   "source": [
    "### CREATING CHATBOT WITH MEMORY"
   ]
  },
  {
   "cell_type": "code",
   "execution_count": 22,
   "id": "f592b07d",
   "metadata": {},
   "outputs": [],
   "source": [
    "graph_builder_with_memory = StateGraph(State)\n",
    "graph_builder_with_memory.add_node(\"chatbot\", chatbot_node)\n",
    "graph_builder_with_memory.add_edge(START, \"chatbot\")\n",
    "graph_builder_with_memory.add_edge(\"chatbot\", END)\n",
    "\n",
    "chatbot_with_memory = graph_builder_with_memory.compile(checkpointer=memory)\n"
   ]
  },
  {
   "cell_type": "code",
   "execution_count": 23,
   "id": "56a79a45",
   "metadata": {},
   "outputs": [
    {
     "name": "stdout",
     "output_type": "stream",
     "text": [
      "Unique ID: dfb86aec-ae38-4ce6-a23f-86fc9a539a71\n"
     ]
    }
   ],
   "source": [
    "import uuid\n",
    "unique_id = uuid.uuid4()\n",
    "print(f\"Unique ID: {unique_id}\")"
   ]
  },
  {
   "cell_type": "code",
   "execution_count": 24,
   "id": "48e59d16",
   "metadata": {},
   "outputs": [],
   "source": [
    "def test_simple_chatbot_with_memory(user_input):\n",
    "    config = {\"configurable\": {\"thread_id\": str(unique_id)}}\n",
    "    initial_state = {\n",
    "        \"messages\": [HumanMessage(content=user_input)]\n",
    "    }\n",
    "    result = chatbot_with_memory.invoke(initial_state, config)\n",
    "    return result"
   ]
  },
  {
   "cell_type": "code",
   "execution_count": 26,
   "id": "59e4718d",
   "metadata": {},
   "outputs": [
    {
     "data": {
      "text/plain": [
       "{'messages': [HumanMessage(content='Hi My name is Manmath, I aspire to be an AI Engineer', additional_kwargs={}, response_metadata={}, id='4e5ee263-d5cc-432d-9205-670106860a24'),\n",
       "  AIMessage(content=\"Hi Manmath! That's a great aspiration. AI engineering is a dynamic and exciting field with a lot of potential for innovation and impact. Here are a few steps you can consider on your journey to becoming an AI Engineer:\\n\\n1. **Educational Foundation**: \\n   - **Mathematics and Statistics**: Make sure you have a strong grasp of linear algebra, calculus, probability, and statistics, as these are crucial for understanding AI algorithms.\\n   - **Computer Science**: Gain proficiency in data structures, algorithms, and software development. Familiarity with programming languages such as Python, Java, or C++ is essential.\\n\\n2. **Learn AI Concepts**:\\n   - **Machine Learning**: Start with the basics of supervised and unsupervised learning, and then delve into more advanced topics like deep learning, reinforcement learning, and neural networks.\\n   - **Data Science**: Understand data preprocessing, data visualization, and the use of libraries like NumPy, Pandas, and Matplotlib.\\n\\n3. **Practical Experience**:\\n   - **Projects**: Work on AI projects to apply your knowledge. This could involve building models, working with datasets, or contributing to open-source projects.\\n   - **Internships**: Gain real-world experience through internships or research positions related to AI.\\n\\n4. **Advanced Topics**:\\n   - Explore specific areas of interest such as natural language processing, computer vision, robotics, or AI ethics.\\n   - Stay updated with the latest research and advancements in the field by reading journals, attending conferences, and participating in AI communities.\\n\\n5. **Networking and Community**:\\n   - Join AI forums, online courses, and meetups to connect with other AI professionals and enthusiasts.\\n   - Consider contributing to AI communities or open-source projects to build your network and gain insights from others.\\n\\n6. **Lifelong Learning**:\\n   - AI is a rapidly evolving field, so it's important to continuously learn and adapt. Consider pursuing advanced degrees or professional certificates if needed.\\n\\nFeel free to ask if you have specific questions or need guidance on any particular aspect of AI engineering. Good luck on your journey!\", additional_kwargs={'refusal': None}, response_metadata={'token_usage': {'completion_tokens': 428, 'prompt_tokens': 21, 'total_tokens': 449, 'completion_tokens_details': {'accepted_prediction_tokens': 0, 'audio_tokens': 0, 'reasoning_tokens': 0, 'rejected_prediction_tokens': 0}, 'prompt_tokens_details': {'audio_tokens': 0, 'cached_tokens': 0}}, 'model_name': 'gpt-4o-2024-08-06', 'system_fingerprint': 'fp_46bff0e0c8', 'id': 'chatcmpl-C6KZzkW32M47PbFTqhOyA3DSA9ObG', 'service_tier': 'default', 'finish_reason': 'stop', 'logprobs': None}, id='run--5c8ef3a3-285f-4be9-84b4-8fb71ee5ced7-0', usage_metadata={'input_tokens': 21, 'output_tokens': 428, 'total_tokens': 449, 'input_token_details': {'audio': 0, 'cache_read': 0}, 'output_token_details': {'audio': 0, 'reasoning': 0}})]}"
      ]
     },
     "execution_count": 26,
     "metadata": {},
     "output_type": "execute_result"
    }
   ],
   "source": [
    "test_simple_chatbot_with_memory(\"Hi My name is Manmath, I aspire to be an AI Engineer\")"
   ]
  },
  {
   "cell_type": "code",
   "execution_count": 27,
   "id": "da56c6b6",
   "metadata": {},
   "outputs": [
    {
     "data": {
      "text/plain": [
       "{'messages': [HumanMessage(content='Hi My name is Manmath, I aspire to be an AI Engineer', additional_kwargs={}, response_metadata={}, id='4e5ee263-d5cc-432d-9205-670106860a24'),\n",
       "  AIMessage(content=\"Hi Manmath! That's a great aspiration. AI engineering is a dynamic and exciting field with a lot of potential for innovation and impact. Here are a few steps you can consider on your journey to becoming an AI Engineer:\\n\\n1. **Educational Foundation**: \\n   - **Mathematics and Statistics**: Make sure you have a strong grasp of linear algebra, calculus, probability, and statistics, as these are crucial for understanding AI algorithms.\\n   - **Computer Science**: Gain proficiency in data structures, algorithms, and software development. Familiarity with programming languages such as Python, Java, or C++ is essential.\\n\\n2. **Learn AI Concepts**:\\n   - **Machine Learning**: Start with the basics of supervised and unsupervised learning, and then delve into more advanced topics like deep learning, reinforcement learning, and neural networks.\\n   - **Data Science**: Understand data preprocessing, data visualization, and the use of libraries like NumPy, Pandas, and Matplotlib.\\n\\n3. **Practical Experience**:\\n   - **Projects**: Work on AI projects to apply your knowledge. This could involve building models, working with datasets, or contributing to open-source projects.\\n   - **Internships**: Gain real-world experience through internships or research positions related to AI.\\n\\n4. **Advanced Topics**:\\n   - Explore specific areas of interest such as natural language processing, computer vision, robotics, or AI ethics.\\n   - Stay updated with the latest research and advancements in the field by reading journals, attending conferences, and participating in AI communities.\\n\\n5. **Networking and Community**:\\n   - Join AI forums, online courses, and meetups to connect with other AI professionals and enthusiasts.\\n   - Consider contributing to AI communities or open-source projects to build your network and gain insights from others.\\n\\n6. **Lifelong Learning**:\\n   - AI is a rapidly evolving field, so it's important to continuously learn and adapt. Consider pursuing advanced degrees or professional certificates if needed.\\n\\nFeel free to ask if you have specific questions or need guidance on any particular aspect of AI engineering. Good luck on your journey!\", additional_kwargs={'refusal': None}, response_metadata={'token_usage': {'completion_tokens': 428, 'prompt_tokens': 21, 'total_tokens': 449, 'completion_tokens_details': {'accepted_prediction_tokens': 0, 'audio_tokens': 0, 'reasoning_tokens': 0, 'rejected_prediction_tokens': 0}, 'prompt_tokens_details': {'audio_tokens': 0, 'cached_tokens': 0}}, 'model_name': 'gpt-4o-2024-08-06', 'system_fingerprint': 'fp_46bff0e0c8', 'id': 'chatcmpl-C6KZzkW32M47PbFTqhOyA3DSA9ObG', 'service_tier': 'default', 'finish_reason': 'stop', 'logprobs': None}, id='run--5c8ef3a3-285f-4be9-84b4-8fb71ee5ced7-0', usage_metadata={'input_tokens': 21, 'output_tokens': 428, 'total_tokens': 449, 'input_token_details': {'audio': 0, 'cache_read': 0}, 'output_token_details': {'audio': 0, 'reasoning': 0}}),\n",
       "  HumanMessage(content='What is my name?', additional_kwargs={}, response_metadata={}, id='538fa8ac-913a-4fe5-93d7-326a084f326e'),\n",
       "  AIMessage(content='Your name is Manmath.', additional_kwargs={'refusal': None}, response_metadata={'token_usage': {'completion_tokens': 6, 'prompt_tokens': 462, 'total_tokens': 468, 'completion_tokens_details': {'accepted_prediction_tokens': 0, 'audio_tokens': 0, 'reasoning_tokens': 0, 'rejected_prediction_tokens': 0}, 'prompt_tokens_details': {'audio_tokens': 0, 'cached_tokens': 0}}, 'model_name': 'gpt-4o-2024-08-06', 'system_fingerprint': 'fp_ff25b2783a', 'id': 'chatcmpl-C6KadjQWhouwcn7sbzkgbl8YiniPj', 'service_tier': 'default', 'finish_reason': 'stop', 'logprobs': None}, id='run--a86fed05-6a2f-4457-ae3c-d5f7218ff680-0', usage_metadata={'input_tokens': 462, 'output_tokens': 6, 'total_tokens': 468, 'input_token_details': {'audio': 0, 'cache_read': 0}, 'output_token_details': {'audio': 0, 'reasoning': 0}})]}"
      ]
     },
     "execution_count": 27,
     "metadata": {},
     "output_type": "execute_result"
    }
   ],
   "source": [
    "test_simple_chatbot_with_memory(\"What is my name?\")"
   ]
  },
  {
   "cell_type": "code",
   "execution_count": 29,
   "id": "3225369b",
   "metadata": {},
   "outputs": [
    {
     "data": {
      "text/plain": [
       "{'messages': [HumanMessage(content='Hi My name is Manmath, I aspire to be an AI Engineer', additional_kwargs={}, response_metadata={}, id='4e5ee263-d5cc-432d-9205-670106860a24'),\n",
       "  AIMessage(content=\"Hi Manmath! That's a great aspiration. AI engineering is a dynamic and exciting field with a lot of potential for innovation and impact. Here are a few steps you can consider on your journey to becoming an AI Engineer:\\n\\n1. **Educational Foundation**: \\n   - **Mathematics and Statistics**: Make sure you have a strong grasp of linear algebra, calculus, probability, and statistics, as these are crucial for understanding AI algorithms.\\n   - **Computer Science**: Gain proficiency in data structures, algorithms, and software development. Familiarity with programming languages such as Python, Java, or C++ is essential.\\n\\n2. **Learn AI Concepts**:\\n   - **Machine Learning**: Start with the basics of supervised and unsupervised learning, and then delve into more advanced topics like deep learning, reinforcement learning, and neural networks.\\n   - **Data Science**: Understand data preprocessing, data visualization, and the use of libraries like NumPy, Pandas, and Matplotlib.\\n\\n3. **Practical Experience**:\\n   - **Projects**: Work on AI projects to apply your knowledge. This could involve building models, working with datasets, or contributing to open-source projects.\\n   - **Internships**: Gain real-world experience through internships or research positions related to AI.\\n\\n4. **Advanced Topics**:\\n   - Explore specific areas of interest such as natural language processing, computer vision, robotics, or AI ethics.\\n   - Stay updated with the latest research and advancements in the field by reading journals, attending conferences, and participating in AI communities.\\n\\n5. **Networking and Community**:\\n   - Join AI forums, online courses, and meetups to connect with other AI professionals and enthusiasts.\\n   - Consider contributing to AI communities or open-source projects to build your network and gain insights from others.\\n\\n6. **Lifelong Learning**:\\n   - AI is a rapidly evolving field, so it's important to continuously learn and adapt. Consider pursuing advanced degrees or professional certificates if needed.\\n\\nFeel free to ask if you have specific questions or need guidance on any particular aspect of AI engineering. Good luck on your journey!\", additional_kwargs={'refusal': None}, response_metadata={'token_usage': {'completion_tokens': 428, 'prompt_tokens': 21, 'total_tokens': 449, 'completion_tokens_details': {'accepted_prediction_tokens': 0, 'audio_tokens': 0, 'reasoning_tokens': 0, 'rejected_prediction_tokens': 0}, 'prompt_tokens_details': {'audio_tokens': 0, 'cached_tokens': 0}}, 'model_name': 'gpt-4o-2024-08-06', 'system_fingerprint': 'fp_46bff0e0c8', 'id': 'chatcmpl-C6KZzkW32M47PbFTqhOyA3DSA9ObG', 'service_tier': 'default', 'finish_reason': 'stop', 'logprobs': None}, id='run--5c8ef3a3-285f-4be9-84b4-8fb71ee5ced7-0', usage_metadata={'input_tokens': 21, 'output_tokens': 428, 'total_tokens': 449, 'input_token_details': {'audio': 0, 'cache_read': 0}, 'output_token_details': {'audio': 0, 'reasoning': 0}}),\n",
       "  HumanMessage(content='What is my name?', additional_kwargs={}, response_metadata={}, id='538fa8ac-913a-4fe5-93d7-326a084f326e'),\n",
       "  AIMessage(content='Your name is Manmath.', additional_kwargs={'refusal': None}, response_metadata={'token_usage': {'completion_tokens': 6, 'prompt_tokens': 462, 'total_tokens': 468, 'completion_tokens_details': {'accepted_prediction_tokens': 0, 'audio_tokens': 0, 'reasoning_tokens': 0, 'rejected_prediction_tokens': 0}, 'prompt_tokens_details': {'audio_tokens': 0, 'cached_tokens': 0}}, 'model_name': 'gpt-4o-2024-08-06', 'system_fingerprint': 'fp_ff25b2783a', 'id': 'chatcmpl-C6KadjQWhouwcn7sbzkgbl8YiniPj', 'service_tier': 'default', 'finish_reason': 'stop', 'logprobs': None}, id='run--a86fed05-6a2f-4457-ae3c-d5f7218ff680-0', usage_metadata={'input_tokens': 462, 'output_tokens': 6, 'total_tokens': 468, 'input_token_details': {'audio': 0, 'cache_read': 0}, 'output_token_details': {'audio': 0, 'reasoning': 0}}),\n",
       "  HumanMessage(content='What was my last question?', additional_kwargs={}, response_metadata={}, id='2b83e9d3-753b-4c28-8b2e-b7c00a618bac'),\n",
       "  AIMessage(content='Your last question was, \"What is my name?\"', additional_kwargs={'refusal': None}, response_metadata={'token_usage': {'completion_tokens': 11, 'prompt_tokens': 482, 'total_tokens': 493, 'completion_tokens_details': {'accepted_prediction_tokens': 0, 'audio_tokens': 0, 'reasoning_tokens': 0, 'rejected_prediction_tokens': 0}, 'prompt_tokens_details': {'audio_tokens': 0, 'cached_tokens': 0}}, 'model_name': 'gpt-4o-2024-08-06', 'system_fingerprint': 'fp_ff25b2783a', 'id': 'chatcmpl-C6KbFVRZL7NDARl6cdordJtvONB4z', 'service_tier': 'default', 'finish_reason': 'stop', 'logprobs': None}, id='run--0f4c125d-da11-4f24-a482-3700077eb400-0', usage_metadata={'input_tokens': 482, 'output_tokens': 11, 'total_tokens': 493, 'input_token_details': {'audio': 0, 'cache_read': 0}, 'output_token_details': {'audio': 0, 'reasoning': 0}})]}"
      ]
     },
     "execution_count": 29,
     "metadata": {},
     "output_type": "execute_result"
    }
   ],
   "source": [
    "test_simple_chatbot_with_memory(\"What was my last question?\")"
   ]
  },
  {
   "cell_type": "markdown",
   "id": "d4d1af6d",
   "metadata": {},
   "source": [
    "### TOOL INTEGRATION\n",
    "\n",
    "Real AI agents need to interact with the outside world! Let's add the tool calling capabilities\n",
    "\n",
    "### WHAT ARE TOOLS \n",
    "\n",
    "- search the web\n",
    "- Query Database\n",
    "- send email\n",
    "- perform calculations\n",
    "- Access APIs"
   ]
  },
  {
   "cell_type": "code",
   "execution_count": 30,
   "id": "cb113686",
   "metadata": {},
   "outputs": [],
   "source": [
    "import math"
   ]
  },
  {
   "cell_type": "code",
   "execution_count": 31,
   "id": "fbac15bb",
   "metadata": {},
   "outputs": [],
   "source": [
    "from langchain_core.tools import tool\n",
    "\n",
    "@tool\n",
    "def calculator(expression: str) -> str:\n",
    "    \"\"\"\n",
    "    Evaluate a mathematical expression safely.\n",
    "    \n",
    "    Args:\n",
    "        expression: A mathematical expression to evaluate (e.g., \"2 + 3 * 4\")\n",
    "        \n",
    "    Returns:\n",
    "        The result of the calculation\n",
    "    \"\"\"\n",
    "    try:\n",
    "        # Safe evaluation of mathematical expressions\n",
    "        # Only allow basic math operations\n",
    "        allowed_names = {\n",
    "            k: v for k, v in math.__dict__.items() if not k.startswith(\"__\")\n",
    "        }\n",
    "        allowed_names.update({\"abs\": abs, \"round\": round})\n",
    "        \n",
    "        result = eval(expression, {\"__builtins__\": {}}, allowed_names)\n",
    "        return f\"The result of {expression} is {result}\"\n",
    "    except Exception as e:\n",
    "        return f\"Error calculating {expression}: {str(e)}\"\n"
   ]
  },
  {
   "cell_type": "code",
   "execution_count": 34,
   "id": "aa264f2c",
   "metadata": {},
   "outputs": [
    {
     "data": {
      "text/plain": [
       "'The result of sqrt(16) is 4.0'"
      ]
     },
     "execution_count": 34,
     "metadata": {},
     "output_type": "execute_result"
    }
   ],
   "source": [
    "calculator(\"sqrt(16)\")"
   ]
  }
 ],
 "metadata": {
  "kernelspec": {
   "display_name": "ai_agents",
   "language": "python",
   "name": "python3"
  },
  "language_info": {
   "codemirror_mode": {
    "name": "ipython",
    "version": 3
   },
   "file_extension": ".py",
   "mimetype": "text/x-python",
   "name": "python",
   "nbconvert_exporter": "python",
   "pygments_lexer": "ipython3",
   "version": "3.11.13"
  }
 },
 "nbformat": 4,
 "nbformat_minor": 5
}
