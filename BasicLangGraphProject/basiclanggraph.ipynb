{
 "cells": [
  {
   "cell_type": "code",
   "execution_count": 1,
   "id": "55c64365",
   "metadata": {},
   "outputs": [
    {
     "name": "stdout",
     "output_type": "stream",
     "text": [
      "Enviroment setup completed.\n"
     ]
    }
   ],
   "source": [
    "import os\n",
    "import getpass\n",
    "from typing import Annotated, Dict, List, Any\n",
    "from typing_extensions import TypedDict\n",
    "\n",
    "def setup_environment():\n",
    "    \"\"\"Setup your API Keys\"\"\"\n",
    "    if not os.environ.get(\"OPENAI_API_KEY\"):\n",
    "        openai_key = getpass.getpass(\"Enter your OpenAI API Key: \")\n",
    "        os.environ[\"OPENAI_API_KEY\"] = openai_key\n",
    "    if not os.environ.get(\"LANGSMITH_API_KEY\"):\n",
    "        langsmith_key = getpass.getpass(\"Enter your LangSmith API Key: \")\n",
    "        if langsmith_key:\n",
    "            os.environ[\"LANGSMITH_API_KEY\"] = langsmith_key\n",
    "            os.environ[\"LANGCHAIN_TRACING_V2\"] = \"true\"\n",
    "            os.environ[\"LANGCHAIN_PROJECT\"] = \"LangGraph Basic\"\n",
    "        else:\n",
    "            print(\"LangSmith API Key not provided. Tracing will not be enabled.\")\n",
    "            \n",
    "    print(\"Enviroment setup completed.\")\n",
    "\n",
    "setup_environment()\n"
   ]
  },
  {
   "cell_type": "code",
   "execution_count": 2,
   "id": "73201b4b",
   "metadata": {},
   "outputs": [],
   "source": [
    "from langgraph.graph import StateGraph, START, END\n",
    "from langgraph.graph.message import add_messages\n",
    "from langchain_core.messages import HumanMessage, AIMessage\n",
    "\n",
    "class State(TypedDict):\n",
    "    # messages will store our converstaion history\n",
    "    # add_messages is a special function that appends new message instead of replacing them\n",
    "    messages: Annotated[list, add_messages]"
   ]
  },
  {
   "cell_type": "code",
   "execution_count": 3,
   "id": "dbc12f37",
   "metadata": {},
   "outputs": [
    {
     "data": {
      "text/plain": [
       "'Hello! How can I assist you today?'"
      ]
     },
     "execution_count": 3,
     "metadata": {},
     "output_type": "execute_result"
    }
   ],
   "source": [
    "from langchain_openai import ChatOpenAI\n",
    "llm = ChatOpenAI(\n",
    "    model = \"gpt-4o\",\n",
    "    temperature = 0.7\n",
    ")\n",
    "llm.invoke(\"Hi\").content"
   ]
  },
  {
   "cell_type": "code",
   "execution_count": 4,
   "id": "cc5e7f2a",
   "metadata": {},
   "outputs": [],
   "source": [
    "def chatbot_node(state: State) -> Dict[str, Any]:\n",
    "    messages = state['messages']\n",
    "    response = llm.invoke(messages)\n",
    "    return {\"messages\": [response]}"
   ]
  },
  {
   "cell_type": "code",
   "execution_count": 5,
   "id": "e7701dfa",
   "metadata": {},
   "outputs": [],
   "source": [
    "graph_builder = StateGraph(State)\n",
    "graph_builder.add_node(\"chatbot\", chatbot_node)\n",
    "graph_builder.add_edge(START, \"chatbot\")\n",
    "graph_builder.add_edge(\"chatbot\", END)\n",
    "\n",
    "simple_chatbot = graph_builder.compile()"
   ]
  },
  {
   "cell_type": "code",
   "execution_count": 6,
   "id": "c052545b",
   "metadata": {},
   "outputs": [],
   "source": [
    "initial_state = {\n",
    "    \"messages\": [HumanMessage(content=\"Hello! My name is Manmath. What is your name?\")]\n",
    "}\n",
    "\n",
    "result = simple_chatbot.invoke(initial_state)"
   ]
  },
  {
   "cell_type": "code",
   "execution_count": 7,
   "id": "1d22cfab",
   "metadata": {},
   "outputs": [
    {
     "data": {
      "text/plain": [
       "[HumanMessage(content='Hello! My name is Manmath. What is your name?', additional_kwargs={}, response_metadata={}, id='2e0d337d-c10a-4c08-81fa-b921a5629a3f'),\n",
       " AIMessage(content=\"Hello Manmath! I'm ChatGPT, an AI language model created by OpenAI. How can I assist you today?\", additional_kwargs={'refusal': None}, response_metadata={'token_usage': {'completion_tokens': 24, 'prompt_tokens': 20, 'total_tokens': 44, 'completion_tokens_details': {'accepted_prediction_tokens': 0, 'audio_tokens': 0, 'reasoning_tokens': 0, 'rejected_prediction_tokens': 0}, 'prompt_tokens_details': {'audio_tokens': 0, 'cached_tokens': 0}}, 'model_name': 'gpt-4o-2024-08-06', 'system_fingerprint': 'fp_ff25b2783a', 'id': 'chatcmpl-C72g6ybFxhzDYy5nO7AHQVPsPKYkC', 'service_tier': 'default', 'finish_reason': 'stop', 'logprobs': None}, id='run--d543e38f-eb50-4108-af38-8799f8e61f80-0', usage_metadata={'input_tokens': 20, 'output_tokens': 24, 'total_tokens': 44, 'input_token_details': {'audio': 0, 'cache_read': 0}, 'output_token_details': {'audio': 0, 'reasoning': 0}})]"
      ]
     },
     "execution_count": 7,
     "metadata": {},
     "output_type": "execute_result"
    }
   ],
   "source": [
    "result['messages']"
   ]
  },
  {
   "cell_type": "code",
   "execution_count": 8,
   "id": "9878931d",
   "metadata": {},
   "outputs": [
    {
     "name": "stdout",
     "output_type": "stream",
     "text": [
      "User: Hello! My name is Manmath. What is your name?\n",
      "AI: Hello Manmath! I'm ChatGPT, an AI language model created by OpenAI. How can I assist you today?\n"
     ]
    }
   ],
   "source": [
    "for i, message in enumerate(result['messages']):\n",
    "    if isinstance(message, HumanMessage):\n",
    "        print(f\"User: {message.content}\")\n",
    "    if isinstance(message, AIMessage):\n",
    "        print(f\"AI: {message.content}\")"
   ]
  },
  {
   "cell_type": "code",
   "execution_count": 9,
   "id": "b5d5917c",
   "metadata": {},
   "outputs": [],
   "source": [
    "def test_simple_chatbot(user_input):\n",
    "    initial_state = {\n",
    "        \"messages\": [HumanMessage(content=user_input)]\n",
    "    }\n",
    "    result = simple_chatbot.invoke(initial_state)\n",
    "    for i, message in enumerate(result['messages']):\n",
    "        if isinstance(message, HumanMessage):\n",
    "            print(f\"User: {message.content}\")\n",
    "        if isinstance(message, AIMessage):\n",
    "            print(f\"AI: {message.content}\")\n",
    "    return result"
   ]
  },
  {
   "cell_type": "code",
   "execution_count": 10,
   "id": "1c1d0d85",
   "metadata": {},
   "outputs": [
    {
     "name": "stdout",
     "output_type": "stream",
     "text": [
      "User: Who was the war secretary of the US under Abraham Lincoln?\n",
      "AI: The Secretary of War under President Abraham Lincoln was Edwin M. Stanton. He served in this position from 1862 to 1868, playing a crucial role during the American Civil War. Prior to Stanton, Simon Cameron held the position from 1861 to 1862.\n"
     ]
    },
    {
     "data": {
      "text/plain": [
       "{'messages': [HumanMessage(content='Who was the war secretary of the US under Abraham Lincoln?', additional_kwargs={}, response_metadata={}, id='5900592c-1017-4f4a-a468-703bf5f009f4'),\n",
       "  AIMessage(content='The Secretary of War under President Abraham Lincoln was Edwin M. Stanton. He served in this position from 1862 to 1868, playing a crucial role during the American Civil War. Prior to Stanton, Simon Cameron held the position from 1861 to 1862.', additional_kwargs={'refusal': None}, response_metadata={'token_usage': {'completion_tokens': 56, 'prompt_tokens': 19, 'total_tokens': 75, 'completion_tokens_details': {'accepted_prediction_tokens': 0, 'audio_tokens': 0, 'reasoning_tokens': 0, 'rejected_prediction_tokens': 0}, 'prompt_tokens_details': {'audio_tokens': 0, 'cached_tokens': 0}}, 'model_name': 'gpt-4o-2024-08-06', 'system_fingerprint': 'fp_ea40d5097a', 'id': 'chatcmpl-C72g9DRlhNC06pCNow7iO4HxAQHoN', 'service_tier': 'default', 'finish_reason': 'stop', 'logprobs': None}, id='run--1319573b-476b-4a81-9478-5c16be2ae736-0', usage_metadata={'input_tokens': 19, 'output_tokens': 56, 'total_tokens': 75, 'input_token_details': {'audio': 0, 'cache_read': 0}, 'output_token_details': {'audio': 0, 'reasoning': 0}})]}"
      ]
     },
     "execution_count": 10,
     "metadata": {},
     "output_type": "execute_result"
    }
   ],
   "source": [
    "test_simple_chatbot(\"Who was the war secretary of the US under Abraham Lincoln?\")"
   ]
  },
  {
   "cell_type": "code",
   "execution_count": 11,
   "id": "1d033efd",
   "metadata": {},
   "outputs": [
    {
     "name": "stdout",
     "output_type": "stream",
     "text": [
      "User: What was my last question?\n",
      "AI: I'm sorry, but I can't recall past interactions or questions. Could you please repeat your question?\n"
     ]
    },
    {
     "data": {
      "text/plain": [
       "{'messages': [HumanMessage(content='What was my last question?', additional_kwargs={}, response_metadata={}, id='3c846ecf-4224-4242-ae5a-e5538106aa8c'),\n",
       "  AIMessage(content=\"I'm sorry, but I can't recall past interactions or questions. Could you please repeat your question?\", additional_kwargs={'refusal': None}, response_metadata={'token_usage': {'completion_tokens': 19, 'prompt_tokens': 13, 'total_tokens': 32, 'completion_tokens_details': {'accepted_prediction_tokens': 0, 'audio_tokens': 0, 'reasoning_tokens': 0, 'rejected_prediction_tokens': 0}, 'prompt_tokens_details': {'audio_tokens': 0, 'cached_tokens': 0}}, 'model_name': 'gpt-4o-2024-08-06', 'system_fingerprint': 'fp_46bff0e0c8', 'id': 'chatcmpl-C72gDrhrkbAhoSkzoLwDHdGrLxus2', 'service_tier': 'default', 'finish_reason': 'stop', 'logprobs': None}, id='run--6e59b4c8-5307-454e-888b-ac1b02e636f6-0', usage_metadata={'input_tokens': 13, 'output_tokens': 19, 'total_tokens': 32, 'input_token_details': {'audio': 0, 'cache_read': 0}, 'output_token_details': {'audio': 0, 'reasoning': 0}})]}"
      ]
     },
     "execution_count": 11,
     "metadata": {},
     "output_type": "execute_result"
    }
   ],
   "source": [
    "test_simple_chatbot(\"What was my last question?\")"
   ]
  },
  {
   "cell_type": "code",
   "execution_count": 12,
   "id": "5d9a37e9",
   "metadata": {},
   "outputs": [
    {
     "name": "stdout",
     "output_type": "stream",
     "text": [
      "Requirement already satisfied: langgraph-checkpoint-sqlite in /home/manmath/miniconda3/envs/ai_agents/lib/python3.11/site-packages (2.0.11)\n",
      "Requirement already satisfied: aiosqlite>=0.20 in /home/manmath/miniconda3/envs/ai_agents/lib/python3.11/site-packages (from langgraph-checkpoint-sqlite) (0.21.0)\n",
      "Requirement already satisfied: langgraph-checkpoint<3.0.0,>=2.0.21 in /home/manmath/miniconda3/envs/ai_agents/lib/python3.11/site-packages (from langgraph-checkpoint-sqlite) (2.1.0)\n",
      "Requirement already satisfied: sqlite-vec>=0.1.6 in /home/manmath/miniconda3/envs/ai_agents/lib/python3.11/site-packages (from langgraph-checkpoint-sqlite) (0.1.6)\n",
      "Requirement already satisfied: langchain-core>=0.2.38 in /home/manmath/miniconda3/envs/ai_agents/lib/python3.11/site-packages (from langgraph-checkpoint<3.0.0,>=2.0.21->langgraph-checkpoint-sqlite) (0.3.74)\n",
      "Requirement already satisfied: ormsgpack>=1.10.0 in /home/manmath/miniconda3/envs/ai_agents/lib/python3.11/site-packages (from langgraph-checkpoint<3.0.0,>=2.0.21->langgraph-checkpoint-sqlite) (1.10.0)\n",
      "Requirement already satisfied: typing_extensions>=4.0 in /home/manmath/miniconda3/envs/ai_agents/lib/python3.11/site-packages (from aiosqlite>=0.20->langgraph-checkpoint-sqlite) (4.14.0)\n",
      "Requirement already satisfied: langsmith>=0.3.45 in /home/manmath/miniconda3/envs/ai_agents/lib/python3.11/site-packages (from langchain-core>=0.2.38->langgraph-checkpoint<3.0.0,>=2.0.21->langgraph-checkpoint-sqlite) (0.4.14)\n",
      "Requirement already satisfied: tenacity!=8.4.0,<10.0.0,>=8.1.0 in /home/manmath/miniconda3/envs/ai_agents/lib/python3.11/site-packages (from langchain-core>=0.2.38->langgraph-checkpoint<3.0.0,>=2.0.21->langgraph-checkpoint-sqlite) (8.5.0)\n",
      "Requirement already satisfied: jsonpatch<2.0,>=1.33 in /home/manmath/miniconda3/envs/ai_agents/lib/python3.11/site-packages (from langchain-core>=0.2.38->langgraph-checkpoint<3.0.0,>=2.0.21->langgraph-checkpoint-sqlite) (1.33)\n",
      "Requirement already satisfied: PyYAML>=5.3 in /home/manmath/miniconda3/envs/ai_agents/lib/python3.11/site-packages (from langchain-core>=0.2.38->langgraph-checkpoint<3.0.0,>=2.0.21->langgraph-checkpoint-sqlite) (6.0.2)\n",
      "Requirement already satisfied: packaging>=23.2 in /home/manmath/miniconda3/envs/ai_agents/lib/python3.11/site-packages (from langchain-core>=0.2.38->langgraph-checkpoint<3.0.0,>=2.0.21->langgraph-checkpoint-sqlite) (24.2)\n",
      "Requirement already satisfied: pydantic>=2.7.4 in /home/manmath/miniconda3/envs/ai_agents/lib/python3.11/site-packages (from langchain-core>=0.2.38->langgraph-checkpoint<3.0.0,>=2.0.21->langgraph-checkpoint-sqlite) (2.11.7)\n",
      "Requirement already satisfied: jsonpointer>=1.9 in /home/manmath/miniconda3/envs/ai_agents/lib/python3.11/site-packages (from jsonpatch<2.0,>=1.33->langchain-core>=0.2.38->langgraph-checkpoint<3.0.0,>=2.0.21->langgraph-checkpoint-sqlite) (3.0.0)\n",
      "Requirement already satisfied: httpx<1,>=0.23.0 in /home/manmath/miniconda3/envs/ai_agents/lib/python3.11/site-packages (from langsmith>=0.3.45->langchain-core>=0.2.38->langgraph-checkpoint<3.0.0,>=2.0.21->langgraph-checkpoint-sqlite) (0.28.1)\n",
      "Requirement already satisfied: orjson>=3.9.14 in /home/manmath/miniconda3/envs/ai_agents/lib/python3.11/site-packages (from langsmith>=0.3.45->langchain-core>=0.2.38->langgraph-checkpoint<3.0.0,>=2.0.21->langgraph-checkpoint-sqlite) (3.10.18)\n",
      "Requirement already satisfied: requests-toolbelt>=1.0.0 in /home/manmath/miniconda3/envs/ai_agents/lib/python3.11/site-packages (from langsmith>=0.3.45->langchain-core>=0.2.38->langgraph-checkpoint<3.0.0,>=2.0.21->langgraph-checkpoint-sqlite) (1.0.0)\n",
      "Requirement already satisfied: requests>=2.0.0 in /home/manmath/miniconda3/envs/ai_agents/lib/python3.11/site-packages (from langsmith>=0.3.45->langchain-core>=0.2.38->langgraph-checkpoint<3.0.0,>=2.0.21->langgraph-checkpoint-sqlite) (2.32.4)\n",
      "Requirement already satisfied: zstandard>=0.23.0 in /home/manmath/miniconda3/envs/ai_agents/lib/python3.11/site-packages (from langsmith>=0.3.45->langchain-core>=0.2.38->langgraph-checkpoint<3.0.0,>=2.0.21->langgraph-checkpoint-sqlite) (0.23.0)\n",
      "Requirement already satisfied: anyio in /home/manmath/miniconda3/envs/ai_agents/lib/python3.11/site-packages (from httpx<1,>=0.23.0->langsmith>=0.3.45->langchain-core>=0.2.38->langgraph-checkpoint<3.0.0,>=2.0.21->langgraph-checkpoint-sqlite) (4.9.0)\n",
      "Requirement already satisfied: certifi in /home/manmath/miniconda3/envs/ai_agents/lib/python3.11/site-packages (from httpx<1,>=0.23.0->langsmith>=0.3.45->langchain-core>=0.2.38->langgraph-checkpoint<3.0.0,>=2.0.21->langgraph-checkpoint-sqlite) (2025.6.15)\n",
      "Requirement already satisfied: httpcore==1.* in /home/manmath/miniconda3/envs/ai_agents/lib/python3.11/site-packages (from httpx<1,>=0.23.0->langsmith>=0.3.45->langchain-core>=0.2.38->langgraph-checkpoint<3.0.0,>=2.0.21->langgraph-checkpoint-sqlite) (1.0.9)\n",
      "Requirement already satisfied: idna in /home/manmath/miniconda3/envs/ai_agents/lib/python3.11/site-packages (from httpx<1,>=0.23.0->langsmith>=0.3.45->langchain-core>=0.2.38->langgraph-checkpoint<3.0.0,>=2.0.21->langgraph-checkpoint-sqlite) (3.10)\n",
      "Requirement already satisfied: h11>=0.16 in /home/manmath/miniconda3/envs/ai_agents/lib/python3.11/site-packages (from httpcore==1.*->httpx<1,>=0.23.0->langsmith>=0.3.45->langchain-core>=0.2.38->langgraph-checkpoint<3.0.0,>=2.0.21->langgraph-checkpoint-sqlite) (0.16.0)\n",
      "Requirement already satisfied: annotated-types>=0.6.0 in /home/manmath/miniconda3/envs/ai_agents/lib/python3.11/site-packages (from pydantic>=2.7.4->langchain-core>=0.2.38->langgraph-checkpoint<3.0.0,>=2.0.21->langgraph-checkpoint-sqlite) (0.7.0)\n",
      "Requirement already satisfied: pydantic-core==2.33.2 in /home/manmath/miniconda3/envs/ai_agents/lib/python3.11/site-packages (from pydantic>=2.7.4->langchain-core>=0.2.38->langgraph-checkpoint<3.0.0,>=2.0.21->langgraph-checkpoint-sqlite) (2.33.2)\n",
      "Requirement already satisfied: typing-inspection>=0.4.0 in /home/manmath/miniconda3/envs/ai_agents/lib/python3.11/site-packages (from pydantic>=2.7.4->langchain-core>=0.2.38->langgraph-checkpoint<3.0.0,>=2.0.21->langgraph-checkpoint-sqlite) (0.4.1)\n",
      "Requirement already satisfied: charset_normalizer<4,>=2 in /home/manmath/miniconda3/envs/ai_agents/lib/python3.11/site-packages (from requests>=2.0.0->langsmith>=0.3.45->langchain-core>=0.2.38->langgraph-checkpoint<3.0.0,>=2.0.21->langgraph-checkpoint-sqlite) (3.4.2)\n",
      "Requirement already satisfied: urllib3<3,>=1.21.1 in /home/manmath/miniconda3/envs/ai_agents/lib/python3.11/site-packages (from requests>=2.0.0->langsmith>=0.3.45->langchain-core>=0.2.38->langgraph-checkpoint<3.0.0,>=2.0.21->langgraph-checkpoint-sqlite) (2.5.0)\n",
      "Requirement already satisfied: sniffio>=1.1 in /home/manmath/miniconda3/envs/ai_agents/lib/python3.11/site-packages (from anyio->httpx<1,>=0.23.0->langsmith>=0.3.45->langchain-core>=0.2.38->langgraph-checkpoint<3.0.0,>=2.0.21->langgraph-checkpoint-sqlite) (1.3.1)\n",
      "Note: you may need to restart the kernel to use updated packages.\n"
     ]
    }
   ],
   "source": [
    "%pip install langgraph-checkpoint-sqlite"
   ]
  },
  {
   "cell_type": "code",
   "execution_count": 13,
   "id": "f60ce2e2",
   "metadata": {},
   "outputs": [],
   "source": [
    "from langgraph.checkpoint.memory import MemorySaver\n",
    "memory = MemorySaver()"
   ]
  },
  {
   "cell_type": "markdown",
   "id": "548913f9",
   "metadata": {},
   "source": [
    "### CREATING CHATBOT WITH MEMORY"
   ]
  },
  {
   "cell_type": "code",
   "execution_count": 14,
   "id": "f592b07d",
   "metadata": {},
   "outputs": [],
   "source": [
    "graph_builder_with_memory = StateGraph(State)\n",
    "graph_builder_with_memory.add_node(\"chatbot\", chatbot_node)\n",
    "graph_builder_with_memory.add_edge(START, \"chatbot\")\n",
    "graph_builder_with_memory.add_edge(\"chatbot\", END)\n",
    "\n",
    "chatbot_with_memory = graph_builder_with_memory.compile(checkpointer=memory)\n"
   ]
  },
  {
   "cell_type": "code",
   "execution_count": 15,
   "id": "56a79a45",
   "metadata": {},
   "outputs": [
    {
     "name": "stdout",
     "output_type": "stream",
     "text": [
      "Unique ID: 2e6c54a7-2a73-4db6-b49c-a880c8208da6\n"
     ]
    }
   ],
   "source": [
    "import uuid\n",
    "unique_id = uuid.uuid4()\n",
    "print(f\"Unique ID: {unique_id}\")"
   ]
  },
  {
   "cell_type": "code",
   "execution_count": 16,
   "id": "48e59d16",
   "metadata": {},
   "outputs": [],
   "source": [
    "def test_simple_chatbot_with_memory(user_input):\n",
    "    config = {\"configurable\": {\"thread_id\": str(unique_id)}}\n",
    "    initial_state = {\n",
    "        \"messages\": [HumanMessage(content=user_input)]\n",
    "    }\n",
    "    result = chatbot_with_memory.invoke(initial_state, config)\n",
    "    return result"
   ]
  },
  {
   "cell_type": "code",
   "execution_count": 17,
   "id": "59e4718d",
   "metadata": {},
   "outputs": [
    {
     "data": {
      "text/plain": [
       "{'messages': [HumanMessage(content='Hi My name is Manmath, I aspire to be an AI Engineer', additional_kwargs={}, response_metadata={}, id='f42ee763-0a66-49fe-a253-9dafba488433'),\n",
       "  AIMessage(content=\"Hello Manmath! That's a great aspiration. AI engineering is an exciting and rapidly evolving field. Here are a few steps you might consider on your journey to becoming an AI engineer:\\n\\n1. **Educational Foundation**: \\n   - **Mathematics**: Ensure you have a strong understanding of linear algebra, calculus, probability, and statistics.\\n   - **Computer Science**: Gain proficiency in programming languages like Python, which is widely used in AI for its libraries and frameworks.\\n   - **Machine Learning**: Study machine learning concepts and algorithms. Online courses from platforms like Coursera, edX, or Udacity can be very helpful.\\n\\n2. **Practical Experience**: \\n   - Work on projects that involve data analysis, machine learning, and artificial intelligence.\\n   - Participate in competitions on platforms like Kaggle to gain hands-on experience.\\n   - Contribute to open-source projects related to AI.\\n\\n3. **Advanced Learning**: \\n   - Consider pursuing a master's degree or online specialization in AI, machine learning, or data science.\\n   - Stay updated with the latest research by reading papers from conferences like NeurIPS, ICML, and CVPR.\\n\\n4. **Networking and Community**:\\n   - Join AI and machine learning communities or forums, such as Reddit's ML sub, and attend meetups or conferences.\\n   - Network with professionals in the field through LinkedIn or local tech events.\\n\\n5. **Specialization**:\\n   - As you progress, consider specializing in a particular area of AI, such as natural language processing, computer vision, or robotics.\\n\\n6. **Ethics and Responsibility**:\\n   - Understand the ethical implications of AI and work towards building responsible AI systems.\\n\\nIf you have any specific questions or need more detailed guidance, feel free to ask!\", additional_kwargs={'refusal': None}, response_metadata={'token_usage': {'completion_tokens': 361, 'prompt_tokens': 21, 'total_tokens': 382, 'completion_tokens_details': {'accepted_prediction_tokens': 0, 'audio_tokens': 0, 'reasoning_tokens': 0, 'rejected_prediction_tokens': 0}, 'prompt_tokens_details': {'audio_tokens': 0, 'cached_tokens': 0}}, 'model_name': 'gpt-4o-2024-08-06', 'system_fingerprint': 'fp_ff25b2783a', 'id': 'chatcmpl-C72gFBRN43AuE0yJPRMWzXcrfUm9b', 'service_tier': 'default', 'finish_reason': 'stop', 'logprobs': None}, id='run--4a8f7c07-cade-4550-a075-93792ec7da76-0', usage_metadata={'input_tokens': 21, 'output_tokens': 361, 'total_tokens': 382, 'input_token_details': {'audio': 0, 'cache_read': 0}, 'output_token_details': {'audio': 0, 'reasoning': 0}})]}"
      ]
     },
     "execution_count": 17,
     "metadata": {},
     "output_type": "execute_result"
    }
   ],
   "source": [
    "test_simple_chatbot_with_memory(\"Hi My name is Manmath, I aspire to be an AI Engineer\")"
   ]
  },
  {
   "cell_type": "code",
   "execution_count": 18,
   "id": "da56c6b6",
   "metadata": {},
   "outputs": [
    {
     "data": {
      "text/plain": [
       "{'messages': [HumanMessage(content='Hi My name is Manmath, I aspire to be an AI Engineer', additional_kwargs={}, response_metadata={}, id='f42ee763-0a66-49fe-a253-9dafba488433'),\n",
       "  AIMessage(content=\"Hello Manmath! That's a great aspiration. AI engineering is an exciting and rapidly evolving field. Here are a few steps you might consider on your journey to becoming an AI engineer:\\n\\n1. **Educational Foundation**: \\n   - **Mathematics**: Ensure you have a strong understanding of linear algebra, calculus, probability, and statistics.\\n   - **Computer Science**: Gain proficiency in programming languages like Python, which is widely used in AI for its libraries and frameworks.\\n   - **Machine Learning**: Study machine learning concepts and algorithms. Online courses from platforms like Coursera, edX, or Udacity can be very helpful.\\n\\n2. **Practical Experience**: \\n   - Work on projects that involve data analysis, machine learning, and artificial intelligence.\\n   - Participate in competitions on platforms like Kaggle to gain hands-on experience.\\n   - Contribute to open-source projects related to AI.\\n\\n3. **Advanced Learning**: \\n   - Consider pursuing a master's degree or online specialization in AI, machine learning, or data science.\\n   - Stay updated with the latest research by reading papers from conferences like NeurIPS, ICML, and CVPR.\\n\\n4. **Networking and Community**:\\n   - Join AI and machine learning communities or forums, such as Reddit's ML sub, and attend meetups or conferences.\\n   - Network with professionals in the field through LinkedIn or local tech events.\\n\\n5. **Specialization**:\\n   - As you progress, consider specializing in a particular area of AI, such as natural language processing, computer vision, or robotics.\\n\\n6. **Ethics and Responsibility**:\\n   - Understand the ethical implications of AI and work towards building responsible AI systems.\\n\\nIf you have any specific questions or need more detailed guidance, feel free to ask!\", additional_kwargs={'refusal': None}, response_metadata={'token_usage': {'completion_tokens': 361, 'prompt_tokens': 21, 'total_tokens': 382, 'completion_tokens_details': {'accepted_prediction_tokens': 0, 'audio_tokens': 0, 'reasoning_tokens': 0, 'rejected_prediction_tokens': 0}, 'prompt_tokens_details': {'audio_tokens': 0, 'cached_tokens': 0}}, 'model_name': 'gpt-4o-2024-08-06', 'system_fingerprint': 'fp_ff25b2783a', 'id': 'chatcmpl-C72gFBRN43AuE0yJPRMWzXcrfUm9b', 'service_tier': 'default', 'finish_reason': 'stop', 'logprobs': None}, id='run--4a8f7c07-cade-4550-a075-93792ec7da76-0', usage_metadata={'input_tokens': 21, 'output_tokens': 361, 'total_tokens': 382, 'input_token_details': {'audio': 0, 'cache_read': 0}, 'output_token_details': {'audio': 0, 'reasoning': 0}}),\n",
       "  HumanMessage(content='What is my name?', additional_kwargs={}, response_metadata={}, id='c27798ca-5752-4682-95f2-8c194824556c'),\n",
       "  AIMessage(content='Your name is Manmath.', additional_kwargs={'refusal': None}, response_metadata={'token_usage': {'completion_tokens': 6, 'prompt_tokens': 395, 'total_tokens': 401, 'completion_tokens_details': {'accepted_prediction_tokens': 0, 'audio_tokens': 0, 'reasoning_tokens': 0, 'rejected_prediction_tokens': 0}, 'prompt_tokens_details': {'audio_tokens': 0, 'cached_tokens': 0}}, 'model_name': 'gpt-4o-2024-08-06', 'system_fingerprint': 'fp_80956533cb', 'id': 'chatcmpl-C72gNeMhxj85O7ttHsHqLdcJsg4c6', 'service_tier': 'default', 'finish_reason': 'stop', 'logprobs': None}, id='run--e4b34543-c266-474b-828a-84e89779b8a6-0', usage_metadata={'input_tokens': 395, 'output_tokens': 6, 'total_tokens': 401, 'input_token_details': {'audio': 0, 'cache_read': 0}, 'output_token_details': {'audio': 0, 'reasoning': 0}})]}"
      ]
     },
     "execution_count": 18,
     "metadata": {},
     "output_type": "execute_result"
    }
   ],
   "source": [
    "test_simple_chatbot_with_memory(\"What is my name?\")"
   ]
  },
  {
   "cell_type": "code",
   "execution_count": 19,
   "id": "3225369b",
   "metadata": {},
   "outputs": [
    {
     "data": {
      "text/plain": [
       "{'messages': [HumanMessage(content='Hi My name is Manmath, I aspire to be an AI Engineer', additional_kwargs={}, response_metadata={}, id='f42ee763-0a66-49fe-a253-9dafba488433'),\n",
       "  AIMessage(content=\"Hello Manmath! That's a great aspiration. AI engineering is an exciting and rapidly evolving field. Here are a few steps you might consider on your journey to becoming an AI engineer:\\n\\n1. **Educational Foundation**: \\n   - **Mathematics**: Ensure you have a strong understanding of linear algebra, calculus, probability, and statistics.\\n   - **Computer Science**: Gain proficiency in programming languages like Python, which is widely used in AI for its libraries and frameworks.\\n   - **Machine Learning**: Study machine learning concepts and algorithms. Online courses from platforms like Coursera, edX, or Udacity can be very helpful.\\n\\n2. **Practical Experience**: \\n   - Work on projects that involve data analysis, machine learning, and artificial intelligence.\\n   - Participate in competitions on platforms like Kaggle to gain hands-on experience.\\n   - Contribute to open-source projects related to AI.\\n\\n3. **Advanced Learning**: \\n   - Consider pursuing a master's degree or online specialization in AI, machine learning, or data science.\\n   - Stay updated with the latest research by reading papers from conferences like NeurIPS, ICML, and CVPR.\\n\\n4. **Networking and Community**:\\n   - Join AI and machine learning communities or forums, such as Reddit's ML sub, and attend meetups or conferences.\\n   - Network with professionals in the field through LinkedIn or local tech events.\\n\\n5. **Specialization**:\\n   - As you progress, consider specializing in a particular area of AI, such as natural language processing, computer vision, or robotics.\\n\\n6. **Ethics and Responsibility**:\\n   - Understand the ethical implications of AI and work towards building responsible AI systems.\\n\\nIf you have any specific questions or need more detailed guidance, feel free to ask!\", additional_kwargs={'refusal': None}, response_metadata={'token_usage': {'completion_tokens': 361, 'prompt_tokens': 21, 'total_tokens': 382, 'completion_tokens_details': {'accepted_prediction_tokens': 0, 'audio_tokens': 0, 'reasoning_tokens': 0, 'rejected_prediction_tokens': 0}, 'prompt_tokens_details': {'audio_tokens': 0, 'cached_tokens': 0}}, 'model_name': 'gpt-4o-2024-08-06', 'system_fingerprint': 'fp_ff25b2783a', 'id': 'chatcmpl-C72gFBRN43AuE0yJPRMWzXcrfUm9b', 'service_tier': 'default', 'finish_reason': 'stop', 'logprobs': None}, id='run--4a8f7c07-cade-4550-a075-93792ec7da76-0', usage_metadata={'input_tokens': 21, 'output_tokens': 361, 'total_tokens': 382, 'input_token_details': {'audio': 0, 'cache_read': 0}, 'output_token_details': {'audio': 0, 'reasoning': 0}}),\n",
       "  HumanMessage(content='What is my name?', additional_kwargs={}, response_metadata={}, id='c27798ca-5752-4682-95f2-8c194824556c'),\n",
       "  AIMessage(content='Your name is Manmath.', additional_kwargs={'refusal': None}, response_metadata={'token_usage': {'completion_tokens': 6, 'prompt_tokens': 395, 'total_tokens': 401, 'completion_tokens_details': {'accepted_prediction_tokens': 0, 'audio_tokens': 0, 'reasoning_tokens': 0, 'rejected_prediction_tokens': 0}, 'prompt_tokens_details': {'audio_tokens': 0, 'cached_tokens': 0}}, 'model_name': 'gpt-4o-2024-08-06', 'system_fingerprint': 'fp_80956533cb', 'id': 'chatcmpl-C72gNeMhxj85O7ttHsHqLdcJsg4c6', 'service_tier': 'default', 'finish_reason': 'stop', 'logprobs': None}, id='run--e4b34543-c266-474b-828a-84e89779b8a6-0', usage_metadata={'input_tokens': 395, 'output_tokens': 6, 'total_tokens': 401, 'input_token_details': {'audio': 0, 'cache_read': 0}, 'output_token_details': {'audio': 0, 'reasoning': 0}}),\n",
       "  HumanMessage(content='What was my last question?', additional_kwargs={}, response_metadata={}, id='fdf7904a-7161-406d-9186-b8b73c252cf9'),\n",
       "  AIMessage(content='Your last question was, \"What is my name?\"', additional_kwargs={'refusal': None}, response_metadata={'token_usage': {'completion_tokens': 11, 'prompt_tokens': 415, 'total_tokens': 426, 'completion_tokens_details': {'accepted_prediction_tokens': 0, 'audio_tokens': 0, 'reasoning_tokens': 0, 'rejected_prediction_tokens': 0}, 'prompt_tokens_details': {'audio_tokens': 0, 'cached_tokens': 0}}, 'model_name': 'gpt-4o-2024-08-06', 'system_fingerprint': 'fp_80956533cb', 'id': 'chatcmpl-C72gOtbLnULVY0d7rTII4xEGXUbdL', 'service_tier': 'default', 'finish_reason': 'stop', 'logprobs': None}, id='run--bc992c72-4d9e-4390-b8a3-6962d8a2aacb-0', usage_metadata={'input_tokens': 415, 'output_tokens': 11, 'total_tokens': 426, 'input_token_details': {'audio': 0, 'cache_read': 0}, 'output_token_details': {'audio': 0, 'reasoning': 0}})]}"
      ]
     },
     "execution_count": 19,
     "metadata": {},
     "output_type": "execute_result"
    }
   ],
   "source": [
    "test_simple_chatbot_with_memory(\"What was my last question?\")"
   ]
  },
  {
   "cell_type": "markdown",
   "id": "d4d1af6d",
   "metadata": {},
   "source": [
    "### TOOL INTEGRATION\n",
    "\n",
    "Real AI agents need to interact with the outside world! Let's add the tool calling capabilities\n",
    "\n",
    "### WHAT ARE TOOLS \n",
    "\n",
    "- search the web\n",
    "- Query Database\n",
    "- send email\n",
    "- perform calculations\n",
    "- Access APIs"
   ]
  },
  {
   "cell_type": "code",
   "execution_count": 20,
   "id": "cb113686",
   "metadata": {},
   "outputs": [],
   "source": [
    "import math"
   ]
  },
  {
   "cell_type": "code",
   "execution_count": 34,
   "id": "fbac15bb",
   "metadata": {},
   "outputs": [],
   "source": [
    "from langchain_core.tools import tool\n",
    "\n",
    "@tool\n",
    "def calculator(expression: str) -> str:\n",
    "    \"\"\"\n",
    "    Evaluate a mathematical expression safely.\n",
    "    \n",
    "    Args:\n",
    "        expression: A mathematical expression to evaluate (e.g., \"2 + 3 * 4\")\n",
    "        \n",
    "    Returns:\n",
    "        The result of the calculation\n",
    "    \"\"\"\n",
    "    try:\n",
    "        # Safe evaluation of mathematical expressions\n",
    "        # Only allow basic math operations\n",
    "        allowed_names = {\n",
    "            k: v for k, v in math.__dict__.items() if not k.startswith(\"__\")\n",
    "        }\n",
    "        allowed_names.update({\"abs\": abs, \"round\": round})\n",
    "        \n",
    "        result = eval(expression, {\"__builtins__\": {}}, allowed_names)\n",
    "        return f\"The result of {expression} is {result}\"\n",
    "    except Exception as e:\n",
    "        return f\"Error calculating {expression}: {str(e)}\"\n",
    "    \n",
    "@tool  \n",
    "def get_current_time() -> str:\n",
    "    \"\"\"Get the current time.\"\"\"\n",
    "    from datetime import datetime\n",
    "    return f\"Current time is: {datetime.now().strftime('%Y-%m-%d %H:%M:%S')}\"\n"
   ]
  },
  {
   "cell_type": "code",
   "execution_count": 35,
   "id": "aa264f2c",
   "metadata": {},
   "outputs": [
    {
     "data": {
      "text/plain": [
       "'The result of sqrt(16) is 4.0'"
      ]
     },
     "execution_count": 35,
     "metadata": {},
     "output_type": "execute_result"
    }
   ],
   "source": [
    "calculator(\"sqrt(16)\")"
   ]
  },
  {
   "cell_type": "code",
   "execution_count": 36,
   "id": "2b849a64",
   "metadata": {},
   "outputs": [
    {
     "data": {
      "text/plain": [
       "'Current time is: 2025-08-21 22:22:23'"
      ]
     },
     "execution_count": 36,
     "metadata": {},
     "output_type": "execute_result"
    }
   ],
   "source": [
    "get_current_time(\"\")"
   ]
  },
  {
   "cell_type": "code",
   "execution_count": 37,
   "id": "68f2042d",
   "metadata": {},
   "outputs": [
    {
     "data": {
      "text/plain": [
       "AIMessage(content='', additional_kwargs={'tool_calls': [{'id': 'call_blBCMwJHynPTd1X6KveLt0uX', 'function': {'arguments': '{\"expression\":\"sqrt(16)\"}', 'name': 'calculator'}, 'type': 'function'}], 'refusal': None}, response_metadata={'token_usage': {'completion_tokens': 17, 'prompt_tokens': 91, 'total_tokens': 108, 'completion_tokens_details': {'accepted_prediction_tokens': 0, 'audio_tokens': 0, 'reasoning_tokens': 0, 'rejected_prediction_tokens': 0}, 'prompt_tokens_details': {'audio_tokens': 0, 'cached_tokens': 0}}, 'model_name': 'gpt-4o-2024-08-06', 'system_fingerprint': 'fp_46bff0e0c8', 'id': 'chatcmpl-C72oUjx0H7Yep0CZIrKXhVbebAgVk', 'service_tier': 'default', 'finish_reason': 'tool_calls', 'logprobs': None}, id='run--e4c5d3d9-46ca-4a43-ab36-d364ade8d0a0-0', tool_calls=[{'name': 'calculator', 'args': {'expression': 'sqrt(16)'}, 'id': 'call_blBCMwJHynPTd1X6KveLt0uX', 'type': 'tool_call'}], usage_metadata={'input_tokens': 91, 'output_tokens': 17, 'total_tokens': 108, 'input_token_details': {'audio': 0, 'cache_read': 0}, 'output_token_details': {'audio': 0, 'reasoning': 0}})"
      ]
     },
     "execution_count": 37,
     "metadata": {},
     "output_type": "execute_result"
    }
   ],
   "source": [
    "from langgraph.prebuilt import ToolNode\n",
    "from langchain_core.messages import ToolMessage\n",
    "\n",
    "tools = [calculator, get_current_time]\n",
    "llm_with_tools = llm.bind_tools(tools)\n",
    "llm_with_tools.invoke(\"sqrt(16)\")"
   ]
  },
  {
   "cell_type": "code",
   "execution_count": 38,
   "id": "9b10974a",
   "metadata": {},
   "outputs": [
    {
     "data": {
      "text/plain": [
       "AIMessage(content='', additional_kwargs={'tool_calls': [{'id': 'call_etii8C8W9jAkGuDVUjaZPsCA', 'function': {'arguments': '{}', 'name': 'get_current_time'}, 'type': 'function'}], 'refusal': None}, response_metadata={'token_usage': {'completion_tokens': 11, 'prompt_tokens': 93, 'total_tokens': 104, 'completion_tokens_details': {'accepted_prediction_tokens': 0, 'audio_tokens': 0, 'reasoning_tokens': 0, 'rejected_prediction_tokens': 0}, 'prompt_tokens_details': {'audio_tokens': 0, 'cached_tokens': 0}}, 'model_name': 'gpt-4o-2024-08-06', 'system_fingerprint': 'fp_46bff0e0c8', 'id': 'chatcmpl-C72rhqkup2NUt7t7MlDprJq28jhaX', 'service_tier': 'default', 'finish_reason': 'tool_calls', 'logprobs': None}, id='run--8cc62208-7a71-4e1e-b53b-826f07d079b0-0', tool_calls=[{'name': 'get_current_time', 'args': {}, 'id': 'call_etii8C8W9jAkGuDVUjaZPsCA', 'type': 'tool_call'}], usage_metadata={'input_tokens': 93, 'output_tokens': 11, 'total_tokens': 104, 'input_token_details': {'audio': 0, 'cache_read': 0}, 'output_token_details': {'audio': 0, 'reasoning': 0}})"
      ]
     },
     "execution_count": 38,
     "metadata": {},
     "output_type": "execute_result"
    }
   ],
   "source": [
    "llm_with_tools.invoke(\"What is the current time?\")"
   ]
  },
  {
   "cell_type": "code",
   "execution_count": 39,
   "id": "593f1b56",
   "metadata": {},
   "outputs": [
    {
     "data": {
      "text/plain": [
       "AIMessage(content='As of October 2023, the Prime Minister of India is Narendra Modi.', additional_kwargs={'refusal': None}, response_metadata={'token_usage': {'completion_tokens': 17, 'prompt_tokens': 94, 'total_tokens': 111, 'completion_tokens_details': {'accepted_prediction_tokens': 0, 'audio_tokens': 0, 'reasoning_tokens': 0, 'rejected_prediction_tokens': 0}, 'prompt_tokens_details': {'audio_tokens': 0, 'cached_tokens': 0}}, 'model_name': 'gpt-4o-2024-08-06', 'system_fingerprint': 'fp_46bff0e0c8', 'id': 'chatcmpl-C72sMs7Q5WLh4cu2T3ocUEpEZCkxb', 'service_tier': 'default', 'finish_reason': 'stop', 'logprobs': None}, id='run--cadbb56b-1bf5-4eb2-9099-9103174a8343-0', usage_metadata={'input_tokens': 94, 'output_tokens': 17, 'total_tokens': 111, 'input_token_details': {'audio': 0, 'cache_read': 0}, 'output_token_details': {'audio': 0, 'reasoning': 0}})"
      ]
     },
     "execution_count": 39,
     "metadata": {},
     "output_type": "execute_result"
    }
   ],
   "source": [
    "llm_with_tools.invoke(\"Who is the PM of India?\")"
   ]
  },
  {
   "cell_type": "code",
   "execution_count": 40,
   "id": "b5bde68b",
   "metadata": {},
   "outputs": [],
   "source": [
    "from langgraph.prebuilt import ToolNode\n",
    "from langchain_core.messages import ToolMessage\n",
    "\n",
    "tools = [calculator, get_current_time]\n",
    "llm_with_tools = llm.bind_tools(tools)\n",
    "\n",
    "\n",
    "def chatbot_with_tools(state: State) -> Dict[str, Any]:\n",
    "    messages = state['messages']\n",
    "    response = llm_with_tools.invoke(messages)\n",
    "    return {\"messages\": [response]}\n",
    "\n",
    "\n",
    "\n",
    "tool_node = ToolNode(tools)"
   ]
  },
  {
   "cell_type": "code",
   "execution_count": 42,
   "id": "59ef899b",
   "metadata": {},
   "outputs": [],
   "source": [
    "from typing import Literal\n",
    "\n",
    "def should_continue(state: State) -> Literal[\"tools\", \"__end__\"]:\n",
    "    \"\"\"\n",
    "    Determine wether to continue with tools or end the conversation\n",
    "\n",
    "    Returns:\n",
    "        \"tools\" if the last message has tool calls\n",
    "        \"__end__\" if we should end the conversation\n",
    "    \"\"\"\n",
    "    last_message = state['messages'][-1]\n",
    "    if hasattr(last_message, \"tool_calls\") and last_message.tool_calls:\n",
    "        return \"tools\"\n",
    "    else:\n",
    "        return \"__end__\""
   ]
  },
  {
   "cell_type": "code",
   "execution_count": 43,
   "id": "5326f8d2",
   "metadata": {},
   "outputs": [
    {
     "data": {
      "text/plain": [
       "True"
      ]
     },
     "execution_count": 43,
     "metadata": {},
     "output_type": "execute_result"
    }
   ],
   "source": [
    "dict_var = llm_with_tools.invoke(\"2+2\")\n",
    "hasattr(dict_var, \"tool_calls\")"
   ]
  },
  {
   "cell_type": "code",
   "execution_count": 44,
   "id": "57ab6b23",
   "metadata": {},
   "outputs": [
    {
     "data": {
      "text/plain": [
       "True"
      ]
     },
     "execution_count": 44,
     "metadata": {},
     "output_type": "execute_result"
    }
   ],
   "source": [
    "dict_var = llm_with_tools.invoke(\"current time\")\n",
    "hasattr(dict_var, \"tool_calls\")"
   ]
  },
  {
   "cell_type": "code",
   "execution_count": 45,
   "id": "b4acb4ad",
   "metadata": {},
   "outputs": [
    {
     "data": {
      "text/plain": [
       "True"
      ]
     },
     "execution_count": 45,
     "metadata": {},
     "output_type": "execute_result"
    }
   ],
   "source": [
    "dict_var = llm_with_tools.invoke(\"Who is the PM of India?\")\n",
    "hasattr(dict_var, \"tool_calls\")"
   ]
  },
  {
   "cell_type": "code",
   "execution_count": 53,
   "id": "e81e7842",
   "metadata": {},
   "outputs": [],
   "source": [
    "tools_graph_builder = StateGraph(State)\n",
    "tools_graph_builder.add_node(\"chatbot\", chatbot_with_tools)\n",
    "tools_graph_builder.add_node(\"tools\", tool_node)\n",
    "\n",
    "tools_graph_builder.add_edge(START, \"chatbot\")\n",
    "tools_graph_builder.add_conditional_edges(\n",
    "    \"chatbot\",\n",
    "    should_continue,\n",
    "    {\n",
    "       \"tools\": \"tools\",\n",
    "       \"__end__\" : END\n",
    "    }\n",
    ")\n",
    "tools_graph_builder.add_edge(\"tools\", END)\n",
    "tool_chatbot = tools_graph_builder.compile(checkpointer=memory)"
   ]
  },
  {
   "cell_type": "code",
   "execution_count": 54,
   "id": "12dd72f5",
   "metadata": {},
   "outputs": [
    {
     "name": "stdout",
     "output_type": "stream",
     "text": [
      "Unique ID: 2c33d51d-d44b-4632-87c4-10f40a463cb4\n"
     ]
    }
   ],
   "source": [
    "import uuid\n",
    "unique_id = uuid.uuid4()\n",
    "print(f\"Unique ID: {unique_id}\")"
   ]
  },
  {
   "cell_type": "code",
   "execution_count": 55,
   "id": "80aaa57a",
   "metadata": {},
   "outputs": [],
   "source": [
    "def test_simple_chatbot_with_memory(user_input):\n",
    "    config = {\"configurable\": {\"thread_id\": str(unique_id)}}\n",
    "    initial_state = {\n",
    "        \"messages\": [HumanMessage(content=user_input)]\n",
    "    }\n",
    "    result = tool_chatbot.invoke(initial_state, config)\n",
    "    return result"
   ]
  },
  {
   "cell_type": "code",
   "execution_count": 56,
   "id": "11be25c4",
   "metadata": {},
   "outputs": [
    {
     "data": {
      "text/plain": [
       "{'messages': [HumanMessage(content='2+2', additional_kwargs={}, response_metadata={}, id='a82abf57-4b0e-46b4-90e1-2bab632458b3'),\n",
       "  AIMessage(content='', additional_kwargs={'tool_calls': [{'id': 'call_zIwaw295eWSWrgcAkWxPqItv', 'function': {'arguments': '{\"expression\":\"2+2\"}', 'name': 'calculator'}, 'type': 'function'}], 'refusal': None}, response_metadata={'token_usage': {'completion_tokens': 16, 'prompt_tokens': 90, 'total_tokens': 106, 'completion_tokens_details': {'accepted_prediction_tokens': 0, 'audio_tokens': 0, 'reasoning_tokens': 0, 'rejected_prediction_tokens': 0}, 'prompt_tokens_details': {'audio_tokens': 0, 'cached_tokens': 0}}, 'model_name': 'gpt-4o-2024-08-06', 'system_fingerprint': 'fp_80956533cb', 'id': 'chatcmpl-C73RP4z9BVir3N1Dpw2nQXzK37yXE', 'service_tier': 'default', 'finish_reason': 'tool_calls', 'logprobs': None}, id='run--3a250334-d7cc-493d-9364-28c1449cd2ea-0', tool_calls=[{'name': 'calculator', 'args': {'expression': '2+2'}, 'id': 'call_zIwaw295eWSWrgcAkWxPqItv', 'type': 'tool_call'}], usage_metadata={'input_tokens': 90, 'output_tokens': 16, 'total_tokens': 106, 'input_token_details': {'audio': 0, 'cache_read': 0}, 'output_token_details': {'audio': 0, 'reasoning': 0}}),\n",
       "  ToolMessage(content='The result of 2+2 is 4', name='calculator', id='2ea0f6cd-c1ab-431e-99d9-2c4c7ef766c2', tool_call_id='call_zIwaw295eWSWrgcAkWxPqItv')]}"
      ]
     },
     "execution_count": 56,
     "metadata": {},
     "output_type": "execute_result"
    }
   ],
   "source": [
    "test_simple_chatbot_with_memory(\"2+2\")"
   ]
  },
  {
   "cell_type": "code",
   "execution_count": 57,
   "id": "841bc881",
   "metadata": {},
   "outputs": [
    {
     "data": {
      "text/plain": [
       "{'messages': [HumanMessage(content='2+2', additional_kwargs={}, response_metadata={}, id='a82abf57-4b0e-46b4-90e1-2bab632458b3'),\n",
       "  AIMessage(content='', additional_kwargs={'tool_calls': [{'id': 'call_zIwaw295eWSWrgcAkWxPqItv', 'function': {'arguments': '{\"expression\":\"2+2\"}', 'name': 'calculator'}, 'type': 'function'}], 'refusal': None}, response_metadata={'token_usage': {'completion_tokens': 16, 'prompt_tokens': 90, 'total_tokens': 106, 'completion_tokens_details': {'accepted_prediction_tokens': 0, 'audio_tokens': 0, 'reasoning_tokens': 0, 'rejected_prediction_tokens': 0}, 'prompt_tokens_details': {'audio_tokens': 0, 'cached_tokens': 0}}, 'model_name': 'gpt-4o-2024-08-06', 'system_fingerprint': 'fp_80956533cb', 'id': 'chatcmpl-C73RP4z9BVir3N1Dpw2nQXzK37yXE', 'service_tier': 'default', 'finish_reason': 'tool_calls', 'logprobs': None}, id='run--3a250334-d7cc-493d-9364-28c1449cd2ea-0', tool_calls=[{'name': 'calculator', 'args': {'expression': '2+2'}, 'id': 'call_zIwaw295eWSWrgcAkWxPqItv', 'type': 'tool_call'}], usage_metadata={'input_tokens': 90, 'output_tokens': 16, 'total_tokens': 106, 'input_token_details': {'audio': 0, 'cache_read': 0}, 'output_token_details': {'audio': 0, 'reasoning': 0}}),\n",
       "  ToolMessage(content='The result of 2+2 is 4', name='calculator', id='2ea0f6cd-c1ab-431e-99d9-2c4c7ef766c2', tool_call_id='call_zIwaw295eWSWrgcAkWxPqItv'),\n",
       "  HumanMessage(content='What is the current time?', additional_kwargs={}, response_metadata={}, id='e4830b0e-9e1b-48f7-9fa3-5507e1cf8822'),\n",
       "  AIMessage(content='', additional_kwargs={'tool_calls': [{'id': 'call_4KRh96l4ZQUIcqIUMv9m9u1R', 'function': {'arguments': '{}', 'name': 'get_current_time'}, 'type': 'function'}], 'refusal': None}, response_metadata={'token_usage': {'completion_tokens': 11, 'prompt_tokens': 133, 'total_tokens': 144, 'completion_tokens_details': {'accepted_prediction_tokens': 0, 'audio_tokens': 0, 'reasoning_tokens': 0, 'rejected_prediction_tokens': 0}, 'prompt_tokens_details': {'audio_tokens': 0, 'cached_tokens': 0}}, 'model_name': 'gpt-4o-2024-08-06', 'system_fingerprint': 'fp_80956533cb', 'id': 'chatcmpl-C73RUNpKaZBxFmChk2qSCHNPl0FXn', 'service_tier': 'default', 'finish_reason': 'tool_calls', 'logprobs': None}, id='run--d2a84c24-6a9f-4019-b3cd-229767ead0b0-0', tool_calls=[{'name': 'get_current_time', 'args': {}, 'id': 'call_4KRh96l4ZQUIcqIUMv9m9u1R', 'type': 'tool_call'}], usage_metadata={'input_tokens': 133, 'output_tokens': 11, 'total_tokens': 144, 'input_token_details': {'audio': 0, 'cache_read': 0}, 'output_token_details': {'audio': 0, 'reasoning': 0}}),\n",
       "  ToolMessage(content='Current time is: 2025-08-21 23:02:45', name='get_current_time', id='ee4d3b13-b5cc-4132-ae8b-b709cc1e48fc', tool_call_id='call_4KRh96l4ZQUIcqIUMv9m9u1R')]}"
      ]
     },
     "execution_count": 57,
     "metadata": {},
     "output_type": "execute_result"
    }
   ],
   "source": [
    "test_simple_chatbot_with_memory(\"What is the current time?\")"
   ]
  },
  {
   "cell_type": "code",
   "execution_count": 58,
   "id": "1da846fa",
   "metadata": {},
   "outputs": [
    {
     "data": {
      "text/plain": [
       "{'messages': [HumanMessage(content='2+2', additional_kwargs={}, response_metadata={}, id='a82abf57-4b0e-46b4-90e1-2bab632458b3'),\n",
       "  AIMessage(content='', additional_kwargs={'tool_calls': [{'id': 'call_zIwaw295eWSWrgcAkWxPqItv', 'function': {'arguments': '{\"expression\":\"2+2\"}', 'name': 'calculator'}, 'type': 'function'}], 'refusal': None}, response_metadata={'token_usage': {'completion_tokens': 16, 'prompt_tokens': 90, 'total_tokens': 106, 'completion_tokens_details': {'accepted_prediction_tokens': 0, 'audio_tokens': 0, 'reasoning_tokens': 0, 'rejected_prediction_tokens': 0}, 'prompt_tokens_details': {'audio_tokens': 0, 'cached_tokens': 0}}, 'model_name': 'gpt-4o-2024-08-06', 'system_fingerprint': 'fp_80956533cb', 'id': 'chatcmpl-C73RP4z9BVir3N1Dpw2nQXzK37yXE', 'service_tier': 'default', 'finish_reason': 'tool_calls', 'logprobs': None}, id='run--3a250334-d7cc-493d-9364-28c1449cd2ea-0', tool_calls=[{'name': 'calculator', 'args': {'expression': '2+2'}, 'id': 'call_zIwaw295eWSWrgcAkWxPqItv', 'type': 'tool_call'}], usage_metadata={'input_tokens': 90, 'output_tokens': 16, 'total_tokens': 106, 'input_token_details': {'audio': 0, 'cache_read': 0}, 'output_token_details': {'audio': 0, 'reasoning': 0}}),\n",
       "  ToolMessage(content='The result of 2+2 is 4', name='calculator', id='2ea0f6cd-c1ab-431e-99d9-2c4c7ef766c2', tool_call_id='call_zIwaw295eWSWrgcAkWxPqItv'),\n",
       "  HumanMessage(content='What is the current time?', additional_kwargs={}, response_metadata={}, id='e4830b0e-9e1b-48f7-9fa3-5507e1cf8822'),\n",
       "  AIMessage(content='', additional_kwargs={'tool_calls': [{'id': 'call_4KRh96l4ZQUIcqIUMv9m9u1R', 'function': {'arguments': '{}', 'name': 'get_current_time'}, 'type': 'function'}], 'refusal': None}, response_metadata={'token_usage': {'completion_tokens': 11, 'prompt_tokens': 133, 'total_tokens': 144, 'completion_tokens_details': {'accepted_prediction_tokens': 0, 'audio_tokens': 0, 'reasoning_tokens': 0, 'rejected_prediction_tokens': 0}, 'prompt_tokens_details': {'audio_tokens': 0, 'cached_tokens': 0}}, 'model_name': 'gpt-4o-2024-08-06', 'system_fingerprint': 'fp_80956533cb', 'id': 'chatcmpl-C73RUNpKaZBxFmChk2qSCHNPl0FXn', 'service_tier': 'default', 'finish_reason': 'tool_calls', 'logprobs': None}, id='run--d2a84c24-6a9f-4019-b3cd-229767ead0b0-0', tool_calls=[{'name': 'get_current_time', 'args': {}, 'id': 'call_4KRh96l4ZQUIcqIUMv9m9u1R', 'type': 'tool_call'}], usage_metadata={'input_tokens': 133, 'output_tokens': 11, 'total_tokens': 144, 'input_token_details': {'audio': 0, 'cache_read': 0}, 'output_token_details': {'audio': 0, 'reasoning': 0}}),\n",
       "  ToolMessage(content='Current time is: 2025-08-21 23:02:45', name='get_current_time', id='ee4d3b13-b5cc-4132-ae8b-b709cc1e48fc', tool_call_id='call_4KRh96l4ZQUIcqIUMv9m9u1R'),\n",
       "  HumanMessage(content='Hi My name is Manmath, I aspire to be an AI Engineer', additional_kwargs={}, response_metadata={}, id='f62ac739-8fdc-4582-b37d-2b9504bc30f8'),\n",
       "  AIMessage(content=\"Hi Manmath! That's a great aspiration. Becoming an AI Engineer can open up exciting opportunities to work on cutting-edge technology and solve complex problems. If you have any questions or need guidance on how to pursue this career path, feel free to ask!\", additional_kwargs={'refusal': None}, response_metadata={'token_usage': {'completion_tokens': 51, 'prompt_tokens': 188, 'total_tokens': 239, 'completion_tokens_details': {'accepted_prediction_tokens': 0, 'audio_tokens': 0, 'reasoning_tokens': 0, 'rejected_prediction_tokens': 0}, 'prompt_tokens_details': {'audio_tokens': 0, 'cached_tokens': 0}}, 'model_name': 'gpt-4o-2024-08-06', 'system_fingerprint': 'fp_80956533cb', 'id': 'chatcmpl-C73RYCaKMQNE1U8diLerJlZ8Lxen7', 'service_tier': 'default', 'finish_reason': 'stop', 'logprobs': None}, id='run--271f601c-7e33-42ae-b655-9c6ef7f93c51-0', usage_metadata={'input_tokens': 188, 'output_tokens': 51, 'total_tokens': 239, 'input_token_details': {'audio': 0, 'cache_read': 0}, 'output_token_details': {'audio': 0, 'reasoning': 0}})]}"
      ]
     },
     "execution_count": 58,
     "metadata": {},
     "output_type": "execute_result"
    }
   ],
   "source": [
    "test_simple_chatbot_with_memory(\"Hi My name is Manmath, I aspire to be an AI Engineer\")"
   ]
  },
  {
   "cell_type": "code",
   "execution_count": 59,
   "id": "0389f1b9",
   "metadata": {},
   "outputs": [
    {
     "data": {
      "text/plain": [
       "{'messages': [HumanMessage(content='2+2', additional_kwargs={}, response_metadata={}, id='a82abf57-4b0e-46b4-90e1-2bab632458b3'),\n",
       "  AIMessage(content='', additional_kwargs={'tool_calls': [{'id': 'call_zIwaw295eWSWrgcAkWxPqItv', 'function': {'arguments': '{\"expression\":\"2+2\"}', 'name': 'calculator'}, 'type': 'function'}], 'refusal': None}, response_metadata={'token_usage': {'completion_tokens': 16, 'prompt_tokens': 90, 'total_tokens': 106, 'completion_tokens_details': {'accepted_prediction_tokens': 0, 'audio_tokens': 0, 'reasoning_tokens': 0, 'rejected_prediction_tokens': 0}, 'prompt_tokens_details': {'audio_tokens': 0, 'cached_tokens': 0}}, 'model_name': 'gpt-4o-2024-08-06', 'system_fingerprint': 'fp_80956533cb', 'id': 'chatcmpl-C73RP4z9BVir3N1Dpw2nQXzK37yXE', 'service_tier': 'default', 'finish_reason': 'tool_calls', 'logprobs': None}, id='run--3a250334-d7cc-493d-9364-28c1449cd2ea-0', tool_calls=[{'name': 'calculator', 'args': {'expression': '2+2'}, 'id': 'call_zIwaw295eWSWrgcAkWxPqItv', 'type': 'tool_call'}], usage_metadata={'input_tokens': 90, 'output_tokens': 16, 'total_tokens': 106, 'input_token_details': {'audio': 0, 'cache_read': 0}, 'output_token_details': {'audio': 0, 'reasoning': 0}}),\n",
       "  ToolMessage(content='The result of 2+2 is 4', name='calculator', id='2ea0f6cd-c1ab-431e-99d9-2c4c7ef766c2', tool_call_id='call_zIwaw295eWSWrgcAkWxPqItv'),\n",
       "  HumanMessage(content='What is the current time?', additional_kwargs={}, response_metadata={}, id='e4830b0e-9e1b-48f7-9fa3-5507e1cf8822'),\n",
       "  AIMessage(content='', additional_kwargs={'tool_calls': [{'id': 'call_4KRh96l4ZQUIcqIUMv9m9u1R', 'function': {'arguments': '{}', 'name': 'get_current_time'}, 'type': 'function'}], 'refusal': None}, response_metadata={'token_usage': {'completion_tokens': 11, 'prompt_tokens': 133, 'total_tokens': 144, 'completion_tokens_details': {'accepted_prediction_tokens': 0, 'audio_tokens': 0, 'reasoning_tokens': 0, 'rejected_prediction_tokens': 0}, 'prompt_tokens_details': {'audio_tokens': 0, 'cached_tokens': 0}}, 'model_name': 'gpt-4o-2024-08-06', 'system_fingerprint': 'fp_80956533cb', 'id': 'chatcmpl-C73RUNpKaZBxFmChk2qSCHNPl0FXn', 'service_tier': 'default', 'finish_reason': 'tool_calls', 'logprobs': None}, id='run--d2a84c24-6a9f-4019-b3cd-229767ead0b0-0', tool_calls=[{'name': 'get_current_time', 'args': {}, 'id': 'call_4KRh96l4ZQUIcqIUMv9m9u1R', 'type': 'tool_call'}], usage_metadata={'input_tokens': 133, 'output_tokens': 11, 'total_tokens': 144, 'input_token_details': {'audio': 0, 'cache_read': 0}, 'output_token_details': {'audio': 0, 'reasoning': 0}}),\n",
       "  ToolMessage(content='Current time is: 2025-08-21 23:02:45', name='get_current_time', id='ee4d3b13-b5cc-4132-ae8b-b709cc1e48fc', tool_call_id='call_4KRh96l4ZQUIcqIUMv9m9u1R'),\n",
       "  HumanMessage(content='Hi My name is Manmath, I aspire to be an AI Engineer', additional_kwargs={}, response_metadata={}, id='f62ac739-8fdc-4582-b37d-2b9504bc30f8'),\n",
       "  AIMessage(content=\"Hi Manmath! That's a great aspiration. Becoming an AI Engineer can open up exciting opportunities to work on cutting-edge technology and solve complex problems. If you have any questions or need guidance on how to pursue this career path, feel free to ask!\", additional_kwargs={'refusal': None}, response_metadata={'token_usage': {'completion_tokens': 51, 'prompt_tokens': 188, 'total_tokens': 239, 'completion_tokens_details': {'accepted_prediction_tokens': 0, 'audio_tokens': 0, 'reasoning_tokens': 0, 'rejected_prediction_tokens': 0}, 'prompt_tokens_details': {'audio_tokens': 0, 'cached_tokens': 0}}, 'model_name': 'gpt-4o-2024-08-06', 'system_fingerprint': 'fp_80956533cb', 'id': 'chatcmpl-C73RYCaKMQNE1U8diLerJlZ8Lxen7', 'service_tier': 'default', 'finish_reason': 'stop', 'logprobs': None}, id='run--271f601c-7e33-42ae-b655-9c6ef7f93c51-0', usage_metadata={'input_tokens': 188, 'output_tokens': 51, 'total_tokens': 239, 'input_token_details': {'audio': 0, 'cache_read': 0}, 'output_token_details': {'audio': 0, 'reasoning': 0}}),\n",
       "  HumanMessage(content='What was my second last question?', additional_kwargs={}, response_metadata={}, id='625646df-643a-4bb0-ab93-e0e34b24e210'),\n",
       "  AIMessage(content='Your second last question was: \"What is the current time?\"', additional_kwargs={'refusal': None}, response_metadata={'token_usage': {'completion_tokens': 14, 'prompt_tokens': 253, 'total_tokens': 267, 'completion_tokens_details': {'accepted_prediction_tokens': 0, 'audio_tokens': 0, 'reasoning_tokens': 0, 'rejected_prediction_tokens': 0}, 'prompt_tokens_details': {'audio_tokens': 0, 'cached_tokens': 0}}, 'model_name': 'gpt-4o-2024-08-06', 'system_fingerprint': 'fp_80956533cb', 'id': 'chatcmpl-C73Rdzqs7sC7md7lOGaneTDwZ7d48', 'service_tier': 'default', 'finish_reason': 'stop', 'logprobs': None}, id='run--38618202-824a-4b43-8dc7-5c12ed60e96b-0', usage_metadata={'input_tokens': 253, 'output_tokens': 14, 'total_tokens': 267, 'input_token_details': {'audio': 0, 'cache_read': 0}, 'output_token_details': {'audio': 0, 'reasoning': 0}})]}"
      ]
     },
     "execution_count": 59,
     "metadata": {},
     "output_type": "execute_result"
    }
   ],
   "source": [
    "test_simple_chatbot_with_memory(\"What was my second last question?\")"
   ]
  },
  {
   "cell_type": "code",
   "execution_count": 60,
   "id": "194160ca",
   "metadata": {},
   "outputs": [
    {
     "data": {
      "text/plain": [
       "{'messages': [HumanMessage(content='2+2', additional_kwargs={}, response_metadata={}, id='a82abf57-4b0e-46b4-90e1-2bab632458b3'),\n",
       "  AIMessage(content='', additional_kwargs={'tool_calls': [{'id': 'call_zIwaw295eWSWrgcAkWxPqItv', 'function': {'arguments': '{\"expression\":\"2+2\"}', 'name': 'calculator'}, 'type': 'function'}], 'refusal': None}, response_metadata={'token_usage': {'completion_tokens': 16, 'prompt_tokens': 90, 'total_tokens': 106, 'completion_tokens_details': {'accepted_prediction_tokens': 0, 'audio_tokens': 0, 'reasoning_tokens': 0, 'rejected_prediction_tokens': 0}, 'prompt_tokens_details': {'audio_tokens': 0, 'cached_tokens': 0}}, 'model_name': 'gpt-4o-2024-08-06', 'system_fingerprint': 'fp_80956533cb', 'id': 'chatcmpl-C73RP4z9BVir3N1Dpw2nQXzK37yXE', 'service_tier': 'default', 'finish_reason': 'tool_calls', 'logprobs': None}, id='run--3a250334-d7cc-493d-9364-28c1449cd2ea-0', tool_calls=[{'name': 'calculator', 'args': {'expression': '2+2'}, 'id': 'call_zIwaw295eWSWrgcAkWxPqItv', 'type': 'tool_call'}], usage_metadata={'input_tokens': 90, 'output_tokens': 16, 'total_tokens': 106, 'input_token_details': {'audio': 0, 'cache_read': 0}, 'output_token_details': {'audio': 0, 'reasoning': 0}}),\n",
       "  ToolMessage(content='The result of 2+2 is 4', name='calculator', id='2ea0f6cd-c1ab-431e-99d9-2c4c7ef766c2', tool_call_id='call_zIwaw295eWSWrgcAkWxPqItv'),\n",
       "  HumanMessage(content='What is the current time?', additional_kwargs={}, response_metadata={}, id='e4830b0e-9e1b-48f7-9fa3-5507e1cf8822'),\n",
       "  AIMessage(content='', additional_kwargs={'tool_calls': [{'id': 'call_4KRh96l4ZQUIcqIUMv9m9u1R', 'function': {'arguments': '{}', 'name': 'get_current_time'}, 'type': 'function'}], 'refusal': None}, response_metadata={'token_usage': {'completion_tokens': 11, 'prompt_tokens': 133, 'total_tokens': 144, 'completion_tokens_details': {'accepted_prediction_tokens': 0, 'audio_tokens': 0, 'reasoning_tokens': 0, 'rejected_prediction_tokens': 0}, 'prompt_tokens_details': {'audio_tokens': 0, 'cached_tokens': 0}}, 'model_name': 'gpt-4o-2024-08-06', 'system_fingerprint': 'fp_80956533cb', 'id': 'chatcmpl-C73RUNpKaZBxFmChk2qSCHNPl0FXn', 'service_tier': 'default', 'finish_reason': 'tool_calls', 'logprobs': None}, id='run--d2a84c24-6a9f-4019-b3cd-229767ead0b0-0', tool_calls=[{'name': 'get_current_time', 'args': {}, 'id': 'call_4KRh96l4ZQUIcqIUMv9m9u1R', 'type': 'tool_call'}], usage_metadata={'input_tokens': 133, 'output_tokens': 11, 'total_tokens': 144, 'input_token_details': {'audio': 0, 'cache_read': 0}, 'output_token_details': {'audio': 0, 'reasoning': 0}}),\n",
       "  ToolMessage(content='Current time is: 2025-08-21 23:02:45', name='get_current_time', id='ee4d3b13-b5cc-4132-ae8b-b709cc1e48fc', tool_call_id='call_4KRh96l4ZQUIcqIUMv9m9u1R'),\n",
       "  HumanMessage(content='Hi My name is Manmath, I aspire to be an AI Engineer', additional_kwargs={}, response_metadata={}, id='f62ac739-8fdc-4582-b37d-2b9504bc30f8'),\n",
       "  AIMessage(content=\"Hi Manmath! That's a great aspiration. Becoming an AI Engineer can open up exciting opportunities to work on cutting-edge technology and solve complex problems. If you have any questions or need guidance on how to pursue this career path, feel free to ask!\", additional_kwargs={'refusal': None}, response_metadata={'token_usage': {'completion_tokens': 51, 'prompt_tokens': 188, 'total_tokens': 239, 'completion_tokens_details': {'accepted_prediction_tokens': 0, 'audio_tokens': 0, 'reasoning_tokens': 0, 'rejected_prediction_tokens': 0}, 'prompt_tokens_details': {'audio_tokens': 0, 'cached_tokens': 0}}, 'model_name': 'gpt-4o-2024-08-06', 'system_fingerprint': 'fp_80956533cb', 'id': 'chatcmpl-C73RYCaKMQNE1U8diLerJlZ8Lxen7', 'service_tier': 'default', 'finish_reason': 'stop', 'logprobs': None}, id='run--271f601c-7e33-42ae-b655-9c6ef7f93c51-0', usage_metadata={'input_tokens': 188, 'output_tokens': 51, 'total_tokens': 239, 'input_token_details': {'audio': 0, 'cache_read': 0}, 'output_token_details': {'audio': 0, 'reasoning': 0}}),\n",
       "  HumanMessage(content='What was my second last question?', additional_kwargs={}, response_metadata={}, id='625646df-643a-4bb0-ab93-e0e34b24e210'),\n",
       "  AIMessage(content='Your second last question was: \"What is the current time?\"', additional_kwargs={'refusal': None}, response_metadata={'token_usage': {'completion_tokens': 14, 'prompt_tokens': 253, 'total_tokens': 267, 'completion_tokens_details': {'accepted_prediction_tokens': 0, 'audio_tokens': 0, 'reasoning_tokens': 0, 'rejected_prediction_tokens': 0}, 'prompt_tokens_details': {'audio_tokens': 0, 'cached_tokens': 0}}, 'model_name': 'gpt-4o-2024-08-06', 'system_fingerprint': 'fp_80956533cb', 'id': 'chatcmpl-C73Rdzqs7sC7md7lOGaneTDwZ7d48', 'service_tier': 'default', 'finish_reason': 'stop', 'logprobs': None}, id='run--38618202-824a-4b43-8dc7-5c12ed60e96b-0', usage_metadata={'input_tokens': 253, 'output_tokens': 14, 'total_tokens': 267, 'input_token_details': {'audio': 0, 'cache_read': 0}, 'output_token_details': {'audio': 0, 'reasoning': 0}}),\n",
       "  HumanMessage(content='What was my first question?', additional_kwargs={}, response_metadata={}, id='13a34603-13d3-4722-ad7a-584408afc3b8'),\n",
       "  AIMessage(content='Your first question was: \"2+2\"', additional_kwargs={'refusal': None}, response_metadata={'token_usage': {'completion_tokens': 11, 'prompt_tokens': 280, 'total_tokens': 291, 'completion_tokens_details': {'accepted_prediction_tokens': 0, 'audio_tokens': 0, 'reasoning_tokens': 0, 'rejected_prediction_tokens': 0}, 'prompt_tokens_details': {'audio_tokens': 0, 'cached_tokens': 0}}, 'model_name': 'gpt-4o-2024-08-06', 'system_fingerprint': 'fp_80956533cb', 'id': 'chatcmpl-C73SBwHGPAxlIZPVsP1vsvZ0PdZT1', 'service_tier': 'default', 'finish_reason': 'stop', 'logprobs': None}, id='run--5a14b012-6c8f-47ed-87dd-206d8b2f4142-0', usage_metadata={'input_tokens': 280, 'output_tokens': 11, 'total_tokens': 291, 'input_token_details': {'audio': 0, 'cache_read': 0}, 'output_token_details': {'audio': 0, 'reasoning': 0}})]}"
      ]
     },
     "execution_count": 60,
     "metadata": {},
     "output_type": "execute_result"
    }
   ],
   "source": [
    "test_simple_chatbot_with_memory(\"What was my first question?\")"
   ]
  },
  {
   "cell_type": "code",
   "execution_count": 61,
   "id": "0c8c5c8b",
   "metadata": {},
   "outputs": [
    {
     "data": {
      "image/png": "[encoded data removed]",
      "text/plain": [
       "<IPython.core.display.Image object>"
      ]
     },
     "metadata": {},
     "output_type": "display_data"
    }
   ],
   "source": [
    "from IPython.display import Image, display\n",
    "\n",
    "try:\n",
    "    display(Image(tool_chatbot.get_graph().draw_mermaid_png()))\n",
    "except Exception as e:\n",
    "    print(e)"
   ]
  },
  {
   "cell_type": "code",
   "execution_count": 75,
   "id": "8c15a6a0",
   "metadata": {},
   "outputs": [
    {
     "name": "stdout",
     "output_type": "stream",
     "text": [
      "unique ID:- 052bdcf5-5e0e-45da-990c-1d73eaa9af46\n"
     ]
    }
   ],
   "source": [
    "import uuid\n",
    "unique_id = uuid.uuid4()\n",
    "print(f\"unique ID:- {unique_id}\")"
   ]
  },
  {
   "cell_type": "code",
   "execution_count": 76,
   "id": "6b987038",
   "metadata": {},
   "outputs": [],
   "source": [
    "def test_tool_chatbot(user_message):\n",
    "    print(\"🛠️ Testing Tool-Enabled Chatbot\")\n",
    "    print(\"=\" * 50)\n",
    "    \n",
    "    config = {\"configurable\": {\"thread_id\": \"tool_test_1\"}}\n",
    "    \n",
    "    print(f\"User Message: {user_message}\")\n",
    "    result1 = tool_chatbot.invoke(\n",
    "        {\"messages\": [HumanMessage(content=user_message)]},\n",
    "        config\n",
    "    )\n",
    "    \n",
    "    for message in result1[\"messages\"]:\n",
    "        if isinstance(message, HumanMessage):\n",
    "            print(f\"👤 Human: {message.content}\")\n",
    "        elif isinstance(message, AIMessage):\n",
    "            if hasattr(message, 'tool_calls') and message.tool_calls:\n",
    "                print(f\"🤖 AI: [Calling tool: {message.tool_calls[0]['name']}]\")\n",
    "            else:\n",
    "                print(f\"🤖 AI: {message.content}\")\n",
    "        elif isinstance(message, ToolMessage):\n",
    "            print(f\"🔧 Tool: {message.content}\")"
   ]
  },
  {
   "cell_type": "code",
   "execution_count": 77,
   "id": "e4a4f1e0",
   "metadata": {},
   "outputs": [
    {
     "name": "stdout",
     "output_type": "stream",
     "text": [
      "🛠️ Testing Tool-Enabled Chatbot\n",
      "==================================================\n",
      "User Message: What is the capital of France?\n",
      "👤 Human: What is the capital of France?\n",
      "🤖 AI: The capital of France is Paris.\n",
      "👤 Human: What is the time?\n",
      "🤖 AI: [Calling tool: get_current_time]\n",
      "🔧 Tool: Current time is: 2025-08-21 23:21:07\n",
      "👤 Human: 2 + 3 * 4\n",
      "🤖 AI: [Calling tool: calculator]\n",
      "🔧 Tool: The result of 2 + 3 * 4 is 14\n",
      "👤 Human: Who is the CEO of OpenAI?\n",
      "🤖 AI: As of October 2023, the CEO of OpenAI is Sam Altman.\n",
      "👤 Human: What was my second question?\n",
      "🤖 AI: Your second question was: \"What is the time?\"\n",
      "👤 Human: What is the capital of France?\n",
      "🤖 AI: The capital of France is Paris.\n",
      "👤 Human: What is the time?\n",
      "🤖 AI: [Calling tool: get_current_time]\n",
      "🔧 Tool: Current time is: 2025-08-21 23:23:05\n",
      "👤 Human: 2 + 3 * 4\n",
      "🤖 AI: [Calling tool: calculator]\n",
      "🔧 Tool: The result of 2 + 3 * 4 is 14\n",
      "👤 Human: Who is the CEO of OpenAI?\n",
      "🤖 AI: As of October 2023, the CEO of OpenAI is Sam Altman.\n",
      "👤 Human: What was my second question?\n",
      "🤖 AI: Your second question was: \"What is the time?\"\n",
      "👤 Human: What is the capital of France?\n",
      "🤖 AI: The capital of France is Paris.\n"
     ]
    }
   ],
   "source": [
    "test_tool_chatbot(\"What is the capital of France?\")"
   ]
  },
  {
   "cell_type": "code",
   "execution_count": 71,
   "id": "1e4f2f88",
   "metadata": {},
   "outputs": [
    {
     "name": "stdout",
     "output_type": "stream",
     "text": [
      "🛠️ Testing Tool-Enabled Chatbot\n",
      "==================================================\n",
      "User Message: What is the time?\n",
      "👤 Human: What is the capital of France?\n",
      "🤖 AI: The capital of France is Paris.\n",
      "👤 Human: What is the time?\n",
      "🤖 AI: [Calling tool: get_current_time]\n",
      "🔧 Tool: Current time is: 2025-08-21 23:21:07\n",
      "👤 Human: 2 + 3 * 4\n",
      "🤖 AI: [Calling tool: calculator]\n",
      "🔧 Tool: The result of 2 + 3 * 4 is 14\n",
      "👤 Human: Who is the CEO of OpenAI?\n",
      "🤖 AI: As of October 2023, the CEO of OpenAI is Sam Altman.\n",
      "👤 Human: What was my second question?\n",
      "🤖 AI: Your second question was: \"What is the time?\"\n",
      "👤 Human: What is the capital of France?\n",
      "🤖 AI: The capital of France is Paris.\n",
      "👤 Human: What is the time?\n",
      "🤖 AI: [Calling tool: get_current_time]\n",
      "🔧 Tool: Current time is: 2025-08-21 23:23:05\n"
     ]
    }
   ],
   "source": [
    "test_tool_chatbot(\"What is the time?\")"
   ]
  },
  {
   "cell_type": "code",
   "execution_count": 72,
   "id": "1aeb973d",
   "metadata": {},
   "outputs": [
    {
     "name": "stdout",
     "output_type": "stream",
     "text": [
      "🛠️ Testing Tool-Enabled Chatbot\n",
      "==================================================\n",
      "User Message: 2 + 3 * 4\n",
      "👤 Human: What is the capital of France?\n",
      "🤖 AI: The capital of France is Paris.\n",
      "👤 Human: What is the time?\n",
      "🤖 AI: [Calling tool: get_current_time]\n",
      "🔧 Tool: Current time is: 2025-08-21 23:21:07\n",
      "👤 Human: 2 + 3 * 4\n",
      "🤖 AI: [Calling tool: calculator]\n",
      "🔧 Tool: The result of 2 + 3 * 4 is 14\n",
      "👤 Human: Who is the CEO of OpenAI?\n",
      "🤖 AI: As of October 2023, the CEO of OpenAI is Sam Altman.\n",
      "👤 Human: What was my second question?\n",
      "🤖 AI: Your second question was: \"What is the time?\"\n",
      "👤 Human: What is the capital of France?\n",
      "🤖 AI: The capital of France is Paris.\n",
      "👤 Human: What is the time?\n",
      "🤖 AI: [Calling tool: get_current_time]\n",
      "🔧 Tool: Current time is: 2025-08-21 23:23:05\n",
      "👤 Human: 2 + 3 * 4\n",
      "🤖 AI: [Calling tool: calculator]\n",
      "🔧 Tool: The result of 2 + 3 * 4 is 14\n"
     ]
    }
   ],
   "source": [
    "test_tool_chatbot(\"2 + 3 * 4\")"
   ]
  },
  {
   "cell_type": "code",
   "execution_count": 73,
   "id": "d3541cee",
   "metadata": {},
   "outputs": [
    {
     "name": "stdout",
     "output_type": "stream",
     "text": [
      "🛠️ Testing Tool-Enabled Chatbot\n",
      "==================================================\n",
      "User Message: Who is the CEO of OpenAI?\n",
      "👤 Human: What is the capital of France?\n",
      "🤖 AI: The capital of France is Paris.\n",
      "👤 Human: What is the time?\n",
      "🤖 AI: [Calling tool: get_current_time]\n",
      "🔧 Tool: Current time is: 2025-08-21 23:21:07\n",
      "👤 Human: 2 + 3 * 4\n",
      "🤖 AI: [Calling tool: calculator]\n",
      "🔧 Tool: The result of 2 + 3 * 4 is 14\n",
      "👤 Human: Who is the CEO of OpenAI?\n",
      "🤖 AI: As of October 2023, the CEO of OpenAI is Sam Altman.\n",
      "👤 Human: What was my second question?\n",
      "🤖 AI: Your second question was: \"What is the time?\"\n",
      "👤 Human: What is the capital of France?\n",
      "🤖 AI: The capital of France is Paris.\n",
      "👤 Human: What is the time?\n",
      "🤖 AI: [Calling tool: get_current_time]\n",
      "🔧 Tool: Current time is: 2025-08-21 23:23:05\n",
      "👤 Human: 2 + 3 * 4\n",
      "🤖 AI: [Calling tool: calculator]\n",
      "🔧 Tool: The result of 2 + 3 * 4 is 14\n",
      "👤 Human: Who is the CEO of OpenAI?\n",
      "🤖 AI: As of October 2023, the CEO of OpenAI is Sam Altman.\n"
     ]
    }
   ],
   "source": [
    "test_tool_chatbot(\"Who is the CEO of OpenAI?\")"
   ]
  },
  {
   "cell_type": "code",
   "execution_count": 74,
   "id": "ea4c9713",
   "metadata": {},
   "outputs": [
    {
     "name": "stdout",
     "output_type": "stream",
     "text": [
      "🛠️ Testing Tool-Enabled Chatbot\n",
      "==================================================\n",
      "User Message: What was my second question?\n",
      "👤 Human: What is the capital of France?\n",
      "🤖 AI: The capital of France is Paris.\n",
      "👤 Human: What is the time?\n",
      "🤖 AI: [Calling tool: get_current_time]\n",
      "🔧 Tool: Current time is: 2025-08-21 23:21:07\n",
      "👤 Human: 2 + 3 * 4\n",
      "🤖 AI: [Calling tool: calculator]\n",
      "🔧 Tool: The result of 2 + 3 * 4 is 14\n",
      "👤 Human: Who is the CEO of OpenAI?\n",
      "🤖 AI: As of October 2023, the CEO of OpenAI is Sam Altman.\n",
      "👤 Human: What was my second question?\n",
      "🤖 AI: Your second question was: \"What is the time?\"\n",
      "👤 Human: What is the capital of France?\n",
      "🤖 AI: The capital of France is Paris.\n",
      "👤 Human: What is the time?\n",
      "🤖 AI: [Calling tool: get_current_time]\n",
      "🔧 Tool: Current time is: 2025-08-21 23:23:05\n",
      "👤 Human: 2 + 3 * 4\n",
      "🤖 AI: [Calling tool: calculator]\n",
      "🔧 Tool: The result of 2 + 3 * 4 is 14\n",
      "👤 Human: Who is the CEO of OpenAI?\n",
      "🤖 AI: As of October 2023, the CEO of OpenAI is Sam Altman.\n",
      "👤 Human: What was my second question?\n",
      "🤖 AI: Your second question was: \"What is the time?\"\n"
     ]
    }
   ],
   "source": [
    "test_tool_chatbot(\"What was my second question?\")"
   ]
  },
  {
   "cell_type": "markdown",
   "id": "47ccc1be",
   "metadata": {},
   "source": [
    "### Human in loop\n",
    "\n",
    "Sometimes AI Agents need Human Oversight or approval before actions.\n",
    "\n",
    "### What are the Interupts\n",
    "- Review what the agent plan to do\n",
    "- Modify the state if needed \n",
    "- Approve or reject action\n",
    "- Provide additional guidance"
   ]
  },
  {
   "cell_type": "code",
   "execution_count": 78,
   "id": "0d431e77",
   "metadata": {},
   "outputs": [],
   "source": [
    "class HumanLoopState(TypedDict):\n",
    "    messages: Annotated[list, add_messages]\n",
    "    human_approval: bool"
   ]
  },
  {
   "cell_type": "code",
   "execution_count": 86,
   "id": "a614779b",
   "metadata": {},
   "outputs": [],
   "source": [
    "@tool\n",
    "def request_human_help(question: str) -> str:\n",
    "    \"\"\"\n",
    "    Request help from human Supervision.\n",
    "\n",
    "    Args:\n",
    "        questions: The question that needs human assistance.\n",
    "    Returns:\n",
    "        Confirmation that help was requested.\n",
    "    \"\"\"\n",
    "    return f\"Human Help requested for: {question}\"\n",
    "\n",
    "human_tools = [calculator, get_current_time, request_human_help]\n",
    "llm_with_human_tools = llm.bind_tools(human_tools)"
   ]
  },
  {
   "cell_type": "markdown",
   "id": "7bc02285",
   "metadata": {},
   "source": [
    "### Create a node with Human assistance logic"
   ]
  },
  {
   "cell_type": "code",
   "execution_count": 87,
   "id": "42757637",
   "metadata": {},
   "outputs": [],
   "source": [
    "def chatbot_with_human_help(state: HumanLoopState) -> Dict[str, Any]:\n",
    "    messages = state[\"messages\"]\n",
    "    response = llm_with_human_tools.invoke(messages)\n",
    "    ask_human = False\n",
    "    if hasattr(response, \"tool_calls\"):\n",
    "        for tool_call in response.tool_calls:\n",
    "            if tool_call['name'] == 'request_human_help':\n",
    "                ask_human = True\n",
    "    return {\"messages\": [response], \"ask_human\": ask_human}\n",
    "\n",
    "\n",
    "\n",
    "def human_node(state: HumanLoopState) -> Dict[str, Any]:\n",
    "    \"\"\"\n",
    "    Human intervention node- this is where human can provide input\n",
    "    \"\"\"\n",
    "    last_message = state['messages'][-1]\n",
    "    if hasattr(last_message, \"tool_calls\") and last_message.tool_calls:\n",
    "        tool_call = last_message.tool_calls[0]\n",
    "        if tool_call['name'] ==  \"request_human_help\":\n",
    "            human_response = \"I'have reviewed your question, Please process with calculation and provide a detail Explanation\"\n",
    "            tool_message = ToolMessage(\n",
    "                content = human_response, \n",
    "                tool_call_id = tool_call['id']\n",
    "\n",
    "            )\n",
    "            return {\"messages\": [tool_message],\n",
    "                    \"ask_human\": False}\n",
    "\n",
    "    return {\"ask_human\": False}"
   ]
  },
  {
   "cell_type": "code",
   "execution_count": 88,
   "id": "123a60b7",
   "metadata": {},
   "outputs": [],
   "source": [
    "def route_human_loop(state: HumanLoopState) -> Literal[\"human\", \"tools\", \"__end__\"]:\n",
    "    \"\"\"\n",
    "    Route based on whether human help needed or tool cshould be called\n",
    "\n",
    "    \"\"\"\n",
    "    if state.get(\"ask_human\", False):\n",
    "        return \"human\"\n",
    "\n",
    "    messages = state['messages']\n",
    "    last_message = messages[-1]\n",
    "\n",
    "    if hasattr(last_message, \"tool_calls\"):\n",
    "        for tool_call in last_message.tool_calls:\n",
    "            if tool_call[\"name\"] != \"request_human_help\":\n",
    "                return \"tools\"\n",
    "        return \"human\" \n",
    "\n",
    "    else:\n",
    "        return \"__end__\""
   ]
  },
  {
   "cell_type": "code",
   "execution_count": 89,
   "id": "67c5920a",
   "metadata": {},
   "outputs": [],
   "source": [
    "human_loop_builder = StateGraph(HumanLoopState)\n",
    "human_loop_builder.add_node(\"chatbot\", chatbot_with_human_help)\n",
    "human_loop_builder.add_node(\"tools\", ToolNode(human_tools))\n",
    "human_loop_builder.add_node(\"human\", human_node)\n",
    "\n",
    "human_loop_builder.add_edge(START, \"chatbot\")\n",
    "human_loop_builder.add_conditional_edges(\n",
    "    \"chatbot\",\n",
    "    route_human_loop,\n",
    "    {\n",
    "        \"human\": \"human\",\n",
    "        \"tools\": \"tools\",\n",
    "        \"__end__\": END\n",
    "    }\n",
    ")\n",
    "human_loop_builder.add_edge(\"human\", END)\n",
    "human_loop_builder.add_edge(\"tools\", END)\n",
    "human_loop_chatbot = human_loop_builder.compile(\n",
    "    checkpointer=memory,\n",
    "    interrupt_before=[\"human\"]\n",
    ")\n",
    "\n"
   ]
  },
  {
   "cell_type": "code",
   "execution_count": 90,
   "id": "d2fbdc6f",
   "metadata": {},
   "outputs": [
    {
     "data": {
      "image/png": "[encoded data removed]",
      "text/plain": [
       "<IPython.core.display.Image object>"
      ]
     },
     "metadata": {},
     "output_type": "display_data"
    }
   ],
   "source": [
    "from IPython.display import Image, display\n",
    "\n",
    "try:\n",
    "    display(Image(human_loop_chatbot.get_graph().draw_mermaid_png()))\n",
    "except Exception as e:\n",
    "    print(e)"
   ]
  },
  {
   "cell_type": "code",
   "execution_count": null,
   "id": "1bc61f08",
   "metadata": {},
   "outputs": [],
   "source": [
    "def test_human_loop(user_message):\n",
    "    print(\"🛠️ Testing Tool-Enabled Chatbot\")\n",
    "    print(\"=\" * 50)\n",
    "    \n",
    "    config = {\"configurable\": {\"thread_id\": \"human_loop_test\"}}\n",
    "\n",
    "    initial_result = human_loop_chatbot.invoke(\n",
    "        {\"messages\": [HumanMessage(content=user_message)]},\n",
    "        config\n",
    "    )\n",
    "    for message in initial_result['messages']:\n",
    "        if isinstance(message, HumanMessage):\n",
    "            print(f\"Human: {message.content}\")\n",
    "        elif isinstance(message, AIMessage):\n",
    "            if hasattr(message, 'tool_calls') and message.tool_calls:\n",
    "                print(f\"AI: [Calling tool: {message.tool_calls[0]['name']}]\")\n",
    "            else:\n",
    "                print(f\"AI: {message.content}\")"
   ]
  }
 ],
 "metadata": {
  "kernelspec": {
   "display_name": "ai_agents",
   "language": "python",
   "name": "python3"
  },
  "language_info": {
   "codemirror_mode": {
    "name": "ipython",
    "version": 3
   },
   "file_extension": ".py",
   "mimetype": "text/x-python",
   "name": "python",
   "nbconvert_exporter": "python",
   "pygments_lexer": "ipython3",
   "version": "3.11.13"
  }
 },
 "nbformat": 4,
 "nbformat_minor": 5
}
