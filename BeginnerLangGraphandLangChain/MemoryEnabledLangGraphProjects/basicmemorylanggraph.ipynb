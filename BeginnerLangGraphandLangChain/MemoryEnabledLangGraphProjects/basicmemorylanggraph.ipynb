{
 "cells": [
  {
   "cell_type": "code",
   "execution_count": 1,
   "id": "e2ea7195",
   "metadata": {},
   "outputs": [],
   "source": [
    "from typing import Annotated, List, Dict, Any\n",
    "from typing_extensions import TypedDict\n",
    "from langgraph.graph import START, END, StateGraph\n",
    "from langgraph.graph.message import add_messages\n",
    "from langchain_core.messages import HumanMessage, AIMessage\n",
    "from langchain_openai import ChatOpenAI"
   ]
  },
  {
   "cell_type": "code",
   "execution_count": 2,
   "id": "e5cef1ac",
   "metadata": {},
   "outputs": [],
   "source": [
    "class MemState(TypedDict):\n",
    "    messages: Annotated[List, add_messages]\n",
    "    session_id: str"
   ]
  },
  {
   "cell_type": "code",
   "execution_count": 3,
   "id": "e3f480e1",
   "metadata": {},
   "outputs": [],
   "source": [
    "class MemoryStore:\n",
    "    def __init__(self):\n",
    "        self.__db: Dict[str, List] = {}\n",
    "    def get(self, session_id: str) -> List:\n",
    "        return list(self.__db.get(session_id, []))\n",
    "    def set(self, session_id: str, msgs: List) -> List:\n",
    "        self.__db[self.__db_key(session_id) if hasattr(self, '__db_key') else session_id] = list(msgs)\n",
    "    def clear(self, session_id: str) -> None:\n",
    "        self.__db.pop(session_id, None)"
   ]
  },
  {
   "cell_type": "code",
   "execution_count": 4,
   "id": "19d11fd3",
   "metadata": {},
   "outputs": [],
   "source": [
    "MEMORY = MemoryStore()"
   ]
  },
  {
   "cell_type": "code",
   "execution_count": 5,
   "id": "8aa2c353",
   "metadata": {},
   "outputs": [],
   "source": [
    "def _rough_token_count(messages: List) -> int:\n",
    "    total = 0\n",
    "    for m in messages:\n",
    "        text = getattr(m, \"content\", \"\")\n",
    "        total += len(str(text).split())\n",
    "    return total"
   ]
  },
  {
   "cell_type": "code",
   "execution_count": 6,
   "id": "feadf0ef",
   "metadata": {},
   "outputs": [],
   "source": [
    "def trim_to_budget(messages: List, max_tokens: int=200) -> List:\n",
    "    kept = []\n",
    "    running = 0\n",
    "    for m in reversed(messages):\n",
    "        words = len(str(getattr(m, \"content\", \"\")).split())\n",
    "        if running + words > max_tokens:\n",
    "            break\n",
    "        kept.append(m)\n",
    "        running += words\n",
    "    return list(reversed(kept))"
   ]
  },
  {
   "cell_type": "code",
   "execution_count": 7,
   "id": "f1b658b3",
   "metadata": {},
   "outputs": [],
   "source": [
    "llm = ChatOpenAI(model=\"gpt-4o-mini\")"
   ]
  },
  {
   "cell_type": "code",
   "execution_count": 8,
   "id": "24e40c76",
   "metadata": {},
   "outputs": [],
   "source": [
    "def route(state: MemState) -> str:\n",
    "    last = state['messages'][-1].content.lower()\n",
    "    if any(w in last for w in [\"reset\", \"clear memory\", \"clear\", \"start over\"]):\n",
    "        return \"clear\"\n",
    "    return \"chat\""
   ]
  },
  {
   "cell_type": "code",
   "execution_count": 9,
   "id": "397355b9",
   "metadata": {},
   "outputs": [],
   "source": [
    "def chat_node(state: MemState) -> Dict[str, Any]:\n",
    "    session = state['session_id']\n",
    "    past = MEMORY.get(session)\n",
    "    current = state['messages']\n",
    "    prompt_messages = past+current\n",
    "\n",
    "    ai = llm.invoke(prompt_messages)\n",
    "    return {'messages': [ai]}"
   ]
  },
  {
   "cell_type": "code",
   "execution_count": 10,
   "id": "d54e56dc",
   "metadata": {},
   "outputs": [],
   "source": [
    "def clear_memory_node(state: MemState) -> Dict[str, Any]:\n",
    "    session = state['session_id']\n",
    "    MEMORY.clear(session)\n",
    "    return {'messages': [AIMessage(content=\"Memory cleared for this session\")]}"
   ]
  },
  {
   "cell_type": "code",
   "execution_count": 11,
   "id": "75104666",
   "metadata": {},
   "outputs": [],
   "source": [
    "def save_and_trim_node(state: MemState) -> Dict[str, Any]:\n",
    "    session = state['session_id']\n",
    "    past = MEMORY.get(session)\n",
    "    new_turn = state['messages'][-2:]\n",
    "    combined = past+new_turn\n",
    "    trimmed = trim_to_budget(combined, max_tokens=200)\n",
    "    MEMORY.set(session, trimmed)\n",
    "\n",
    "    return {}"
   ]
  },
  {
   "cell_type": "code",
   "execution_count": 12,
   "id": "f0fb1afc",
   "metadata": {},
   "outputs": [],
   "source": [
    "graph = StateGraph(MemState)\n",
    "graph.add_node(\"chat\", chat_node)\n",
    "graph.add_node(\"clear\", clear_memory_node)\n",
    "graph.add_node(\"save\", save_and_trim_node)\n",
    "\n",
    "graph.add_conditional_edges(\n",
    "    START,\n",
    "    route,\n",
    "    {\"chat\": \"chat\", \"clear\": \"clear\"}\n",
    ")\n",
    "graph.add_edge(\"chat\", \"save\")\n",
    "graph.add_edge(\"clear\", END)\n",
    "graph.add_edge(\"save\", END)\n",
    "\n",
    "app = graph.compile()"
   ]
  },
  {
   "cell_type": "code",
   "execution_count": 13,
   "id": "7703c153",
   "metadata": {},
   "outputs": [
    {
     "data": {
      "image/png": "[encoded data removed]",
      "text/plain": [
       "<IPython.core.display.Image object>"
      ]
     },
     "metadata": {},
     "output_type": "display_data"
    }
   ],
   "source": [
    "from IPython.display import Image, display\n",
    "\n",
    "try:\n",
    "    display(Image(app.get_graph().draw_mermaid_png()))\n",
    "except Exception as e:\n",
    "    print(e)"
   ]
  },
  {
   "cell_type": "code",
   "execution_count": 25,
   "id": "8825bf30",
   "metadata": {},
   "outputs": [],
   "source": [
    "def test(user_input, session):\n",
    "    state: MemState = {\n",
    "        \"session_id\": session,\n",
    "        \"messages\": [HumanMessage(content=user_input)],\n",
    "    }\n",
    "    state = app.invoke(state)\n",
    "    print(\"\\n--- Response 1 ---\")\n",
    "    for m in state[\"messages\"]:\n",
    "        print(m.__class__.__name__, \":\", m.content)"
   ]
  },
  {
   "cell_type": "code",
   "execution_count": 26,
   "id": "8312c31a",
   "metadata": {},
   "outputs": [
    {
     "name": "stdout",
     "output_type": "stream",
     "text": [
      "\n",
      "--- Response 1 ---\n",
      "HumanMessage : Hi My name is Manmath\n",
      "AIMessage : Hi Manmath! It's nice to meet you. How can I assist you today?\n"
     ]
    }
   ],
   "source": [
    "test(\"Hi My name is Manmath\", \"demo-001\")"
   ]
  },
  {
   "cell_type": "code",
   "execution_count": 27,
   "id": "bd8800ea",
   "metadata": {},
   "outputs": [
    {
     "name": "stdout",
     "output_type": "stream",
     "text": [
      "\n",
      "--- Response 1 ---\n",
      "HumanMessage : What is my name?\n",
      "AIMessage : Your name is Manmath! How can I help you today, Manmath?\n"
     ]
    }
   ],
   "source": [
    "test(\"What is my name?\", \"demo-001\")"
   ]
  },
  {
   "cell_type": "code",
   "execution_count": 28,
   "id": "67f9a7cc",
   "metadata": {},
   "outputs": [
    {
     "name": "stdout",
     "output_type": "stream",
     "text": [
      "\n",
      "--- Response 1 ---\n",
      "HumanMessage : Please clear all memory\n",
      "AIMessage : Memory cleared for this session\n"
     ]
    }
   ],
   "source": [
    "test(\"Please clear all memory\", \"demo-001\")"
   ]
  },
  {
   "cell_type": "code",
   "execution_count": 29,
   "id": "553d43ce",
   "metadata": {},
   "outputs": [
    {
     "name": "stdout",
     "output_type": "stream",
     "text": [
      "\n",
      "--- Response 1 ---\n",
      "HumanMessage : What is my name?\n",
      "AIMessage : I don't have access to personal data about users unless it has been shared with me in the course of our conversation. Therefore, I don't know your name. If you'd like to share it or if there's something else you'd like to discuss, feel free to let me know!\n"
     ]
    }
   ],
   "source": [
    "test(\"What is my name?\", \"demo-001\")"
   ]
  }
 ],
 "metadata": {
  "kernelspec": {
   "display_name": "ai_agents",
   "language": "python",
   "name": "python3"
  },
  "language_info": {
   "codemirror_mode": {
    "name": "ipython",
    "version": 3
   },
   "file_extension": ".py",
   "mimetype": "text/x-python",
   "name": "python",
   "nbconvert_exporter": "python",
   "pygments_lexer": "ipython3",
   "version": "3.11.13"
  }
 },
 "nbformat": 4,
 "nbformat_minor": 5
}
