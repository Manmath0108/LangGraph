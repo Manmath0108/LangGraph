{
 "cells": [
  {
   "cell_type": "code",
   "execution_count": 1,
   "id": "9cd214b2",
   "metadata": {},
   "outputs": [],
   "source": [
    "from typing import Annotated, List, Dict, Any\n",
    "from typing_extensions import TypedDict\n",
    "from langgraph.graph import START, END, StateGraph\n",
    "from langgraph.graph.message import add_messages\n",
    "from langchain_core.messages import AIMessage, HumanMessage\n",
    "from langgraph.checkpoint.memory import MemorySaver\n",
    "from langchain_openai import ChatOpenAI"
   ]
  },
  {
   "cell_type": "code",
   "execution_count": 2,
   "id": "3eff25b1",
   "metadata": {},
   "outputs": [],
   "source": [
    "class ChatState(TypedDict):\n",
    "    messages: Annotated[List, add_messages]"
   ]
  },
  {
   "cell_type": "code",
   "execution_count": 3,
   "id": "77d5d0a6",
   "metadata": {},
   "outputs": [],
   "source": [
    "llm = ChatOpenAI(model=\"gpt-4o-mini\")\n",
    "def chatbot_node(state: ChatState) -> Dict[str, Any]:\n",
    "    messages = state[\"messages\"]\n",
    "    ai = llm.invoke(messages)\n",
    "    return {\"messages\": [ai]}"
   ]
  },
  {
   "cell_type": "code",
   "execution_count": 4,
   "id": "aa13f28b",
   "metadata": {},
   "outputs": [],
   "source": [
    "graph = StateGraph(ChatState)\n",
    "graph.add_node(\"chatbot\", chatbot_node)\n",
    "\n",
    "graph.add_edge(START, \"chatbot\")\n",
    "graph.add_edge(\"chatbot\", END)\n",
    "\n",
    "checkpointer = MemorySaver()\n",
    "app = graph.compile(checkpointer=checkpointer)"
   ]
  },
  {
   "cell_type": "code",
   "execution_count": 5,
   "id": "20db9210",
   "metadata": {},
   "outputs": [],
   "source": [
    "def test(user_input, thread_id):\n",
    "    config = {\"configurable\": {\"thread_id\": thread_id}}\n",
    "    state: ChatState = {\n",
    "        \"messages\": [HumanMessage(content=user_input)]\n",
    "    }\n",
    "    state = app.invoke(state, config=config)\n",
    "    for m in state['messages']:\n",
    "        print(m.__class__.__name__, \":\", m.content)"
   ]
  },
  {
   "cell_type": "code",
   "execution_count": 6,
   "id": "83978238",
   "metadata": {},
   "outputs": [
    {
     "name": "stdout",
     "output_type": "stream",
     "text": [
      "HumanMessage : Hi My name is Manmath\n",
      "AIMessage : Hi Manmath! How can I assist you today?\n"
     ]
    }
   ],
   "source": [
    "test(\"Hi My name is Manmath\", \"demo-001\")"
   ]
  },
  {
   "cell_type": "code",
   "execution_count": 7,
   "id": "f1264e2a",
   "metadata": {},
   "outputs": [
    {
     "name": "stdout",
     "output_type": "stream",
     "text": [
      "HumanMessage : Hi My name is Manmath\n",
      "AIMessage : Hi Manmath! How can I assist you today?\n",
      "HumanMessage : What is my name?\n",
      "AIMessage : Your name is Manmath. How can I assist you further?\n"
     ]
    }
   ],
   "source": [
    "test(\"What is my name?\", \"demo-001\")"
   ]
  }
 ],
 "metadata": {
  "kernelspec": {
   "display_name": "ai_agents",
   "language": "python",
   "name": "python3"
  },
  "language_info": {
   "codemirror_mode": {
    "name": "ipython",
    "version": 3
   },
   "file_extension": ".py",
   "mimetype": "text/x-python",
   "name": "python",
   "nbconvert_exporter": "python",
   "pygments_lexer": "ipython3",
   "version": "3.11.13"
  }
 },
 "nbformat": 4,
 "nbformat_minor": 5
}
