{
 "cells": [
  {
   "cell_type": "code",
   "execution_count": 1,
   "id": "567af265",
   "metadata": {},
   "outputs": [],
   "source": [
    "from typing import Annotated, List, Dict, Any\n",
    "from typing_extensions import TypedDict\n",
    "from langgraph.graph import START, END, StateGraph\n",
    "from langgraph.graph.message import add_messages\n",
    "from langchain_core.messages import HumanMessage, AIMessage\n",
    "from langchain_openai import ChatOpenAI\n",
    "from langgraph.checkpoint.memory import MemorySaver"
   ]
  },
  {
   "cell_type": "code",
   "execution_count": 2,
   "id": "0380fb93",
   "metadata": {},
   "outputs": [],
   "source": [
    "class State(TypedDict):\n",
    "    messages: Annotated[List, add_messages]"
   ]
  },
  {
   "cell_type": "code",
   "execution_count": 4,
   "id": "3e83fd16",
   "metadata": {},
   "outputs": [],
   "source": [
    "def route(state: State) -> str:\n",
    "    last_message = state['messages'][-1].content.lower()\n",
    "    if any(word in last_message for word in [\"reset\", \"clear memory\", \"clear\", \"start over\", \"forget\"]):\n",
    "        return \"reset\"\n",
    "    return \"chat\""
   ]
  },
  {
   "cell_type": "code",
   "execution_count": 5,
   "id": "788ba194",
   "metadata": {},
   "outputs": [],
   "source": [
    "llm = ChatOpenAI(model=\"gpt-4o-mini\")"
   ]
  },
  {
   "cell_type": "code",
   "execution_count": 6,
   "id": "53d54717",
   "metadata": {},
   "outputs": [],
   "source": [
    "def chat_node(state: State) -> Dict[str, Any]:\n",
    "    messages = state[\"messages\"]\n",
    "    chat = llm.invoke(messages)\n",
    "    return {\"messages\": [chat]}"
   ]
  },
  {
   "cell_type": "code",
   "execution_count": 10,
   "id": "c751569d",
   "metadata": {},
   "outputs": [],
   "source": [
    "def reset_node(state: State) -> Dict[str, Any]:\n",
    "    return {\"messages\": [AIMessage(content=\"Memory Reset!\")]}"
   ]
  },
  {
   "cell_type": "code",
   "execution_count": 17,
   "id": "3deca055",
   "metadata": {},
   "outputs": [],
   "source": [
    "graph = StateGraph(State)\n",
    "graph.add_node(\"chatbot\", chat_node)\n",
    "graph.add_node(\"reset\", reset_node)\n",
    "\n",
    "graph.add_conditional_edges(\n",
    "    START,\n",
    "    route,\n",
    "    {\n",
    "        \"chat\": \"chatbot\", \"reset\": \"reset\"\n",
    "    }\n",
    ")\n",
    "graph.add_edge(\"chatbot\", END)\n",
    "graph.add_edge(\"reset\", END)\n",
    "MEMORY = MemorySaver()\n",
    "\n",
    "app = graph.compile(checkpointer=MEMORY)"
   ]
  },
  {
   "cell_type": "code",
   "execution_count": 18,
   "id": "805e77a3",
   "metadata": {},
   "outputs": [
    {
     "data": {
      "image/png": "[encoded data removed]",
      "text/plain": [
       "<IPython.core.display.Image object>"
      ]
     },
     "metadata": {},
     "output_type": "display_data"
    }
   ],
   "source": [
    "from IPython.display import Image, display\n",
    "\n",
    "try:\n",
    "    display(Image(app.get_graph().draw_mermaid_png()))\n",
    "except Exception as e:\n",
    "    print(e)"
   ]
  },
  {
   "cell_type": "code",
   "execution_count": 23,
   "id": "755f0dcf",
   "metadata": {},
   "outputs": [],
   "source": [
    "def test(user_input, thread_id):\n",
    "    config = {\"configurable\": {\"thread_id\": thread_id}}\n",
    "    state: State = {\n",
    "        \"messages\": [HumanMessage(content=user_input)]\n",
    "    }\n",
    "    state = app.invoke(state, config=config)\n",
    "    for m in state['messages']:\n",
    "        print(m.__class__.__name__, \":\", m.content)\n"
   ]
  },
  {
   "cell_type": "code",
   "execution_count": 24,
   "id": "3bf974dc",
   "metadata": {},
   "outputs": [
    {
     "name": "stdout",
     "output_type": "stream",
     "text": [
      "HumanMessage : Hi I'm Manmath\n",
      "AIMessage : Hi Manmath! How can I assist you today?\n"
     ]
    }
   ],
   "source": [
    "test(\"Hi I'm Manmath\", \"demo-001\")"
   ]
  },
  {
   "cell_type": "code",
   "execution_count": 25,
   "id": "4866a2fc",
   "metadata": {},
   "outputs": [
    {
     "name": "stdout",
     "output_type": "stream",
     "text": [
      "HumanMessage : Hi I'm Manmath\n",
      "AIMessage : Hi Manmath! How can I assist you today?\n",
      "HumanMessage : forget\n",
      "AIMessage : Memory Reset!\n"
     ]
    }
   ],
   "source": [
    "test('forget', 'demo-001')"
   ]
  }
 ],
 "metadata": {
  "kernelspec": {
   "display_name": "ai_agents",
   "language": "python",
   "name": "python3"
  },
  "language_info": {
   "codemirror_mode": {
    "name": "ipython",
    "version": 3
   },
   "file_extension": ".py",
   "mimetype": "text/x-python",
   "name": "python",
   "nbconvert_exporter": "python",
   "pygments_lexer": "ipython3",
   "version": "3.11.13"
  }
 },
 "nbformat": 4,
 "nbformat_minor": 5
}
