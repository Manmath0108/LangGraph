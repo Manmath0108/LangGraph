{
 "cells": [
  {
   "cell_type": "code",
   "execution_count": 1,
   "id": "369cffd7",
   "metadata": {},
   "outputs": [],
   "source": [
    "from typing import Annotated, List, Dict, Any\n",
    "from typing_extensions import TypedDict\n",
    "from langgraph.graph import START, END, StateGraph\n",
    "from langgraph.graph.message import add_messages\n",
    "from langgraph.checkpoint.memory import MemorySaver\n",
    "from langchain_core.messages import HumanMessage, AIMessage\n",
    "from langchain_openai import ChatOpenAI"
   ]
  },
  {
   "cell_type": "code",
   "execution_count": 2,
   "id": "2d205137",
   "metadata": {},
   "outputs": [],
   "source": [
    "class State(TypedDict):\n",
    "    messages: Annotated[List, add_messages]"
   ]
  },
  {
   "cell_type": "code",
   "execution_count": 3,
   "id": "7e6a8437",
   "metadata": {},
   "outputs": [],
   "source": [
    "llm = ChatOpenAI(model=\"gpt-4o-mini\")"
   ]
  },
  {
   "cell_type": "code",
   "execution_count": 4,
   "metadata": {},
   "outputs": [],
   "source": [
    "def chatbot(state: State) -> Dict[str, Any]:\n",
    "    messages = state['messages']\n",
    "    chat = llm.invoke(messages)\n",
    "    return {'messages': [chat]}"
   ]
  },
  {
   "cell_type": "code",
   "execution_count": 6,
   "metadata": {},
   "outputs": [],
   "source": [
    "graph = StateGraph(State)\n",
    "graph.add_node('chatbot', chatbot)\n",
    "graph.set_entry_point('chatbot')\n",
    "graph.add_edge('chatbot', END)\n",
    "\n",
    "app = graph.compile(checkpointer=MemorySaver())\n"
   ]
  },
  {
   "cell_type": "code",
   "execution_count": 8,
   "id": "19396de7",
   "metadata": {},
   "outputs": [],
   "source": [
    "def test(user_input, thread_id):\n",
    "    config = {\"configurable\": {\"thread_id\": thread_id}}\n",
    "    state: State = {\n",
    "        \"messages\": [HumanMessage(content=user_input)]\n",
    "    }\n",
    "    state = app.invoke(state, config=config)\n",
    "    for m in state['messages']:\n",
    "        print(m.__class__.__name__, \":\", m.content)"
   ]
  },
  {
   "cell_type": "code",
   "execution_count": 9,
   "id": "9037f26a",
   "metadata": {},
   "outputs": [
    {
     "name": "stdout",
     "output_type": "stream",
     "text": [
      "HumanMessage : Hi my name is Manmath\n",
      "AIMessage : Hi Manmath! How can I assist you today?\n"
     ]
    }
   ],
   "source": [
    "test('Hi my name is Manmath', 'thread-001')"
   ]
  },
  {
   "cell_type": "code",
   "execution_count": 10,
   "id": "04f9f9bb",
   "metadata": {},
   "outputs": [
    {
     "name": "stdout",
     "output_type": "stream",
     "text": [
      "HumanMessage : Hi my name is Manmath\n",
      "AIMessage : Hi Manmath! How can I assist you today?\n",
      "HumanMessage : What is my name?\n",
      "AIMessage : Your name is Manmath. How can I help you today, Manmath?\n"
     ]
    }
   ],
   "source": [
    "test('What is my name?', 'thread-001')"
   ]
  }
 ],
 "metadata": {
  "kernelspec": {
   "display_name": "ai_agents",
   "language": "python",
   "name": "python3"
  },
  "language_info": {
   "codemirror_mode": {
    "name": "ipython",
    "version": 3
   },
   "file_extension": ".py",
   "mimetype": "text/x-python",
   "name": "python",
   "nbconvert_exporter": "python",
   "pygments_lexer": "ipython3",
   "version": "3.11.13"
  }
 },
 "nbformat": 4,
 "nbformat_minor": 5
}
