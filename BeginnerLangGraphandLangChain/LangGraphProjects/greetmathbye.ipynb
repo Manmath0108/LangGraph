{
 "cells": [
  {
   "cell_type": "code",
   "execution_count": 1,
   "id": "37298830",
   "metadata": {},
   "outputs": [],
   "source": [
    "from typing import Annotated, Dict, List, Any\n",
    "from typing_extensions import TypedDict\n",
    "from langgraph.graph import START, END, StateGraph\n",
    "from langgraph.graph.message import add_messages\n",
    "from langchain_core.messages import HumanMessage, AIMessage"
   ]
  },
  {
   "cell_type": "code",
   "execution_count": 2,
   "id": "a4b1a8c9",
   "metadata": {},
   "outputs": [],
   "source": [
    "class IntentState(TypedDict):\n",
    "    messages: Annotated[List, add_messages]"
   ]
  },
  {
   "cell_type": "code",
   "execution_count": 3,
   "id": "cb8e1c3b",
   "metadata": {},
   "outputs": [],
   "source": [
    "def route(state: IntentState) -> str:\n",
    "    last_message = state['messages'][-1].content.lower()\n",
    "    if any(word in last_message for word in ['hey', 'hello', 'good morning', 'good afternoon', 'good evening', 'good night']):\n",
    "        return \"greet\"\n",
    "    if any(word in last_message for word in ['bye', 'seeyou', 'good bye']):\n",
    "        return 'bye'\n",
    "    if any(symbol in last_message for symbol in ['+', '-', '*', '/']):\n",
    "        return 'math'\n",
    "    else:\n",
    "        return 'fallback'"
   ]
  },
  {
   "cell_type": "code",
   "execution_count": 4,
   "id": "60927394",
   "metadata": {},
   "outputs": [],
   "source": [
    "def greet_node(state: IntentState) -> Dict[str, Any]:\n",
    "    response = \"Hi, so good to hear from you!\"\n",
    "    return {'messages': [AIMessage(content=response)]}"
   ]
  },
  {
   "cell_type": "code",
   "execution_count": 5,
   "id": "9bbc7496",
   "metadata": {},
   "outputs": [],
   "source": [
    "def bye_node(state: IntentState) -> Dict[str, Any]:\n",
    "    response = \"Ok, Bye!\"\n",
    "    return {'messages': [AIMessage(content=response)]}"
   ]
  },
  {
   "cell_type": "code",
   "execution_count": 6,
   "id": "a7a371d8",
   "metadata": {},
   "outputs": [],
   "source": [
    "def fallback(state: IntentState) -> Dict[str, Any]:\n",
    "    response = \"I will come back to you in a while\"\n",
    "    return {'messages': [AIMessage(content=response)]}"
   ]
  },
  {
   "cell_type": "code",
   "execution_count": 7,
   "id": "72731ffa",
   "metadata": {},
   "outputs": [],
   "source": [
    "def math_node(state: IntentState) -> Dict[str, Any]:\n",
    "    expression = state['messages'][-1].content\n",
    "    try:\n",
    "        result = eval(expression)\n",
    "        reply = f\"The answer is {str(result)}\"\n",
    "    except Exception as e:\n",
    "        reply = \"Sorry Could not calculate that\"\n",
    "    return {'messages': [AIMessage(content=reply)]}"
   ]
  },
  {
   "cell_type": "code",
   "execution_count": 8,
   "id": "d41e815f",
   "metadata": {},
   "outputs": [],
   "source": [
    "graph = StateGraph(IntentState)\n",
    "graph.add_node('greet_node', greet_node)\n",
    "graph.add_node('bye_node', bye_node)\n",
    "graph.add_node('fallback', fallback)\n",
    "graph.add_node('math_node', math_node)\n",
    "\n",
    "graph.add_conditional_edges(\n",
    "    START,\n",
    "    route,\n",
    "    {\n",
    "        'greet': 'greet_node',\n",
    "        'bye': 'bye_node',\n",
    "        'math': 'math_node',\n",
    "        'fallback': 'fallback'\n",
    "    }\n",
    ")\n",
    "graph.add_edge('greet_node', END)\n",
    "graph.add_edge('bye_node', END)\n",
    "graph.add_edge('fallback', END)\n",
    "graph.add_edge('math_node', END)\n",
    "\n",
    "app = graph.compile()"
   ]
  },
  {
   "cell_type": "code",
   "execution_count": 9,
   "id": "573c8e98",
   "metadata": {},
   "outputs": [
    {
     "data": {
      "image/png": "[encoded data removed]",
      "text/plain": [
       "<IPython.core.display.Image object>"
      ]
     },
     "metadata": {},
     "output_type": "display_data"
    }
   ],
   "source": [
    "from IPython.display import Image, display\n",
    "\n",
    "try:\n",
    "    display(Image(app.get_graph().draw_mermaid_png()))\n",
    "except Exception as e:\n",
    "    print(e)"
   ]
  },
  {
   "cell_type": "code",
   "execution_count": 14,
   "id": "fb92f0c9",
   "metadata": {},
   "outputs": [],
   "source": [
    "def test(user_input):\n",
    "    state: IntentState = {\n",
    "        \"messages\": [HumanMessage(content=user_input)],\n",
    "    }\n",
    "    state = app.invoke(state)\n",
    "    print(\"\\n--- Response 1 ---\")\n",
    "    for m in state[\"messages\"]:\n",
    "        print(m.__class__.__name__, \":\", m.content)"
   ]
  },
  {
   "cell_type": "code",
   "execution_count": 15,
   "id": "2471bd60",
   "metadata": {},
   "outputs": [
    {
     "name": "stdout",
     "output_type": "stream",
     "text": [
      "\n",
      "--- Response 1 ---\n",
      "HumanMessage : 2+2\n",
      "AIMessage : The answer is 4\n"
     ]
    }
   ],
   "source": [
    "test(\"2+2\")"
   ]
  },
  {
   "cell_type": "code",
   "execution_count": 17,
   "id": "007ca706",
   "metadata": {},
   "outputs": [
    {
     "name": "stdout",
     "output_type": "stream",
     "text": [
      "\n",
      "--- Response 1 ---\n",
      "HumanMessage : good morning\n",
      "AIMessage : Hi, so good to hear from you!\n"
     ]
    }
   ],
   "source": [
    "test(\"good morning\")"
   ]
  },
  {
   "cell_type": "code",
   "execution_count": 18,
   "id": "5f7f5e97",
   "metadata": {},
   "outputs": [
    {
     "name": "stdout",
     "output_type": "stream",
     "text": [
      "\n",
      "--- Response 1 ---\n",
      "HumanMessage : bye\n",
      "AIMessage : Ok, Bye!\n"
     ]
    }
   ],
   "source": [
    "test(\"bye\")"
   ]
  },
  {
   "cell_type": "code",
   "execution_count": 19,
   "id": "0debac00",
   "metadata": {},
   "outputs": [
    {
     "name": "stdout",
     "output_type": "stream",
     "text": [
      "\n",
      "--- Response 1 ---\n",
      "HumanMessage : Who is the PM of India\n",
      "AIMessage : I will come back to you in a while\n"
     ]
    }
   ],
   "source": [
    "test(\"Who is the PM of India\")"
   ]
  }
 ],
 "metadata": {
  "kernelspec": {
   "display_name": "ai_agents",
   "language": "python",
   "name": "python3"
  },
  "language_info": {
   "codemirror_mode": {
    "name": "ipython",
    "version": 3
   },
   "file_extension": ".py",
   "mimetype": "text/x-python",
   "name": "python",
   "nbconvert_exporter": "python",
   "pygments_lexer": "ipython3",
   "version": "3.11.13"
  }
 },
 "nbformat": 4,
 "nbformat_minor": 5
}
