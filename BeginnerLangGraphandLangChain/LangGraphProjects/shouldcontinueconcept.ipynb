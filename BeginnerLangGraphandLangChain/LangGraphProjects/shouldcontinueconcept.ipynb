{
 "cells": [
  {
   "cell_type": "code",
   "execution_count": 1,
   "id": "465704ff",
   "metadata": {},
   "outputs": [
    {
     "name": "stdout",
     "output_type": "stream",
     "text": [
      "All imports successfull\n"
     ]
    }
   ],
   "source": [
    "from typing import Annotated, Dict, List, Any\n",
    "from typing_extensions import TypedDict\n",
    "from langgraph.graph import START, END, StateGraph\n",
    "from langgraph.graph.message import add_messages\n",
    "from langchain_core.messages import HumanMessage, AIMessage\n",
    "\n",
    "print(\"All imports successfull\")"
   ]
  },
  {
   "cell_type": "code",
   "execution_count": 2,
   "id": "3f32a452",
   "metadata": {},
   "outputs": [],
   "source": [
    "class State(TypedDict):\n",
    "    messages: Annotated[List, add_messages]"
   ]
  },
  {
   "cell_type": "code",
   "execution_count": 3,
   "id": "0053ae56",
   "metadata": {},
   "outputs": [],
   "source": [
    "def should_continue(state: State) -> str:\n",
    "    last_message = state['messages'][-1].content.lower()\n",
    "    if any(char in last_message for char in ['+', '-', '*', '/']):\n",
    "        return 'calculator'\n",
    "    else:\n",
    "        return '__end__'"
   ]
  },
  {
   "cell_type": "code",
   "execution_count": 4,
   "id": "7041e829",
   "metadata": {},
   "outputs": [],
   "source": [
    "def calculator(state: State) -> Dict[str, Any]:\n",
    "    exp = state['messages'][-1].content.lower()\n",
    "    try:\n",
    "        result = eval(exp)\n",
    "        reply = f\"The answer is {str(result)}\"\n",
    "    except Exception as e:\n",
    "        reply = \"Sorry Could not calculate that\"\n",
    "    return {'messages': [AIMessage(content=reply)]}"
   ]
  },
  {
   "cell_type": "code",
   "execution_count": 7,
   "id": "5df42d9c",
   "metadata": {},
   "outputs": [],
   "source": [
    "graph = StateGraph(State)\n",
    "\n",
    "graph.add_node(\"calculator_node\", calculator)\n",
    "\n",
    "graph.add_conditional_edges(\n",
    "    START,\n",
    "    should_continue,\n",
    "    {\n",
    "        \"calculator\": \"calculator_node\",\n",
    "        \"__end__\": \"__end__\"\n",
    "    }\n",
    ")\n",
    "graph.add_edge(\"calculator_node\", END)\n",
    "\n",
    "app = graph.compile()"
   ]
  },
  {
   "cell_type": "code",
   "execution_count": 8,
   "id": "51ba5001",
   "metadata": {},
   "outputs": [
    {
     "data": {
      "image/png": "[encoded data removed]",
      "text/plain": [
       "<IPython.core.display.Image object>"
      ]
     },
     "metadata": {},
     "output_type": "display_data"
    }
   ],
   "source": [
    "from IPython.display import Image, display\n",
    "\n",
    "try:\n",
    "    display(Image(app.get_graph().draw_mermaid_png()))\n",
    "except Exception as e:\n",
    "    print(e)"
   ]
  },
  {
   "cell_type": "code",
   "execution_count": 9,
   "id": "1c615292",
   "metadata": {},
   "outputs": [],
   "source": [
    "def test(user_input):\n",
    "    state: State = {\n",
    "        \"messages\": [HumanMessage(content=user_input)],\n",
    "    }\n",
    "    state = app.invoke(state)\n",
    "    print(\"\\n--- Response 1 ---\")\n",
    "    for m in state[\"messages\"]:\n",
    "        print(m.__class__.__name__, \":\", m.content)"
   ]
  },
  {
   "cell_type": "code",
   "execution_count": 10,
   "id": "4536cbfe",
   "metadata": {},
   "outputs": [
    {
     "name": "stdout",
     "output_type": "stream",
     "text": [
      "\n",
      "--- Response 1 ---\n",
      "HumanMessage : 2+2*3\n",
      "AIMessage : The answer is 8\n"
     ]
    }
   ],
   "source": [
    "test(\"2+2*3\")"
   ]
  },
  {
   "cell_type": "code",
   "execution_count": 11,
   "id": "e9c581de",
   "metadata": {},
   "outputs": [
    {
     "name": "stdout",
     "output_type": "stream",
     "text": [
      "\n",
      "--- Response 1 ---\n",
      "HumanMessage : Hi How are you?\n"
     ]
    }
   ],
   "source": [
    "test(\"Hi How are you?\")"
   ]
  }
 ],
 "metadata": {
  "kernelspec": {
   "display_name": "ai_agents",
   "language": "python",
   "name": "python3"
  },
  "language_info": {
   "codemirror_mode": {
    "name": "ipython",
    "version": 3
   },
   "file_extension": ".py",
   "mimetype": "text/x-python",
   "name": "python",
   "nbconvert_exporter": "python",
   "pygments_lexer": "ipython3",
   "version": "3.11.13"
  }
 },
 "nbformat": 4,
 "nbformat_minor": 5
}
