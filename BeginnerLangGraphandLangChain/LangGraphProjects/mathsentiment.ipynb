{
 "cells": [
  {
   "cell_type": "code",
   "execution_count": 1,
   "id": "838cc87b",
   "metadata": {},
   "outputs": [],
   "source": [
    "from typing import Annotated, Dict, List, Any\n",
    "from typing_extensions import TypedDict\n",
    "from langgraph.graph import START, END, StateGraph\n",
    "from langgraph.graph.message import add_messages\n",
    "from langchain_core.messages import HumanMessage, AIMessage"
   ]
  },
  {
   "cell_type": "code",
   "execution_count": 2,
   "id": "0d9d11ae",
   "metadata": {},
   "outputs": [],
   "source": [
    "class State(TypedDict):\n",
    "    messages: Annotated[List, add_messages]"
   ]
  },
  {
   "cell_type": "code",
   "execution_count": 5,
   "id": "4b44eb67",
   "metadata": {},
   "outputs": [],
   "source": [
    "def router(state: State) -> str:\n",
    "    last_message = state['messages'][-1].content.lower()\n",
    "    if any(char in last_message for char in ['+', '-', '*', '/']):\n",
    "        return 'calculator' \n",
    "    if any(char in last_message for char in ['happy', 'sad', 'angry', 'tired']):\n",
    "        return 'sentiment'\n",
    "    else:\n",
    "        return 'fallback'"
   ]
  },
  {
   "cell_type": "code",
   "execution_count": 6,
   "id": "ce98d310",
   "metadata": {},
   "outputs": [],
   "source": [
    "def calculator(state: State) -> Dict[str, Any]:\n",
    "    exp = state['messages'][-1].content.lower()\n",
    "    try:\n",
    "        response = eval(exp)\n",
    "        reply = f\"The answer is {str(response)}\"\n",
    "    except Exception as e:\n",
    "        reply = \"Sorry Could not calculate that\"\n",
    "    return {'messages': [AIMessage(content=reply)]}"
   ]
  },
  {
   "cell_type": "code",
   "execution_count": 8,
   "id": "5bdfc2e4",
   "metadata": {},
   "outputs": [],
   "source": [
    "def sentiment(state: State) -> Dict[str, Any]:\n",
    "    reply = \"I'm not sure of your mood\"\n",
    "    sentimental_words = ['happy', 'sad', 'angry', 'tired']\n",
    "    word = state['messages'][-1].content.lower()\n",
    "    for mood in sentimental_words:\n",
    "        if mood in word:\n",
    "            reply = f\"You sound {mood}!\"\n",
    "    return {'messages': [AIMessage(content=reply)]}"
   ]
  },
  {
   "cell_type": "code",
   "execution_count": 9,
   "id": "e8fb8842",
   "metadata": {},
   "outputs": [],
   "source": [
    "def fallback(state: State) -> Dict[str, Any]:\n",
    "    response = \"I'm sorry I do not know the answer to that question\"\n",
    "    return {'messages': [AIMessage(content=response)]}"
   ]
  },
  {
   "cell_type": "code",
   "execution_count": 12,
   "id": "2d571045",
   "metadata": {},
   "outputs": [],
   "source": [
    "graph = StateGraph(State)\n",
    "\n",
    "graph.add_node('calculator_node', calculator)\n",
    "graph.add_node('sentiment_node', sentiment)\n",
    "graph.add_node('fallback_node', fallback)\n",
    "\n",
    "graph.add_conditional_edges(\n",
    "    START,\n",
    "    router,\n",
    "    {\n",
    "        'calculator': 'calculator_node',\n",
    "        'sentiment': 'sentiment_node',\n",
    "        'fallback': 'fallback_node'\n",
    "    }\n",
    ")\n",
    "graph.add_edge('calculator_node', END)\n",
    "graph.add_edge('sentiment_node', END)\n",
    "graph.add_edge('fallback_node', END)\n",
    "\n",
    "app = graph.compile()"
   ]
  },
  {
   "cell_type": "code",
   "execution_count": 13,
   "id": "cc102a3c",
   "metadata": {},
   "outputs": [
    {
     "data": {
      "image/png": "[encoded data removed]",
      "text/plain": [
       "<IPython.core.display.Image object>"
      ]
     },
     "metadata": {},
     "output_type": "display_data"
    }
   ],
   "source": [
    "from IPython.display import Image, display\n",
    "\n",
    "try:\n",
    "    display(Image(app.get_graph().draw_mermaid_png()))\n",
    "except Exception as e:\n",
    "    print(e)"
   ]
  },
  {
   "cell_type": "code",
   "execution_count": 15,
   "id": "cc4363d1",
   "metadata": {},
   "outputs": [],
   "source": [
    "def test(user_input):\n",
    "    state: State = {\n",
    "        \"messages\": [HumanMessage(content=user_input)],\n",
    "    }\n",
    "    state = app.invoke(state)\n",
    "    print(\"\\n--- Response 1 ---\")\n",
    "    for m in state[\"messages\"]:\n",
    "        print(m.__class__.__name__, \":\", m.content)"
   ]
  },
  {
   "cell_type": "code",
   "execution_count": 16,
   "id": "9899524d",
   "metadata": {},
   "outputs": [
    {
     "name": "stdout",
     "output_type": "stream",
     "text": [
      "\n",
      "--- Response 1 ---\n",
      "HumanMessage : 2+2\n",
      "AIMessage : The answer is 4\n"
     ]
    }
   ],
   "source": [
    "test('2+2')"
   ]
  },
  {
   "cell_type": "code",
   "execution_count": 17,
   "id": "7004b643",
   "metadata": {},
   "outputs": [
    {
     "name": "stdout",
     "output_type": "stream",
     "text": [
      "\n",
      "--- Response 1 ---\n",
      "HumanMessage : I'm Sad today\n",
      "AIMessage : You sound sad!\n"
     ]
    }
   ],
   "source": [
    "test(\"I'm Sad today\")"
   ]
  },
  {
   "cell_type": "code",
   "execution_count": 18,
   "id": "6640cbb5",
   "metadata": {},
   "outputs": [
    {
     "name": "stdout",
     "output_type": "stream",
     "text": [
      "\n",
      "--- Response 1 ---\n",
      "HumanMessage : I'm Happy today\n",
      "AIMessage : You sound happy!\n"
     ]
    }
   ],
   "source": [
    "test(\"I'm Happy today\")"
   ]
  },
  {
   "cell_type": "code",
   "execution_count": 19,
   "id": "6785bb9a",
   "metadata": {},
   "outputs": [
    {
     "name": "stdout",
     "output_type": "stream",
     "text": [
      "\n",
      "--- Response 1 ---\n",
      "HumanMessage : What is your name?\n",
      "AIMessage : I'm sorry I do not know the answer to that question\n"
     ]
    }
   ],
   "source": [
    "test('What is your name?')"
   ]
  }
 ],
 "metadata": {
  "kernelspec": {
   "display_name": "ai_agents",
   "language": "python",
   "name": "python3"
  },
  "language_info": {
   "codemirror_mode": {
    "name": "ipython",
    "version": 3
   },
   "file_extension": ".py",
   "mimetype": "text/x-python",
   "name": "python",
   "nbconvert_exporter": "python",
   "pygments_lexer": "ipython3",
   "version": "3.11.13"
  }
 },
 "nbformat": 4,
 "nbformat_minor": 5
}
