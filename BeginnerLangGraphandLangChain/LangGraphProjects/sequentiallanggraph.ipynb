{
 "cells": [
  {
   "cell_type": "code",
   "execution_count": 1,
   "id": "aabfa12f",
   "metadata": {},
   "outputs": [],
   "source": [
    "from typing import Annotated, List, Dict, Any\n",
    "from typing_extensions import TypedDict\n",
    "from langgraph.graph import START, END, StateGraph\n",
    "from langgraph.graph.message import add_messages\n",
    "from langchain_core.messages import HumanMessage, AIMessage"
   ]
  },
  {
   "cell_type": "code",
   "execution_count": 4,
   "id": "6684746f",
   "metadata": {},
   "outputs": [],
   "source": [
    "class State(TypedDict):\n",
    "    messages: Annotated[List, add_messages]"
   ]
  },
  {
   "cell_type": "code",
   "execution_count": 6,
   "id": "1b9689a7",
   "metadata": {},
   "outputs": [],
   "source": [
    "def greet(state: State) -> Dict[str, Any]:\n",
    "    messages = state['messages']\n",
    "    response = \"Hello!, How are you?\"\n",
    "    return {'messages': [AIMessage(content=response)]}"
   ]
  },
  {
   "cell_type": "code",
   "execution_count": 7,
   "id": "d1a082f6",
   "metadata": {},
   "outputs": [],
   "source": [
    "def ask_name(state: State) -> Dict[str, Any]:\n",
    "    messages = state['messages']\n",
    "    response = \"What is your Name?\"\n",
    "    return {'messages': [AIMessage(content=response)]}"
   ]
  },
  {
   "cell_type": "code",
   "execution_count": 8,
   "id": "25eada39",
   "metadata": {},
   "outputs": [],
   "source": [
    "def farewell_node(state: State) -> Dict[str, Any]:\n",
    "    messages = state['messages']\n",
    "    response = \"Bye Take Care!\"\n",
    "    return {'messages': [AIMessage(content=response)]}"
   ]
  },
  {
   "cell_type": "code",
   "execution_count": 9,
   "id": "b4647ec1",
   "metadata": {},
   "outputs": [],
   "source": [
    "graph = StateGraph(State)\n",
    "\n",
    "graph.add_node('greet_node', greet)\n",
    "graph.add_node('ask_name_node', ask_name)\n",
    "graph.add_node('farewell_node', farewell_node)\n",
    "\n",
    "graph.add_edge(START, 'greet_node')\n",
    "graph.add_edge('greet_node', 'ask_name_node')\n",
    "graph.add_edge('ask_name_node', 'farewell_node')\n",
    "graph.add_edge('farewell_node', END)\n",
    "\n",
    "app = graph.compile()"
   ]
  },
  {
   "cell_type": "code",
   "execution_count": 10,
   "id": "ecac68bd",
   "metadata": {},
   "outputs": [
    {
     "data": {
      "image/png": "[encoded data removed]",
      "text/plain": [
       "<IPython.core.display.Image object>"
      ]
     },
     "metadata": {},
     "output_type": "display_data"
    }
   ],
   "source": [
    "from IPython.display import Image, display\n",
    "\n",
    "try:\n",
    "    display(Image(app.get_graph().draw_mermaid_png()))\n",
    "except Exception as e:\n",
    "    print(e)"
   ]
  },
  {
   "cell_type": "code",
   "execution_count": 11,
   "id": "72a650d3",
   "metadata": {},
   "outputs": [],
   "source": [
    "def test(user_input):\n",
    "    state: State = {\n",
    "        \"messages\": [HumanMessage(content=user_input)],\n",
    "    }\n",
    "    state = app.invoke(state)\n",
    "    print(\"\\n--- Response 1 ---\")\n",
    "    for m in state[\"messages\"]:\n",
    "        print(m.__class__.__name__, \":\", m.content)"
   ]
  },
  {
   "cell_type": "code",
   "execution_count": 12,
   "id": "ca89e559",
   "metadata": {},
   "outputs": [
    {
     "name": "stdout",
     "output_type": "stream",
     "text": [
      "\n",
      "--- Response 1 ---\n",
      "HumanMessage : Hi\n",
      "AIMessage : Hello!, How are you?\n",
      "AIMessage : What is your Name?\n",
      "AIMessage : Bye Take Care!\n"
     ]
    }
   ],
   "source": [
    "test('Hi')"
   ]
  }
 ],
 "metadata": {
  "kernelspec": {
   "display_name": "ai_agents",
   "language": "python",
   "name": "python3"
  },
  "language_info": {
   "codemirror_mode": {
    "name": "ipython",
    "version": 3
   },
   "file_extension": ".py",
   "mimetype": "text/x-python",
   "name": "python",
   "nbconvert_exporter": "python",
   "pygments_lexer": "ipython3",
   "version": "3.11.13"
  }
 },
 "nbformat": 4,
 "nbformat_minor": 5
}
