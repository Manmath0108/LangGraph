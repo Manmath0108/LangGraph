{
 "cells": [
  {
   "cell_type": "code",
   "execution_count": 2,
   "id": "f42bd375",
   "metadata": {},
   "outputs": [
    {
     "name": "stdout",
     "output_type": "stream",
     "text": [
      "Imports Successful\n"
     ]
    }
   ],
   "source": [
    "from typing import Annotated, List, Dict, Any\n",
    "from typing_extensions import TypedDict\n",
    "from langgraph.graph import START, END, StateGraph\n",
    "from langgraph.graph.message import add_messages\n",
    "from langchain_openai import ChatOpenAI\n",
    "from langchain_core.messages import HumanMessage, AIMessage\n",
    "\n",
    "print(\"Imports Successful\")"
   ]
  },
  {
   "cell_type": "code",
   "execution_count": 3,
   "id": "134096e4",
   "metadata": {},
   "outputs": [],
   "source": [
    "class MoodState(TypedDict):\n",
    "    messages: Annotated[List, add_messages]"
   ]
  },
  {
   "cell_type": "code",
   "execution_count": 32,
   "id": "c577e122",
   "metadata": {},
   "outputs": [
    {
     "name": "stdout",
     "output_type": "stream",
     "text": [
      "Router Function Setup\n"
     ]
    }
   ],
   "source": [
    "def route(state: MoodState) -> str:\n",
    "    last_message = state['messages'][-1].content.lower()\n",
    "    if any(word in last_message for word in ['happy', 'good', 'great', 'fantastic', 'awesome']):\n",
    "        return \"happy\"\n",
    "    if any(word in last_message for word in [\"sad\", \"tired\", \"down\", \"frustrated\", \"gloomy\"]):\n",
    "        return \"sad\"\n",
    "    return \"happy\"\n",
    "print(\"Router Function Setup\")"
   ]
  },
  {
   "cell_type": "code",
   "execution_count": 33,
   "id": "1c74d365",
   "metadata": {},
   "outputs": [
    {
     "name": "stdout",
     "output_type": "stream",
     "text": [
      "Happy Mood Function Defined\n"
     ]
    }
   ],
   "source": [
    "def happy_mood(state: MoodState) -> Dict[str, Any]:\n",
    "    response = \"Yay! you’re happy\"\n",
    "    return {'messages': [AIMessage(content=response)]}\n",
    "print(\"Happy Mood Function Defined\")"
   ]
  },
  {
   "cell_type": "code",
   "execution_count": 34,
   "id": "b2f89978",
   "metadata": {},
   "outputs": [
    {
     "name": "stdout",
     "output_type": "stream",
     "text": [
      "Sad Mood Function Defined\n"
     ]
    }
   ],
   "source": [
    "def sad_mood(state: MoodState) -> Dict[str, Any]:\n",
    "    response = \"Sorry you’re sad\"\n",
    "    return {'messages': [AIMessage(content=response)]}\n",
    "print(\"Sad Mood Function Defined\")"
   ]
  },
  {
   "cell_type": "code",
   "execution_count": 35,
   "id": "0120b7ed",
   "metadata": {},
   "outputs": [
    {
     "name": "stdout",
     "output_type": "stream",
     "text": [
      "Graph Compiled!\n"
     ]
    }
   ],
   "source": [
    "graph = StateGraph(MoodState)\n",
    "graph.add_node(\"happy_mood\", happy_mood)\n",
    "graph.add_node(\"sad_mood\", sad_mood)\n",
    "\n",
    "graph.add_conditional_edges(\n",
    "    START,\n",
    "    route,\n",
    "    {'happy': \"happy_mood\", \"sad\": \"sad_mood\"}\n",
    ")\n",
    "graph.add_edge(\"happy_mood\", END)\n",
    "graph.add_edge(\"sad_mood\", END)\n",
    "app = graph.compile()\n",
    "\n",
    "print(\"Graph Compiled!\")"
   ]
  },
  {
   "cell_type": "code",
   "execution_count": 36,
   "id": "ad94a009",
   "metadata": {},
   "outputs": [
    {
     "data": {
      "image/png": "[encoded data removed]",
      "text/plain": [
       "<IPython.core.display.Image object>"
      ]
     },
     "metadata": {},
     "output_type": "display_data"
    }
   ],
   "source": [
    "from IPython.display import Image, display\n",
    "\n",
    "try:\n",
    "    display(Image(app.get_graph().draw_mermaid_png()))\n",
    "except Exception as e:\n",
    "    print(e)"
   ]
  },
  {
   "cell_type": "code",
   "execution_count": 37,
   "id": "4d801d0d",
   "metadata": {},
   "outputs": [
    {
     "name": "stdout",
     "output_type": "stream",
     "text": [
      "\n",
      "--- Response 1 ---\n",
      "HumanMessage : I'm Very sad\n",
      "AIMessage : Sorry you’re sad\n"
     ]
    }
   ],
   "source": [
    "state: MoodState = {\n",
    "    \"messages\": [HumanMessage(content=\"I'm Very sad\")],\n",
    "}\n",
    "state = app.invoke(state)\n",
    "print(\"\\n--- Response 1 ---\")\n",
    "for m in state[\"messages\"]:\n",
    "    print(m.__class__.__name__, \":\", m.content)"
   ]
  }
 ],
 "metadata": {
  "kernelspec": {
   "display_name": "ai_agents",
   "language": "python",
   "name": "python3"
  },
  "language_info": {
   "codemirror_mode": {
    "name": "ipython",
    "version": 3
   },
   "file_extension": ".py",
   "mimetype": "text/x-python",
   "name": "python",
   "nbconvert_exporter": "python",
   "pygments_lexer": "ipython3",
   "version": "3.11.13"
  }
 },
 "nbformat": 4,
 "nbformat_minor": 5
}
