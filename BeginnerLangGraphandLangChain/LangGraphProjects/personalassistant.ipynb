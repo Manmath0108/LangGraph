{
 "cells": [
  {
   "cell_type": "code",
   "execution_count": 7,
   "id": "f4ef2475",
   "metadata": {},
   "outputs": [],
   "source": [
    "from typing import TypedDict, Dict, List, Any, Annotated\n",
    "from langgraph.graph import StateGraph, START, END\n",
    "from langgraph.graph.message import add_messages\n",
    "from langchain_openai import ChatOpenAI\n",
    "from langchain_core.messages import HumanMessage, AIMessage"
   ]
  },
  {
   "cell_type": "code",
   "execution_count": 8,
   "id": "28f61b00",
   "metadata": {},
   "outputs": [
    {
     "name": "stdout",
     "output_type": "stream",
     "text": [
      "Setup Complete\n"
     ]
    }
   ],
   "source": [
    "import os\n",
    "import getpass\n",
    "def setup_environment():\n",
    "    \"\"\"Setup your API KEYs\"\"\"\n",
    "    if not os.environ.get(\"OPENAI_API_KEY\"):\n",
    "        openai_key = getpass.getpass(\"Enter your OPENAI API KEY\")\n",
    "        os.environ[\"OPENAI_API_KEY\"] = openai_key\n",
    "print(\"Setup Complete\")\n",
    "setup_environment()"
   ]
  },
  {
   "cell_type": "code",
   "execution_count": 17,
   "id": "9d12ae61",
   "metadata": {},
   "outputs": [],
   "source": [
    "class State(TypedDict):\n",
    "    messages: Annotated[List, add_messages]"
   ]
  },
  {
   "cell_type": "code",
   "execution_count": 50,
   "id": "75399c9c",
   "metadata": {},
   "outputs": [],
   "source": [
    "def small_talk_node(state: State):\n",
    "    llm = ChatOpenAI(model=\"gpt-4o-mini\")\n",
    "    user_message = state['messages'][-1]\n",
    "    response = llm.invoke([user_message])\n",
    "    return {'messages': [response]}"
   ]
  },
  {
   "cell_type": "code",
   "execution_count": 51,
   "id": "5eff71a1",
   "metadata": {},
   "outputs": [],
   "source": [
    "def calculator_node(state: State):\n",
    "    user_message = state['messages'][-1].content\n",
    "    try:\n",
    "        result = str(eval(user_message))\n",
    "    except:\n",
    "        result = \"I can't calculate that\"\n",
    "    reply = AIMessage(content=result)\n",
    "    return {\"messages\": [reply]}"
   ]
  },
  {
   "cell_type": "code",
   "execution_count": 52,
   "id": "716fd764",
   "metadata": {},
   "outputs": [],
   "source": [
    "def route(state: State):\n",
    "    text = state['messages'][-1].content.lower()\n",
    "    if any(word in text for word in [\"+\", \"-\", \"*\", \"/\", \"calculate\"]):\n",
    "        return \"calculator\"\n",
    "    else:\n",
    "        return \"small_talk\""
   ]
  },
  {
   "cell_type": "code",
   "execution_count": 58,
   "id": "9b040b47",
   "metadata": {},
   "outputs": [],
   "source": [
    "graph = StateGraph(State)\n",
    "\n",
    "graph.add_node(\"router\", route)\n",
    "graph.add_node(\"small_talk\", small_talk_node)\n",
    "graph.add_node(\"calculator\", calculator_node)\n",
    "\n",
    "# graph.add_edge(START, \"router\")\n",
    "\n",
    "graph.add_conditional_edges(\n",
    "    START,                      \n",
    "    route,                        \n",
    "    {\"calculator\": \"calculator\", \"small_talk\": \"small_talk\"}   \n",
    ")\n",
    "\n",
    "\n",
    "graph.add_edge(\"small_talk\", END)\n",
    "graph.add_edge(\"calculator\", END)\n",
    "\n",
    "app = graph.compile()"
   ]
  },
  {
   "cell_type": "code",
   "execution_count": 59,
   "id": "bd9f2b04",
   "metadata": {},
   "outputs": [
    {
     "data": {
      "image/png": "[encoded data removed]",
      "text/plain": [
       "<IPython.core.display.Image object>"
      ]
     },
     "metadata": {},
     "output_type": "display_data"
    }
   ],
   "source": [
    "from IPython.display import Image, display\n",
    "\n",
    "try:\n",
    "    display(Image(app.get_graph().draw_mermaid_png()))\n",
    "except Exception as e:\n",
    "    print(e)"
   ]
  },
  {
   "cell_type": "code",
   "execution_count": 60,
   "id": "bc8b4654",
   "metadata": {},
   "outputs": [
    {
     "name": "stdout",
     "output_type": "stream",
     "text": [
      "\n",
      "--- Response 1 ---\n",
      "HumanMessage : Hello, who are you?\n",
      "AIMessage : Hello! I’m an AI language model created by OpenAI, here to assist you with information, answer questions, and help with a variety of topics. How can I assist you today?\n",
      "\n",
      "--- Response 2 ---\n",
      "HumanMessage : 2 + 3 * 4\n",
      "AIMessage : 14\n"
     ]
    }
   ],
   "source": [
    "state: State = {\n",
    "    \"messages\": [HumanMessage(content=\"Hello, who are you?\")],\n",
    "}\n",
    "state = app.invoke(state)\n",
    "print(\"\\n--- Response 1 ---\")\n",
    "for m in state[\"messages\"]:\n",
    "    print(m.__class__.__name__, \":\", m.content)\n",
    "\n",
    "# Math question\n",
    "state[\"messages\"].append(HumanMessage(content=\"2 + 3 * 4\"))\n",
    "state = app.invoke(state)\n",
    "print(\"\\n--- Response 2 ---\")\n",
    "for m in state[\"messages\"][-2:]:\n",
    "    print(m.__class__.__name__, \":\", m.content)"
   ]
  }
 ],
 "metadata": {
  "kernelspec": {
   "display_name": "ai_agents",
   "language": "python",
   "name": "python3"
  },
  "language_info": {
   "codemirror_mode": {
    "name": "ipython",
    "version": 3
   },
   "file_extension": ".py",
   "mimetype": "text/x-python",
   "name": "python",
   "nbconvert_exporter": "python",
   "pygments_lexer": "ipython3",
   "version": "3.11.13"
  }
 },
 "nbformat": 4,
 "nbformat_minor": 5
}
