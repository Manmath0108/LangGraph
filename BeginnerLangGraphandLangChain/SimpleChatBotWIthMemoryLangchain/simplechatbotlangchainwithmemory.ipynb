{
 "cells": [
  {
   "cell_type": "code",
   "execution_count": 1,
   "id": "df2ae076",
   "metadata": {},
   "outputs": [
    {
     "name": "stdout",
     "output_type": "stream",
     "text": [
      "Requirement already satisfied: langchain in /home/manmath/miniconda3/envs/ai_agents/lib/python3.11/site-packages (0.3.27)\n",
      "Requirement already satisfied: langchain_openai in /home/manmath/miniconda3/envs/ai_agents/lib/python3.11/site-packages (0.3.27)\n",
      "Requirement already satisfied: langchain-core<1.0.0,>=0.3.72 in /home/manmath/miniconda3/envs/ai_agents/lib/python3.11/site-packages (from langchain) (0.3.74)\n",
      "Requirement already satisfied: langchain-text-splitters<1.0.0,>=0.3.9 in /home/manmath/miniconda3/envs/ai_agents/lib/python3.11/site-packages (from langchain) (0.3.9)\n",
      "Requirement already satisfied: langsmith>=0.1.17 in /home/manmath/miniconda3/envs/ai_agents/lib/python3.11/site-packages (from langchain) (0.4.14)\n",
      "Requirement already satisfied: pydantic<3.0.0,>=2.7.4 in /home/manmath/miniconda3/envs/ai_agents/lib/python3.11/site-packages (from langchain) (2.11.7)\n",
      "Requirement already satisfied: SQLAlchemy<3,>=1.4 in /home/manmath/miniconda3/envs/ai_agents/lib/python3.11/site-packages (from langchain) (2.0.41)\n",
      "Requirement already satisfied: requests<3,>=2 in /home/manmath/miniconda3/envs/ai_agents/lib/python3.11/site-packages (from langchain) (2.32.4)\n",
      "Requirement already satisfied: PyYAML>=5.3 in /home/manmath/miniconda3/envs/ai_agents/lib/python3.11/site-packages (from langchain) (6.0.2)\n",
      "Requirement already satisfied: tenacity!=8.4.0,<10.0.0,>=8.1.0 in /home/manmath/miniconda3/envs/ai_agents/lib/python3.11/site-packages (from langchain-core<1.0.0,>=0.3.72->langchain) (8.5.0)\n",
      "Requirement already satisfied: jsonpatch<2.0,>=1.33 in /home/manmath/miniconda3/envs/ai_agents/lib/python3.11/site-packages (from langchain-core<1.0.0,>=0.3.72->langchain) (1.33)\n",
      "Requirement already satisfied: typing-extensions>=4.7 in /home/manmath/miniconda3/envs/ai_agents/lib/python3.11/site-packages (from langchain-core<1.0.0,>=0.3.72->langchain) (4.14.0)\n",
      "Requirement already satisfied: packaging>=23.2 in /home/manmath/miniconda3/envs/ai_agents/lib/python3.11/site-packages (from langchain-core<1.0.0,>=0.3.72->langchain) (24.2)\n",
      "Requirement already satisfied: jsonpointer>=1.9 in /home/manmath/miniconda3/envs/ai_agents/lib/python3.11/site-packages (from jsonpatch<2.0,>=1.33->langchain-core<1.0.0,>=0.3.72->langchain) (3.0.0)\n",
      "Requirement already satisfied: annotated-types>=0.6.0 in /home/manmath/miniconda3/envs/ai_agents/lib/python3.11/site-packages (from pydantic<3.0.0,>=2.7.4->langchain) (0.7.0)\n",
      "Requirement already satisfied: pydantic-core==2.33.2 in /home/manmath/miniconda3/envs/ai_agents/lib/python3.11/site-packages (from pydantic<3.0.0,>=2.7.4->langchain) (2.33.2)\n",
      "Requirement already satisfied: typing-inspection>=0.4.0 in /home/manmath/miniconda3/envs/ai_agents/lib/python3.11/site-packages (from pydantic<3.0.0,>=2.7.4->langchain) (0.4.1)\n",
      "Requirement already satisfied: charset_normalizer<4,>=2 in /home/manmath/miniconda3/envs/ai_agents/lib/python3.11/site-packages (from requests<3,>=2->langchain) (3.4.2)\n",
      "Requirement already satisfied: idna<4,>=2.5 in /home/manmath/miniconda3/envs/ai_agents/lib/python3.11/site-packages (from requests<3,>=2->langchain) (3.10)\n",
      "Requirement already satisfied: urllib3<3,>=1.21.1 in /home/manmath/miniconda3/envs/ai_agents/lib/python3.11/site-packages (from requests<3,>=2->langchain) (2.5.0)\n",
      "Requirement already satisfied: certifi>=2017.4.17 in /home/manmath/miniconda3/envs/ai_agents/lib/python3.11/site-packages (from requests<3,>=2->langchain) (2025.6.15)\n",
      "Requirement already satisfied: greenlet>=1 in /home/manmath/miniconda3/envs/ai_agents/lib/python3.11/site-packages (from SQLAlchemy<3,>=1.4->langchain) (3.2.3)\n",
      "Requirement already satisfied: openai<2.0.0,>=1.86.0 in /home/manmath/miniconda3/envs/ai_agents/lib/python3.11/site-packages (from langchain_openai) (1.93.0)\n",
      "Requirement already satisfied: tiktoken<1,>=0.7 in /home/manmath/miniconda3/envs/ai_agents/lib/python3.11/site-packages (from langchain_openai) (0.9.0)\n",
      "Requirement already satisfied: anyio<5,>=3.5.0 in /home/manmath/miniconda3/envs/ai_agents/lib/python3.11/site-packages (from openai<2.0.0,>=1.86.0->langchain_openai) (4.9.0)\n",
      "Requirement already satisfied: distro<2,>=1.7.0 in /home/manmath/miniconda3/envs/ai_agents/lib/python3.11/site-packages (from openai<2.0.0,>=1.86.0->langchain_openai) (1.9.0)\n",
      "Requirement already satisfied: httpx<1,>=0.23.0 in /home/manmath/miniconda3/envs/ai_agents/lib/python3.11/site-packages (from openai<2.0.0,>=1.86.0->langchain_openai) (0.28.1)\n",
      "Requirement already satisfied: jiter<1,>=0.4.0 in /home/manmath/miniconda3/envs/ai_agents/lib/python3.11/site-packages (from openai<2.0.0,>=1.86.0->langchain_openai) (0.10.0)\n",
      "Requirement already satisfied: sniffio in /home/manmath/miniconda3/envs/ai_agents/lib/python3.11/site-packages (from openai<2.0.0,>=1.86.0->langchain_openai) (1.3.1)\n",
      "Requirement already satisfied: tqdm>4 in /home/manmath/miniconda3/envs/ai_agents/lib/python3.11/site-packages (from openai<2.0.0,>=1.86.0->langchain_openai) (4.67.1)\n",
      "Requirement already satisfied: httpcore==1.* in /home/manmath/miniconda3/envs/ai_agents/lib/python3.11/site-packages (from httpx<1,>=0.23.0->openai<2.0.0,>=1.86.0->langchain_openai) (1.0.9)\n",
      "Requirement already satisfied: h11>=0.16 in /home/manmath/miniconda3/envs/ai_agents/lib/python3.11/site-packages (from httpcore==1.*->httpx<1,>=0.23.0->openai<2.0.0,>=1.86.0->langchain_openai) (0.16.0)\n",
      "Requirement already satisfied: regex>=2022.1.18 in /home/manmath/miniconda3/envs/ai_agents/lib/python3.11/site-packages (from tiktoken<1,>=0.7->langchain_openai) (2024.11.6)\n",
      "Requirement already satisfied: orjson>=3.9.14 in /home/manmath/miniconda3/envs/ai_agents/lib/python3.11/site-packages (from langsmith>=0.1.17->langchain) (3.10.18)\n",
      "Requirement already satisfied: requests-toolbelt>=1.0.0 in /home/manmath/miniconda3/envs/ai_agents/lib/python3.11/site-packages (from langsmith>=0.1.17->langchain) (1.0.0)\n",
      "Requirement already satisfied: zstandard>=0.23.0 in /home/manmath/miniconda3/envs/ai_agents/lib/python3.11/site-packages (from langsmith>=0.1.17->langchain) (0.23.0)\n",
      "Note: you may need to restart the kernel to use updated packages.\n"
     ]
    }
   ],
   "source": [
    "%pip install langchain langchain_openai"
   ]
  },
  {
   "cell_type": "code",
   "execution_count": 4,
   "id": "4105b93f",
   "metadata": {},
   "outputs": [],
   "source": [
    "from langchain_openai import ChatOpenAI\n",
    "from langchain.chains import ConversationChain\n",
    "from langchain.memory import ConversationBufferMemory"
   ]
  },
  {
   "cell_type": "code",
   "execution_count": 5,
   "id": "01fbaa28",
   "metadata": {},
   "outputs": [
    {
     "name": "stderr",
     "output_type": "stream",
     "text": [
      "/tmp/ipykernel_12282/2032356437.py:2: LangChainDeprecationWarning: Please see the migration guide at: https://python.langchain.com/docs/versions/migrating_memory/\n",
      "  memory = ConversationBufferMemory(return_message=True)\n",
      "/tmp/ipykernel_12282/2032356437.py:3: LangChainDeprecationWarning: The class `ConversationChain` was deprecated in LangChain 0.2.7 and will be removed in 1.0. Use :class:`~langchain_core.runnables.history.RunnableWithMessageHistory` instead.\n",
      "  conversation = ConversationChain(\n"
     ]
    },
    {
     "name": "stdout",
     "output_type": "stream",
     "text": [
      "\n",
      "\n",
      "\u001b[1m> Entering new ConversationChain chain...\u001b[0m\n",
      "Prompt after formatting:\n",
      "\u001b[32;1m\u001b[1;3mThe following is a friendly conversation between a human and an AI. The AI is talkative and provides lots of specific details from its context. If the AI does not know the answer to a question, it truthfully says it does not know.\n",
      "\n",
      "Current conversation:\n",
      "\n",
      "Human: Hi! My name is Manmath. What is your name?\n",
      "AI:\u001b[0m\n",
      "\n",
      "\u001b[1m> Finished chain.\u001b[0m\n",
      "AI: Hello, Manmath! I'm an AI, and I don’t have a personal name like humans do, but you can call me AI or any name you prefer! I'm here to chat and help you with anything you need. How's your day going so far?\n"
     ]
    }
   ],
   "source": [
    "llm = ChatOpenAI(model=\"gpt-4o-mini\")\n",
    "memory = ConversationBufferMemory(return_message=True)\n",
    "conversation = ConversationChain(\n",
    "    llm=llm,\n",
    "    memory=memory,\n",
    "    verbose=True\n",
    ")\n",
    "response1 = conversation.invoke({\"input\":\"Hi! My name is Manmath. What is your name?\"})\n",
    "print(\"AI:\", response1[\"response\"])"
   ]
  },
  {
   "cell_type": "code",
   "execution_count": 6,
   "id": "85dde744",
   "metadata": {},
   "outputs": [
    {
     "name": "stdout",
     "output_type": "stream",
     "text": [
      "\n",
      "\n",
      "\u001b[1m> Entering new ConversationChain chain...\u001b[0m\n",
      "Prompt after formatting:\n",
      "\u001b[32;1m\u001b[1;3mThe following is a friendly conversation between a human and an AI. The AI is talkative and provides lots of specific details from its context. If the AI does not know the answer to a question, it truthfully says it does not know.\n",
      "\n",
      "Current conversation:\n",
      "Human: Hi! My name is Manmath. What is your name?\n",
      "AI: Hello, Manmath! I'm an AI, and I don’t have a personal name like humans do, but you can call me AI or any name you prefer! I'm here to chat and help you with anything you need. How's your day going so far?\n",
      "Human: What is my name?\n",
      "AI:\u001b[0m\n",
      "\n",
      "\u001b[1m> Finished chain.\u001b[0m\n",
      "AI: Your name is Manmath! It's nice to chat with you, Manmath. What would you like to talk about today?\n"
     ]
    }
   ],
   "source": [
    "response2 = conversation.invoke({\"input\":\"What is my name?\"})\n",
    "print(\"AI:\", response2[\"response\"])"
   ]
  }
 ],
 "metadata": {
  "kernelspec": {
   "display_name": "ai_agents",
   "language": "python",
   "name": "python3"
  },
  "language_info": {
   "codemirror_mode": {
    "name": "ipython",
    "version": 3
   },
   "file_extension": ".py",
   "mimetype": "text/x-python",
   "name": "python",
   "nbconvert_exporter": "python",
   "pygments_lexer": "ipython3",
   "version": "3.11.13"
  }
 },
 "nbformat": 4,
 "nbformat_minor": 5
}
