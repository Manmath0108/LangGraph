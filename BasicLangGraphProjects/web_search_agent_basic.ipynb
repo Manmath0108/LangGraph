{
 "cells": [
  {
   "cell_type": "code",
   "execution_count": 2,
   "id": "361dca14",
   "metadata": {},
   "outputs": [
    {
     "name": "stdout",
     "output_type": "stream",
     "text": [
      "Set up done\n"
     ]
    }
   ],
   "source": [
    "from typing import List, Dict, Any, Annotated\n",
    "from typing_extensions import TypedDict\n",
    "import datetime\n",
    "import pprint\n",
    "from langchain_core.messages import AIMessage, HumanMessage\n",
    "\n",
    "pp = pprint.pprint\n",
    "\n",
    "# class HumanMessage:\n",
    "#     def __init__(self, content: str):\n",
    "#         self.content = content\n",
    "\n",
    "# class AIMessage:\n",
    "#     def __init__(self, content: str):\n",
    "#         self.content = content\n",
    "\n",
    "print(\"Set up done\")"
   ]
  },
  {
   "cell_type": "code",
   "execution_count": 3,
   "id": "ffa09a7d",
   "metadata": {},
   "outputs": [
    {
     "name": "stdout",
     "output_type": "stream",
     "text": [
      "{'analysis': {},\n",
      " 'fetched_pages': [],\n",
      " 'messages': [HumanMessage(content='Analyze competitor AcmeCorp pricing and features', additional_kwargs={}, response_metadata={})],\n",
      " 'search_results': [],\n",
      " 'summaries': [],\n",
      " 'user_info': {}}\n"
     ]
    }
   ],
   "source": [
    "class State(TypedDict):\n",
    "    messages: List[Any]\n",
    "    user_info: Dict[str, Any]\n",
    "    search_results: List[Dict[str, Any]]\n",
    "    fetched_pages: List[Dict[str, Any]]\n",
    "    summmaries: List[Dict[str, Any]]\n",
    "    analysis: Dict[str, Any]\n",
    "\n",
    "state: State = {\n",
    "    \"messages\": [HumanMessage(content= \"Analyze competitor AcmeCorp pricing and features\")],\n",
    "    \"user_info\": {},\n",
    "    \"search_results\": [],\n",
    "    \"fetched_pages\": [],\n",
    "    \"summaries\": [],\n",
    "    \"analysis\": {}\n",
    "}\n",
    "\n",
    "pp(state)"
   ]
  },
  {
   "cell_type": "code",
   "execution_count": 4,
   "id": "2587248e",
   "metadata": {},
   "outputs": [
    {
     "name": "stdout",
     "output_type": "stream",
     "text": [
      "Analyze competitor AcmeCorp pricing and features\n",
      "[{'title': 'Competitor News', 'url': 'https://example.com/competitor-news'},\n",
      " {'title': 'Competitor Pricing', 'url': 'https://example.com/pricing'}]\n"
     ]
    }
   ],
   "source": [
    "def search_web(state: State) -> Dict[str, Any]:\n",
    "    \"\"\"\n",
    "    Pretend to search the web for the user's query.\n",
    "    Instead of calling a real API, we return a fixed list of 2 fake results\n",
    "    \"\"\"\n",
    "    query = state['messages'][-1].content.strip()\n",
    "\n",
    "    results = [\n",
    "        {\"url\": \"https://example.com/competitor-news\", \"title\": \"Competitor News\"},\n",
    "        {\"url\": \"https://example.com/pricing\", \"title\": \"Competitor Pricing\"},\n",
    "    ]\n",
    "\n",
    "    state['search_results'] = results\n",
    "\n",
    "    ai_msg = AIMessage(content=f\"Found {len(results)} for '{query}'\")\n",
    "\n",
    "    return {\"messages\": [ai_msg], **state}\n",
    "\n",
    "out = search_web(state)\n",
    "print(out['messages'][0].content)\n",
    "pp(out['search_results'])"
   ]
  },
  {
   "cell_type": "code",
   "execution_count": 5,
   "id": "d9a19868",
   "metadata": {},
   "outputs": [
    {
     "name": "stdout",
     "output_type": "stream",
     "text": [
      "Analyze competitor AcmeCorp pricing and features\n",
      "[{'html': '<html><body><h1>Competitor News</h1><p>Sample content from '\n",
      "          'https://example.com/competitor-news</p></body></html>',\n",
      "  'source': 'fetched',\n",
      "  'title': 'Competitor News',\n",
      "  'url': 'https://example.com/competitor-news'},\n",
      " {'html': '<html><body><h1>Competitor Pricing</h1><p>Sample content from '\n",
      "          'https://example.com/pricing</p></body></html>',\n",
      "  'source': 'fetched',\n",
      "  'title': 'Competitor Pricing',\n",
      "  'url': 'https://example.com/pricing'}]\n"
     ]
    }
   ],
   "source": [
    "import time\n",
    "\n",
    "FETCH_CACHE = {}\n",
    "\n",
    "def fetch_pages(state: State) -> Dict[str, Any]:\n",
    "    \"\"\"\n",
    "    Simulates fetching the content of each 'search_results' URL.\n",
    "    Creates a tiny HTML snippet for each URL and marks whether it came from cache or simulated fetch.\n",
    "    \"\"\"\n",
    "    fetched = []\n",
    "    for r in state.get('search_results', []):\n",
    "        url = r['url']\n",
    "        title = r['title']\n",
    "\n",
    "        if url in FETCH_CACHE:\n",
    "            content = FETCH_CACHE[url]\n",
    "            source = \"cache\"\n",
    "        else:\n",
    "            content = f\"<html><body><h1>{title}</h1><p>Sample content from {url}</p></body></html>\"\n",
    "            FETCH_CACHE[url] = content\n",
    "            source = \"fetched\"\n",
    "            time.sleep(0.1)\n",
    "\n",
    "        fetched.append({\n",
    "            \"url\": url,\n",
    "            \"title\": title,\n",
    "            \"html\": content[:500],\n",
    "            \"source\": source\n",
    "        })\n",
    "    state['fetched_pages'] = fetched\n",
    "    ai_msg = AIMessage(content=f\"Fetched {len(fetched)} pages (simulated).\")\n",
    "    return {\"messages\": [ai_msg], **state}\n",
    "\n",
    "out2 = fetch_pages(out)\n",
    "print(out2['messages'][0].content)\n",
    "pp(out2['fetched_pages'])\n",
    "    \n",
    "\n",
    "\n"
   ]
  },
  {
   "cell_type": "code",
   "execution_count": 7,
   "id": "1ec4fc83",
   "metadata": {},
   "outputs": [
    {
     "name": "stdout",
     "output_type": "stream",
     "text": [
      "Analyze competitor AcmeCorp pricing and features\n",
      "[{'summary': 'Competitor News - short summary (source: '\n",
      "             'example.com/competitor-news)',\n",
      "  'url': 'https://example.com/competitor-news'},\n",
      " {'summary': 'Competitor Pricing - short summary (source: example.com/pricing)',\n",
      "  'url': 'https://example.com/pricing'}]\n"
     ]
    }
   ],
   "source": [
    "def summarize_pages(state: State) -> Dict[str, Any]:\n",
    "    \"\"\"\n",
    "    Read state['fetched_pages'] and produce a tiny 1-line summary for each page.\n",
    "    This keeps things simple and deterministic for learning in Jupyter.\n",
    "    \"\"\"\n",
    "    fetched = state.get('fetched_pages', [])\n",
    "    summaries = []\n",
    "\n",
    "    for page in fetched:\n",
    "        title = page.get('title', 'No title')\n",
    "        url = page.get('url', '')\n",
    "\n",
    "        summary_text = f\"{title} - short summary (source: {url.split('//')[-1][:40]})\"\n",
    "        summaries.append({\"url\": url, \"summary\": summary_text})\n",
    "    state['summaries'] = summaries\n",
    "\n",
    "    ai_msg = AIMessage(content=f\"created {len(summaries)} summaries (simulated).\")\n",
    "    return {\"messages\": [ai_msg], **state}\n",
    "out3 = summarize_pages(out2)\n",
    "print(out3['messages'][0].content)\n",
    "from pprint import pprint; pprint(out3['summaries'])"
   ]
  },
  {
   "cell_type": "code",
   "execution_count": null,
   "id": "df0ffed7",
   "metadata": {},
   "outputs": [],
   "source": [
    "def analyze_competitor(state: State) -> Dict[str, Any]:\n",
    "    \"\"\"\n",
    "    Combine all summaries from state['summaries'] into a simple analysis text.\n",
    "    For learning, this is a fake analysis: we just stitch summaries together.\n",
    "    \"\"\"\n",
    "    summaries = state.get('summaries', [])\n",
    "    if not summaries:\n",
    "        analysis_text = \"No summaries availble for analysis.\"\n",
    "    else:\n",
    "        analysis_text = \"Competitor Analysis Report:\\n\"\n",
    "        for s in summaries:\n",
    "            analysis_text += f\"- From \""
   ]
  }
 ],
 "metadata": {
  "kernelspec": {
   "display_name": "ai_agents",
   "language": "python",
   "name": "python3"
  },
  "language_info": {
   "codemirror_mode": {
    "name": "ipython",
    "version": 3
   },
   "file_extension": ".py",
   "mimetype": "text/x-python",
   "name": "python",
   "nbconvert_exporter": "python",
   "pygments_lexer": "ipython3",
   "version": "3.11.13"
  }
 },
 "nbformat": 4,
 "nbformat_minor": 5
}
